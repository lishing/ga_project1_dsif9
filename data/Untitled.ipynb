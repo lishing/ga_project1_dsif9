{
 "cells": [
  {
   "cell_type": "code",
   "execution_count": 482,
   "id": "7ae4a4c8-bd35-4c47-a16e-146d624cd34c",
   "metadata": {},
   "outputs": [],
   "source": [
    "import numpy as np\n",
    "import pandas as pd\n",
    "import matplotlib.pyplot as plt\n",
    "import seaborn as sns"
   ]
  },
  {
   "cell_type": "markdown",
   "id": "d5639278-9fef-41b8-a773-874fee49c5e2",
   "metadata": {},
   "source": [
    "do the merging here first, and then transform the date time together. Then, assign them to decades"
   ]
  },
  {
   "cell_type": "code",
   "execution_count": null,
   "id": "33a374e8-b1ec-441d-b421-ae7585ffd74e",
   "metadata": {},
   "outputs": [],
   "source": [
    "# merge humid_df, temp_df and the rest into the main mega df"
   ]
  },
  {
   "cell_type": "code",
   "execution_count": 500,
   "id": "8dfa7ae1-6d15-443a-bf67-519d5bdc21f4",
   "metadata": {},
   "outputs": [],
   "source": [
    "# import all files related to weather\n",
    "dhr_df = pd.read_csv('../data/rainfall-monthly-highest-daily-total.csv')\n",
    "mtr_df = pd.read_csv('../data/rainfall-monthly-total.csv')\n",
    "nor_df = pd.read_csv('../data/rainfall-monthly-number-of-rain-days.csv')\n",
    "temp_df = pd.read_csv('../data/surface-air-temperature-monthly-mean.csv')\n",
    "humid_df = pd.read_csv('../data/relative-humidity-monthly-mean.csv')"
   ]
  },
  {
   "cell_type": "code",
   "execution_count": 501,
   "id": "43712276-ed92-4882-ba92-8c0af442cb2c",
   "metadata": {},
   "outputs": [],
   "source": [
    "merged_df = mtr_df.merge(nor_df,on=['month']).merge(dhr_df,on=['month']).merge(temp_df, on=['month']).merge(humid_df, on=['month'])"
   ]
  },
  {
   "cell_type": "code",
   "execution_count": 516,
   "id": "ad5c68d5-c644-4375-b79a-b6ad856f1723",
   "metadata": {},
   "outputs": [
    {
     "data": {
      "text/html": [
       "<div>\n",
       "<style scoped>\n",
       "    .dataframe tbody tr th:only-of-type {\n",
       "        vertical-align: middle;\n",
       "    }\n",
       "\n",
       "    .dataframe tbody tr th {\n",
       "        vertical-align: top;\n",
       "    }\n",
       "\n",
       "    .dataframe thead th {\n",
       "        text-align: right;\n",
       "    }\n",
       "</style>\n",
       "<table border=\"1\" class=\"dataframe\">\n",
       "  <thead>\n",
       "    <tr style=\"text-align: right;\">\n",
       "      <th></th>\n",
       "      <th>date</th>\n",
       "      <th>year</th>\n",
       "      <th>month</th>\n",
       "      <th>decade</th>\n",
       "      <th>season</th>\n",
       "      <th>total_rainfall</th>\n",
       "      <th>rainy_days</th>\n",
       "      <th>daily_max_rainfall</th>\n",
       "      <th>mean_temp</th>\n",
       "      <th>mean_rh</th>\n",
       "    </tr>\n",
       "  </thead>\n",
       "  <tbody>\n",
       "    <tr>\n",
       "      <th>483</th>\n",
       "      <td>2022-04-01</td>\n",
       "      <td>2022</td>\n",
       "      <td>4</td>\n",
       "      <td>20s</td>\n",
       "      <td>Inter-monsoon (Mar-May)</td>\n",
       "      <td>239.6</td>\n",
       "      <td>18</td>\n",
       "      <td>58.8</td>\n",
       "      <td>28.1</td>\n",
       "      <td>80.0</td>\n",
       "    </tr>\n",
       "    <tr>\n",
       "      <th>484</th>\n",
       "      <td>2022-05-01</td>\n",
       "      <td>2022</td>\n",
       "      <td>5</td>\n",
       "      <td>20s</td>\n",
       "      <td>Inter-monsoon (Mar-May)</td>\n",
       "      <td>102.0</td>\n",
       "      <td>12</td>\n",
       "      <td>44.6</td>\n",
       "      <td>29.2</td>\n",
       "      <td>76.5</td>\n",
       "    </tr>\n",
       "    <tr>\n",
       "      <th>485</th>\n",
       "      <td>2022-06-01</td>\n",
       "      <td>2022</td>\n",
       "      <td>6</td>\n",
       "      <td>20s</td>\n",
       "      <td>Southwest Monsoon (Jun-Sept)</td>\n",
       "      <td>211.8</td>\n",
       "      <td>17</td>\n",
       "      <td>59.4</td>\n",
       "      <td>27.9</td>\n",
       "      <td>79.1</td>\n",
       "    </tr>\n",
       "    <tr>\n",
       "      <th>486</th>\n",
       "      <td>2022-07-01</td>\n",
       "      <td>2022</td>\n",
       "      <td>7</td>\n",
       "      <td>20s</td>\n",
       "      <td>Southwest Monsoon (Jun-Sept)</td>\n",
       "      <td>145.2</td>\n",
       "      <td>16</td>\n",
       "      <td>27.8</td>\n",
       "      <td>28.6</td>\n",
       "      <td>76.8</td>\n",
       "    </tr>\n",
       "    <tr>\n",
       "      <th>487</th>\n",
       "      <td>2022-08-01</td>\n",
       "      <td>2022</td>\n",
       "      <td>8</td>\n",
       "      <td>20s</td>\n",
       "      <td>Southwest Monsoon (Jun-Sept)</td>\n",
       "      <td>141.4</td>\n",
       "      <td>15</td>\n",
       "      <td>32.4</td>\n",
       "      <td>28.1</td>\n",
       "      <td>77.4</td>\n",
       "    </tr>\n",
       "  </tbody>\n",
       "</table>\n",
       "</div>"
      ],
      "text/plain": [
       "          date  year  month decade                        season  \\\n",
       "483 2022-04-01  2022      4    20s       Inter-monsoon (Mar-May)   \n",
       "484 2022-05-01  2022      5    20s       Inter-monsoon (Mar-May)   \n",
       "485 2022-06-01  2022      6    20s  Southwest Monsoon (Jun-Sept)   \n",
       "486 2022-07-01  2022      7    20s  Southwest Monsoon (Jun-Sept)   \n",
       "487 2022-08-01  2022      8    20s  Southwest Monsoon (Jun-Sept)   \n",
       "\n",
       "     total_rainfall  rainy_days  daily_max_rainfall  mean_temp  mean_rh  \n",
       "483           239.6          18                58.8       28.1     80.0  \n",
       "484           102.0          12                44.6       29.2     76.5  \n",
       "485           211.8          17                59.4       27.9     79.1  \n",
       "486           145.2          16                27.8       28.6     76.8  \n",
       "487           141.4          15                32.4       28.1     77.4  "
      ]
     },
     "execution_count": 516,
     "metadata": {},
     "output_type": "execute_result"
    }
   ],
   "source": [
    "merged_df.tail()"
   ]
  },
  {
   "cell_type": "code",
   "execution_count": 503,
   "id": "657e9714-cdd1-4191-9cd7-e0784fe3d9c8",
   "metadata": {},
   "outputs": [
    {
     "name": "stdout",
     "output_type": "stream",
     "text": [
      "<class 'pandas.core.frame.DataFrame'>\n",
      "Int64Index: 488 entries, 0 to 487\n",
      "Data columns (total 6 columns):\n",
      " #   Column                     Non-Null Count  Dtype  \n",
      "---  ------                     --------------  -----  \n",
      " 0   month                      488 non-null    object \n",
      " 1   total_rainfall             488 non-null    float64\n",
      " 2   no_of_rainy_days           488 non-null    int64  \n",
      " 3   maximum_rainfall_in_a_day  488 non-null    float64\n",
      " 4   mean_temp                  488 non-null    float64\n",
      " 5   mean_rh                    488 non-null    float64\n",
      "dtypes: float64(4), int64(1), object(1)\n",
      "memory usage: 26.7+ KB\n"
     ]
    }
   ],
   "source": [
    "merged_df.info()"
   ]
  },
  {
   "cell_type": "code",
   "execution_count": 504,
   "id": "08cb813a-601f-4103-90d2-27bbf89226b7",
   "metadata": {},
   "outputs": [],
   "source": [
    "# convert to datetime format\n",
    "merged_df['date']=pd.to_datetime(merged_df['month'])\n",
    "\n",
    "# split into year and month\n",
    "merged_df['year'] = merged_df['date'].dt.year\n",
    "merged_df['month'] = merged_df['date'].dt.month"
   ]
  },
  {
   "cell_type": "code",
   "execution_count": 505,
   "id": "2ee77fb2-8c17-403a-8af8-fa3ded27327f",
   "metadata": {},
   "outputs": [],
   "source": [
    "# group months into into monsoon seasons\n",
    "\n",
    "def monsoon_status(merged_df):\n",
    "    if merged_df['month'] == 12 or merged_df['month'] == 1 or merged_df['month'] == 2:\n",
    "        return 'Northeast Monsoon (Dec-Feb)'\n",
    "    elif merged_df['month'] == 6 or merged_df['month'] == 7 or merged_df['month'] == 8 or merged_df['month']== 9:\n",
    "        return 'Southwest Monsoon (Jun-Sept)'\n",
    "    elif merged_df['month'] == 10 or merged_df['month'] == 11:\n",
    "        return 'Inter-monsoon (Oct - Nov)'\n",
    "    else:\n",
    "        return 'Inter-monsoon (Mar-May)'\n",
    "\n",
    "merged_df['season'] = merged_df.apply(monsoon_status, axis = 1)"
   ]
  },
  {
   "cell_type": "code",
   "execution_count": 506,
   "id": "131c1485-78a4-414b-b587-89a53acb41d2",
   "metadata": {},
   "outputs": [],
   "source": [
    "# group years into decades\n",
    "\n",
    "def decade(merged_df):\n",
    "    if merged_df['year'] < 1990:\n",
    "        return '80s'\n",
    "    elif merged_df['year'] >= 1990 and merged_df['year'] < 2000:\n",
    "        return '90s'\n",
    "    elif merged_df['year'] >= 2000 and merged_df['year'] < 2010:\n",
    "        return '00s'\n",
    "    elif merged_df['year'] >= 2010 and merged_df['year'] < 2020:\n",
    "        return '10s'\n",
    "    else:\n",
    "        return '20s'\n",
    "\n",
    "merged_df['decade'] = merged_df.apply(decade, axis = 1)"
   ]
  },
  {
   "cell_type": "code",
   "execution_count": 508,
   "id": "4f964fc9-d009-41de-80ba-93b1efad456d",
   "metadata": {},
   "outputs": [],
   "source": [
    "# rename the columns\n",
    "new_columns_dict = {\n",
    "    'maximum_rainfall_in_a_day': 'daily_max_rainfall',\n",
    "    'no_of_rainy_days': 'rainy_days',\n",
    "}\n",
    "\n",
    "# assign new column names\n",
    "merged_df.rename(columns = new_columns_dict, inplace=True) "
   ]
  },
  {
   "cell_type": "code",
   "execution_count": 514,
   "id": "dcdc24e2-d2f6-49b1-ad6a-550fac032639",
   "metadata": {},
   "outputs": [
    {
     "data": {
      "text/html": [
       "<div>\n",
       "<style scoped>\n",
       "    .dataframe tbody tr th:only-of-type {\n",
       "        vertical-align: middle;\n",
       "    }\n",
       "\n",
       "    .dataframe tbody tr th {\n",
       "        vertical-align: top;\n",
       "    }\n",
       "\n",
       "    .dataframe thead th {\n",
       "        text-align: right;\n",
       "    }\n",
       "</style>\n",
       "<table border=\"1\" class=\"dataframe\">\n",
       "  <thead>\n",
       "    <tr style=\"text-align: right;\">\n",
       "      <th></th>\n",
       "      <th>date</th>\n",
       "      <th>year</th>\n",
       "      <th>month</th>\n",
       "      <th>decade</th>\n",
       "      <th>season</th>\n",
       "      <th>total_rainfall</th>\n",
       "      <th>rainy_days</th>\n",
       "      <th>daily_max_rainfall</th>\n",
       "      <th>mean_temp</th>\n",
       "      <th>mean_rh</th>\n",
       "    </tr>\n",
       "  </thead>\n",
       "  <tbody>\n",
       "    <tr>\n",
       "      <th>0</th>\n",
       "      <td>1982-01-01</td>\n",
       "      <td>1982</td>\n",
       "      <td>1</td>\n",
       "      <td>80s</td>\n",
       "      <td>Northeast Monsoon (Dec-Feb)</td>\n",
       "      <td>107.1</td>\n",
       "      <td>10</td>\n",
       "      <td>36.5</td>\n",
       "      <td>25.9</td>\n",
       "      <td>81.2</td>\n",
       "    </tr>\n",
       "    <tr>\n",
       "      <th>1</th>\n",
       "      <td>1982-02-01</td>\n",
       "      <td>1982</td>\n",
       "      <td>2</td>\n",
       "      <td>80s</td>\n",
       "      <td>Northeast Monsoon (Dec-Feb)</td>\n",
       "      <td>27.8</td>\n",
       "      <td>5</td>\n",
       "      <td>9.4</td>\n",
       "      <td>27.1</td>\n",
       "      <td>79.5</td>\n",
       "    </tr>\n",
       "    <tr>\n",
       "      <th>2</th>\n",
       "      <td>1982-03-01</td>\n",
       "      <td>1982</td>\n",
       "      <td>3</td>\n",
       "      <td>80s</td>\n",
       "      <td>Inter-monsoon (Mar-May)</td>\n",
       "      <td>160.8</td>\n",
       "      <td>11</td>\n",
       "      <td>61.7</td>\n",
       "      <td>27.2</td>\n",
       "      <td>82.3</td>\n",
       "    </tr>\n",
       "    <tr>\n",
       "      <th>3</th>\n",
       "      <td>1982-04-01</td>\n",
       "      <td>1982</td>\n",
       "      <td>4</td>\n",
       "      <td>80s</td>\n",
       "      <td>Inter-monsoon (Mar-May)</td>\n",
       "      <td>157.0</td>\n",
       "      <td>14</td>\n",
       "      <td>45.1</td>\n",
       "      <td>27.0</td>\n",
       "      <td>85.9</td>\n",
       "    </tr>\n",
       "    <tr>\n",
       "      <th>4</th>\n",
       "      <td>1982-05-01</td>\n",
       "      <td>1982</td>\n",
       "      <td>5</td>\n",
       "      <td>80s</td>\n",
       "      <td>Inter-monsoon (Mar-May)</td>\n",
       "      <td>102.2</td>\n",
       "      <td>10</td>\n",
       "      <td>33.0</td>\n",
       "      <td>28.0</td>\n",
       "      <td>83.2</td>\n",
       "    </tr>\n",
       "  </tbody>\n",
       "</table>\n",
       "</div>"
      ],
      "text/plain": [
       "        date  year  month decade                       season  total_rainfall  \\\n",
       "0 1982-01-01  1982      1    80s  Northeast Monsoon (Dec-Feb)           107.1   \n",
       "1 1982-02-01  1982      2    80s  Northeast Monsoon (Dec-Feb)            27.8   \n",
       "2 1982-03-01  1982      3    80s      Inter-monsoon (Mar-May)           160.8   \n",
       "3 1982-04-01  1982      4    80s      Inter-monsoon (Mar-May)           157.0   \n",
       "4 1982-05-01  1982      5    80s      Inter-monsoon (Mar-May)           102.2   \n",
       "\n",
       "   rainy_days  daily_max_rainfall  mean_temp  mean_rh  \n",
       "0          10                36.5       25.9     81.2  \n",
       "1           5                 9.4       27.1     79.5  \n",
       "2          11                61.7       27.2     82.3  \n",
       "3          14                45.1       27.0     85.9  \n",
       "4          10                33.0       28.0     83.2  "
      ]
     },
     "execution_count": 514,
     "metadata": {},
     "output_type": "execute_result"
    }
   ],
   "source": [
    "merged_df.head()"
   ]
  },
  {
   "cell_type": "code",
   "execution_count": 513,
   "id": "bfe9fa28-f412-4438-ba8c-c7e35803b6b0",
   "metadata": {},
   "outputs": [],
   "source": [
    "# rearrange the columns\n",
    "\n",
    "merged_df_columns = ['date', 'year', 'month', 'decade', 'season', 'total_rainfall', 'rainy_days', 'daily_max_rainfall', \n",
    "                     'mean_temp', 'mean_rh',]\n",
    "\n",
    "merged_df = merged_df[merged_df_columns]"
   ]
  },
  {
   "cell_type": "code",
   "execution_count": 515,
   "id": "2470bed1-0fab-43d2-8a8b-fa0c554ae59b",
   "metadata": {},
   "outputs": [],
   "source": [
    "# save this into a csv file\n",
    "\n",
    "merged_df.to_csv('../data/merged_data.csv')"
   ]
  },
  {
   "cell_type": "code",
   "execution_count": null,
   "id": "7bed21bd-2a07-4a04-9dde-92e1bd29077a",
   "metadata": {},
   "outputs": [],
   "source": []
  },
  {
   "cell_type": "code",
   "execution_count": null,
   "id": "8c5038ed-94dc-4e27-8a58-22436ee7a334",
   "metadata": {},
   "outputs": [],
   "source": []
  },
  {
   "cell_type": "code",
   "execution_count": null,
   "id": "08601ec1-ce33-4f45-8184-4e5e0f485e3d",
   "metadata": {},
   "outputs": [],
   "source": []
  },
  {
   "cell_type": "code",
   "execution_count": null,
   "id": "0ab6325e-d7d4-4346-9ac0-2f3b6f60e135",
   "metadata": {},
   "outputs": [],
   "source": []
  },
  {
   "cell_type": "code",
   "execution_count": null,
   "id": "b9afc5d9-8796-447b-9778-6c25ea9fefe4",
   "metadata": {},
   "outputs": [],
   "source": []
  },
  {
   "cell_type": "code",
   "execution_count": null,
   "id": "dad250be-662b-401b-8d8c-e30e85f7d349",
   "metadata": {},
   "outputs": [],
   "source": [
    "# data dictionary additions"
   ]
  },
  {
   "cell_type": "code",
   "execution_count": null,
   "id": "7a849e66-ad49-43df-8643-305c087d6e70",
   "metadata": {},
   "outputs": [],
   "source": [
    "# eda should be stable, so don't have to redo"
   ]
  },
  {
   "cell_type": "code",
   "execution_count": null,
   "id": "7e7f6846-fd67-4de9-9ad4-4f6dc883a6ce",
   "metadata": {},
   "outputs": [],
   "source": [
    "# do a few charts - previous ones are ok. make sure all titles are there"
   ]
  },
  {
   "cell_type": "code",
   "execution_count": null,
   "id": "b55ef7a1-15fe-4ce3-8bd9-16792acc2304",
   "metadata": {},
   "outputs": [],
   "source": []
  },
  {
   "cell_type": "code",
   "execution_count": null,
   "id": "48b73c9b-2c70-47a2-ab6e-a1bf47ebbe0a",
   "metadata": {},
   "outputs": [],
   "source": [
    "# do the flu table merge column and save under a new df"
   ]
  },
  {
   "cell_type": "code",
   "execution_count": null,
   "id": "012a47a2-29cc-40f7-b811-59f66b4034d6",
   "metadata": {},
   "outputs": [],
   "source": [
    "# do the tourists charts as well, and save under another df"
   ]
  },
  {
   "cell_type": "code",
   "execution_count": null,
   "id": "fbb8c834-c926-4e29-8427-aad55d37e1e0",
   "metadata": {},
   "outputs": [],
   "source": [
    "# do a corr for the two dfs"
   ]
  },
  {
   "cell_type": "code",
   "execution_count": null,
   "id": "75d10e6e-446c-43c3-9c72-a004df976e3e",
   "metadata": {},
   "outputs": [],
   "source": []
  },
  {
   "cell_type": "code",
   "execution_count": null,
   "id": "406b87a0-369c-45ef-adae-3bc3f61c9c84",
   "metadata": {},
   "outputs": [],
   "source": []
  },
  {
   "cell_type": "code",
   "execution_count": null,
   "id": "86a7455c-0c38-4dba-84b0-0ee64beaa437",
   "metadata": {},
   "outputs": [],
   "source": []
  },
  {
   "cell_type": "code",
   "execution_count": null,
   "id": "cd62e7f1-64d0-41f7-81a2-73238e3ac73d",
   "metadata": {},
   "outputs": [],
   "source": []
  },
  {
   "cell_type": "code",
   "execution_count": null,
   "id": "6f7c8e87-632c-440a-bbce-4bfe0d7a48db",
   "metadata": {},
   "outputs": [],
   "source": []
  },
  {
   "cell_type": "code",
   "execution_count": null,
   "id": "5360bc5a-ef94-4cee-b4b8-245605fffb30",
   "metadata": {},
   "outputs": [],
   "source": []
  },
  {
   "cell_type": "code",
   "execution_count": null,
   "id": "e7addbae-0908-40b1-8648-972d2d754c54",
   "metadata": {},
   "outputs": [],
   "source": []
  },
  {
   "cell_type": "code",
   "execution_count": 437,
   "id": "bd5051b3-a1e6-48ca-a88c-0ebbca7643e3",
   "metadata": {
    "tags": []
   },
   "outputs": [],
   "source": [
    "flu_df = pd.read_csv('../data/epidemic-curve.csv')"
   ]
  },
  {
   "cell_type": "code",
   "execution_count": 421,
   "id": "2f6a7664-f53f-41a3-8448-b8bac99e26df",
   "metadata": {},
   "outputs": [
    {
     "data": {
      "text/html": [
       "<div>\n",
       "<style scoped>\n",
       "    .dataframe tbody tr th:only-of-type {\n",
       "        vertical-align: middle;\n",
       "    }\n",
       "\n",
       "    .dataframe tbody tr th {\n",
       "        vertical-align: top;\n",
       "    }\n",
       "\n",
       "    .dataframe thead th {\n",
       "        text-align: right;\n",
       "    }\n",
       "</style>\n",
       "<table border=\"1\" class=\"dataframe\">\n",
       "  <thead>\n",
       "    <tr style=\"text-align: right;\">\n",
       "      <th></th>\n",
       "      <th>date</th>\n",
       "      <th>type</th>\n",
       "      <th>value</th>\n",
       "    </tr>\n",
       "  </thead>\n",
       "  <tbody>\n",
       "    <tr>\n",
       "      <th>0</th>\n",
       "      <td>2020-01-23</td>\n",
       "      <td>Imported</td>\n",
       "      <td>1</td>\n",
       "    </tr>\n",
       "    <tr>\n",
       "      <th>1</th>\n",
       "      <td>2020-01-23</td>\n",
       "      <td>Local</td>\n",
       "      <td>0</td>\n",
       "    </tr>\n",
       "    <tr>\n",
       "      <th>2</th>\n",
       "      <td>2020-01-24</td>\n",
       "      <td>Imported</td>\n",
       "      <td>2</td>\n",
       "    </tr>\n",
       "    <tr>\n",
       "      <th>3</th>\n",
       "      <td>2020-01-24</td>\n",
       "      <td>Local</td>\n",
       "      <td>0</td>\n",
       "    </tr>\n",
       "    <tr>\n",
       "      <th>4</th>\n",
       "      <td>2020-01-25</td>\n",
       "      <td>Imported</td>\n",
       "      <td>1</td>\n",
       "    </tr>\n",
       "  </tbody>\n",
       "</table>\n",
       "</div>"
      ],
      "text/plain": [
       "         date      type  value\n",
       "0  2020-01-23  Imported      1\n",
       "1  2020-01-23     Local      0\n",
       "2  2020-01-24  Imported      2\n",
       "3  2020-01-24     Local      0\n",
       "4  2020-01-25  Imported      1"
      ]
     },
     "execution_count": 421,
     "metadata": {},
     "output_type": "execute_result"
    }
   ],
   "source": [
    "flu_df.head()"
   ]
  },
  {
   "cell_type": "code",
   "execution_count": 422,
   "id": "8dd3b61e-fe96-4c34-98b9-468848d1357f",
   "metadata": {},
   "outputs": [
    {
     "name": "stdout",
     "output_type": "stream",
     "text": [
      "<class 'pandas.core.frame.DataFrame'>\n",
      "RangeIndex: 2106 entries, 0 to 2105\n",
      "Data columns (total 3 columns):\n",
      " #   Column  Non-Null Count  Dtype \n",
      "---  ------  --------------  ----- \n",
      " 0   date    2106 non-null   object\n",
      " 1   type    2106 non-null   object\n",
      " 2   value   2106 non-null   int64 \n",
      "dtypes: int64(1), object(2)\n",
      "memory usage: 49.5+ KB\n"
     ]
    }
   ],
   "source": [
    "flu_df.info()"
   ]
  },
  {
   "cell_type": "code",
   "execution_count": 18,
   "id": "fcb3b025-5845-4b05-9785-5146153bde57",
   "metadata": {},
   "outputs": [
    {
     "data": {
      "text/plain": [
       "(2106, 3)"
      ]
     },
     "execution_count": 18,
     "metadata": {},
     "output_type": "execute_result"
    }
   ],
   "source": [
    "flu_df.shape"
   ]
  },
  {
   "cell_type": "code",
   "execution_count": 14,
   "id": "b35ac830-e214-4aac-9524-de68680d35cb",
   "metadata": {},
   "outputs": [
    {
     "name": "stdout",
     "output_type": "stream",
     "text": [
      "<class 'pandas.core.frame.DataFrame'>\n",
      "RangeIndex: 2106 entries, 0 to 2105\n",
      "Data columns (total 3 columns):\n",
      " #   Column  Non-Null Count  Dtype         \n",
      "---  ------  --------------  -----         \n",
      " 0   date    2106 non-null   datetime64[ns]\n",
      " 1   type    2106 non-null   object        \n",
      " 2   value   2106 non-null   int64         \n",
      "dtypes: datetime64[ns](1), int64(1), object(1)\n",
      "memory usage: 49.5+ KB\n"
     ]
    }
   ],
   "source": [
    "flu_df.info()"
   ]
  },
  {
   "cell_type": "code",
   "execution_count": 438,
   "id": "c3e5bded-adcc-456b-9293-3035fb829cb4",
   "metadata": {},
   "outputs": [
    {
     "data": {
      "text/plain": [
       "date     1053\n",
       "type     1053\n",
       "value    1053\n",
       "dtype: int64"
      ]
     },
     "execution_count": 438,
     "metadata": {},
     "output_type": "execute_result"
    }
   ],
   "source": [
    "flu_df[flu_df['type']=='Imported'].count()"
   ]
  },
  {
   "cell_type": "code",
   "execution_count": 439,
   "id": "21329fc7-836c-451c-9b43-b142a89ea1db",
   "metadata": {},
   "outputs": [],
   "source": [
    "columns = ['Local','Imported']"
   ]
  },
  {
   "cell_type": "code",
   "execution_count": 31,
   "id": "718c54e1-c23d-4313-ad97-1b379b440598",
   "metadata": {},
   "outputs": [
    {
     "data": {
      "text/plain": [
       "['Local', 'Imported']"
      ]
     },
     "execution_count": 31,
     "metadata": {},
     "output_type": "execute_result"
    }
   ],
   "source": [
    "columns"
   ]
  },
  {
   "cell_type": "code",
   "execution_count": 440,
   "id": "50d33d63-0bf9-4b04-9156-210182656ae1",
   "metadata": {},
   "outputs": [
    {
     "data": {
      "text/html": [
       "<div>\n",
       "<style scoped>\n",
       "    .dataframe tbody tr th:only-of-type {\n",
       "        vertical-align: middle;\n",
       "    }\n",
       "\n",
       "    .dataframe tbody tr th {\n",
       "        vertical-align: top;\n",
       "    }\n",
       "\n",
       "    .dataframe thead th {\n",
       "        text-align: right;\n",
       "    }\n",
       "</style>\n",
       "<table border=\"1\" class=\"dataframe\">\n",
       "  <thead>\n",
       "    <tr style=\"text-align: right;\">\n",
       "      <th></th>\n",
       "      <th>date</th>\n",
       "      <th>type</th>\n",
       "      <th>value</th>\n",
       "    </tr>\n",
       "  </thead>\n",
       "  <tbody>\n",
       "    <tr>\n",
       "      <th>0</th>\n",
       "      <td>2020-01-23</td>\n",
       "      <td>Imported</td>\n",
       "      <td>1</td>\n",
       "    </tr>\n",
       "    <tr>\n",
       "      <th>1</th>\n",
       "      <td>2020-01-23</td>\n",
       "      <td>Local</td>\n",
       "      <td>0</td>\n",
       "    </tr>\n",
       "    <tr>\n",
       "      <th>2</th>\n",
       "      <td>2020-01-24</td>\n",
       "      <td>Imported</td>\n",
       "      <td>2</td>\n",
       "    </tr>\n",
       "    <tr>\n",
       "      <th>3</th>\n",
       "      <td>2020-01-24</td>\n",
       "      <td>Local</td>\n",
       "      <td>0</td>\n",
       "    </tr>\n",
       "    <tr>\n",
       "      <th>4</th>\n",
       "      <td>2020-01-25</td>\n",
       "      <td>Imported</td>\n",
       "      <td>1</td>\n",
       "    </tr>\n",
       "  </tbody>\n",
       "</table>\n",
       "</div>"
      ],
      "text/plain": [
       "         date      type  value\n",
       "0  2020-01-23  Imported      1\n",
       "1  2020-01-23     Local      0\n",
       "2  2020-01-24  Imported      2\n",
       "3  2020-01-24     Local      0\n",
       "4  2020-01-25  Imported      1"
      ]
     },
     "execution_count": 440,
     "metadata": {},
     "output_type": "execute_result"
    }
   ],
   "source": [
    "flu_df.head()"
   ]
  },
  {
   "cell_type": "code",
   "execution_count": 441,
   "id": "e909ca84-61fe-41de-8f41-3b049440c20c",
   "metadata": {},
   "outputs": [],
   "source": [
    "flu_df = flu_df.pivot(index=\"date\", columns='type', values=\"value\").reset_index()"
   ]
  },
  {
   "cell_type": "code",
   "execution_count": 427,
   "id": "ee115c8b-e7ed-42a3-be61-765390d2aef9",
   "metadata": {},
   "outputs": [
    {
     "data": {
      "text/html": [
       "<div>\n",
       "<style scoped>\n",
       "    .dataframe tbody tr th:only-of-type {\n",
       "        vertical-align: middle;\n",
       "    }\n",
       "\n",
       "    .dataframe tbody tr th {\n",
       "        vertical-align: top;\n",
       "    }\n",
       "\n",
       "    .dataframe thead th {\n",
       "        text-align: right;\n",
       "    }\n",
       "</style>\n",
       "<table border=\"1\" class=\"dataframe\">\n",
       "  <thead>\n",
       "    <tr style=\"text-align: right;\">\n",
       "      <th>type</th>\n",
       "      <th>date</th>\n",
       "      <th>Imported</th>\n",
       "      <th>Local</th>\n",
       "    </tr>\n",
       "  </thead>\n",
       "  <tbody>\n",
       "    <tr>\n",
       "      <th>0</th>\n",
       "      <td>2020-01-23</td>\n",
       "      <td>1</td>\n",
       "      <td>0</td>\n",
       "    </tr>\n",
       "    <tr>\n",
       "      <th>1</th>\n",
       "      <td>2020-01-24</td>\n",
       "      <td>2</td>\n",
       "      <td>0</td>\n",
       "    </tr>\n",
       "    <tr>\n",
       "      <th>2</th>\n",
       "      <td>2020-01-25</td>\n",
       "      <td>1</td>\n",
       "      <td>0</td>\n",
       "    </tr>\n",
       "    <tr>\n",
       "      <th>3</th>\n",
       "      <td>2020-01-26</td>\n",
       "      <td>0</td>\n",
       "      <td>0</td>\n",
       "    </tr>\n",
       "    <tr>\n",
       "      <th>4</th>\n",
       "      <td>2020-01-27</td>\n",
       "      <td>1</td>\n",
       "      <td>0</td>\n",
       "    </tr>\n",
       "  </tbody>\n",
       "</table>\n",
       "</div>"
      ],
      "text/plain": [
       "type       date  Imported  Local\n",
       "0    2020-01-23         1      0\n",
       "1    2020-01-24         2      0\n",
       "2    2020-01-25         1      0\n",
       "3    2020-01-26         0      0\n",
       "4    2020-01-27         1      0"
      ]
     },
     "execution_count": 427,
     "metadata": {},
     "output_type": "execute_result"
    }
   ],
   "source": [
    "flu_df.head()"
   ]
  },
  {
   "cell_type": "code",
   "execution_count": 442,
   "id": "480600c8-15da-4f23-8f5e-0b08f83e0836",
   "metadata": {},
   "outputs": [],
   "source": [
    "# create a new column of total_cases\n",
    "flu_df['total_cases'] = [x + y for x, y in zip(flu_df['Imported'], flu_df['Local'])]"
   ]
  },
  {
   "cell_type": "code",
   "execution_count": 429,
   "id": "60ac493b-5da0-4eb2-8ab8-3bad990ca289",
   "metadata": {},
   "outputs": [
    {
     "data": {
      "text/html": [
       "<div>\n",
       "<style scoped>\n",
       "    .dataframe tbody tr th:only-of-type {\n",
       "        vertical-align: middle;\n",
       "    }\n",
       "\n",
       "    .dataframe tbody tr th {\n",
       "        vertical-align: top;\n",
       "    }\n",
       "\n",
       "    .dataframe thead th {\n",
       "        text-align: right;\n",
       "    }\n",
       "</style>\n",
       "<table border=\"1\" class=\"dataframe\">\n",
       "  <thead>\n",
       "    <tr style=\"text-align: right;\">\n",
       "      <th>type</th>\n",
       "      <th>date</th>\n",
       "      <th>Imported</th>\n",
       "      <th>Local</th>\n",
       "      <th>total_cases</th>\n",
       "    </tr>\n",
       "  </thead>\n",
       "  <tbody>\n",
       "    <tr>\n",
       "      <th>0</th>\n",
       "      <td>2020-01-23</td>\n",
       "      <td>1</td>\n",
       "      <td>0</td>\n",
       "      <td>1</td>\n",
       "    </tr>\n",
       "    <tr>\n",
       "      <th>1</th>\n",
       "      <td>2020-01-24</td>\n",
       "      <td>2</td>\n",
       "      <td>0</td>\n",
       "      <td>2</td>\n",
       "    </tr>\n",
       "    <tr>\n",
       "      <th>2</th>\n",
       "      <td>2020-01-25</td>\n",
       "      <td>1</td>\n",
       "      <td>0</td>\n",
       "      <td>1</td>\n",
       "    </tr>\n",
       "    <tr>\n",
       "      <th>3</th>\n",
       "      <td>2020-01-26</td>\n",
       "      <td>0</td>\n",
       "      <td>0</td>\n",
       "      <td>0</td>\n",
       "    </tr>\n",
       "    <tr>\n",
       "      <th>4</th>\n",
       "      <td>2020-01-27</td>\n",
       "      <td>1</td>\n",
       "      <td>0</td>\n",
       "      <td>1</td>\n",
       "    </tr>\n",
       "  </tbody>\n",
       "</table>\n",
       "</div>"
      ],
      "text/plain": [
       "type       date  Imported  Local  total_cases\n",
       "0    2020-01-23         1      0            1\n",
       "1    2020-01-24         2      0            2\n",
       "2    2020-01-25         1      0            1\n",
       "3    2020-01-26         0      0            0\n",
       "4    2020-01-27         1      0            1"
      ]
     },
     "execution_count": 429,
     "metadata": {},
     "output_type": "execute_result"
    }
   ],
   "source": [
    "flu_df.head()"
   ]
  },
  {
   "cell_type": "code",
   "execution_count": 443,
   "id": "09173dde-52c6-48a9-9163-57773a789275",
   "metadata": {},
   "outputs": [],
   "source": [
    "result = flu_df.groupby(['date']).agg([np.sum])"
   ]
  },
  {
   "cell_type": "code",
   "execution_count": 431,
   "id": "24844538-2434-4b0b-8125-3fa78f39a034",
   "metadata": {},
   "outputs": [
    {
     "data": {
      "text/html": [
       "<div>\n",
       "<style scoped>\n",
       "    .dataframe tbody tr th:only-of-type {\n",
       "        vertical-align: middle;\n",
       "    }\n",
       "\n",
       "    .dataframe tbody tr th {\n",
       "        vertical-align: top;\n",
       "    }\n",
       "\n",
       "    .dataframe thead tr th {\n",
       "        text-align: left;\n",
       "    }\n",
       "\n",
       "    .dataframe thead tr:last-of-type th {\n",
       "        text-align: right;\n",
       "    }\n",
       "</style>\n",
       "<table border=\"1\" class=\"dataframe\">\n",
       "  <thead>\n",
       "    <tr>\n",
       "      <th>type</th>\n",
       "      <th>Imported</th>\n",
       "      <th>Local</th>\n",
       "      <th>total_cases</th>\n",
       "    </tr>\n",
       "    <tr>\n",
       "      <th></th>\n",
       "      <th>sum</th>\n",
       "      <th>sum</th>\n",
       "      <th>sum</th>\n",
       "    </tr>\n",
       "    <tr>\n",
       "      <th>date</th>\n",
       "      <th></th>\n",
       "      <th></th>\n",
       "      <th></th>\n",
       "    </tr>\n",
       "  </thead>\n",
       "  <tbody>\n",
       "    <tr>\n",
       "      <th>2020-01-23</th>\n",
       "      <td>1</td>\n",
       "      <td>0</td>\n",
       "      <td>1</td>\n",
       "    </tr>\n",
       "    <tr>\n",
       "      <th>2020-01-24</th>\n",
       "      <td>2</td>\n",
       "      <td>0</td>\n",
       "      <td>2</td>\n",
       "    </tr>\n",
       "    <tr>\n",
       "      <th>2020-01-25</th>\n",
       "      <td>1</td>\n",
       "      <td>0</td>\n",
       "      <td>1</td>\n",
       "    </tr>\n",
       "    <tr>\n",
       "      <th>2020-01-26</th>\n",
       "      <td>0</td>\n",
       "      <td>0</td>\n",
       "      <td>0</td>\n",
       "    </tr>\n",
       "    <tr>\n",
       "      <th>2020-01-27</th>\n",
       "      <td>1</td>\n",
       "      <td>0</td>\n",
       "      <td>1</td>\n",
       "    </tr>\n",
       "  </tbody>\n",
       "</table>\n",
       "</div>"
      ],
      "text/plain": [
       "type       Imported Local total_cases\n",
       "                sum   sum         sum\n",
       "date                                 \n",
       "2020-01-23        1     0           1\n",
       "2020-01-24        2     0           2\n",
       "2020-01-25        1     0           1\n",
       "2020-01-26        0     0           0\n",
       "2020-01-27        1     0           1"
      ]
     },
     "execution_count": 431,
     "metadata": {},
     "output_type": "execute_result"
    }
   ],
   "source": [
    "result.head()"
   ]
  },
  {
   "cell_type": "code",
   "execution_count": 444,
   "id": "4fa289c9-73f0-4761-af60-e94b0406ec05",
   "metadata": {},
   "outputs": [],
   "source": [
    "result.columns = result.columns.map('_'.join)"
   ]
  },
  {
   "cell_type": "code",
   "execution_count": 445,
   "id": "921e0e6e-1f53-48ab-93ce-c83a24d5d392",
   "metadata": {},
   "outputs": [],
   "source": [
    "result = result.reset_index()"
   ]
  },
  {
   "cell_type": "code",
   "execution_count": 446,
   "id": "5d58d2d9-c0bd-4a34-87f3-35b65ff2e04f",
   "metadata": {
    "tags": []
   },
   "outputs": [
    {
     "data": {
      "text/html": [
       "<div>\n",
       "<style scoped>\n",
       "    .dataframe tbody tr th:only-of-type {\n",
       "        vertical-align: middle;\n",
       "    }\n",
       "\n",
       "    .dataframe tbody tr th {\n",
       "        vertical-align: top;\n",
       "    }\n",
       "\n",
       "    .dataframe thead th {\n",
       "        text-align: right;\n",
       "    }\n",
       "</style>\n",
       "<table border=\"1\" class=\"dataframe\">\n",
       "  <thead>\n",
       "    <tr style=\"text-align: right;\">\n",
       "      <th></th>\n",
       "      <th>date</th>\n",
       "      <th>Imported_sum</th>\n",
       "      <th>Local_sum</th>\n",
       "      <th>total_cases_sum</th>\n",
       "    </tr>\n",
       "  </thead>\n",
       "  <tbody>\n",
       "    <tr>\n",
       "      <th>0</th>\n",
       "      <td>2020-01-23</td>\n",
       "      <td>1</td>\n",
       "      <td>0</td>\n",
       "      <td>1</td>\n",
       "    </tr>\n",
       "    <tr>\n",
       "      <th>1</th>\n",
       "      <td>2020-01-24</td>\n",
       "      <td>2</td>\n",
       "      <td>0</td>\n",
       "      <td>2</td>\n",
       "    </tr>\n",
       "    <tr>\n",
       "      <th>2</th>\n",
       "      <td>2020-01-25</td>\n",
       "      <td>1</td>\n",
       "      <td>0</td>\n",
       "      <td>1</td>\n",
       "    </tr>\n",
       "    <tr>\n",
       "      <th>3</th>\n",
       "      <td>2020-01-26</td>\n",
       "      <td>0</td>\n",
       "      <td>0</td>\n",
       "      <td>0</td>\n",
       "    </tr>\n",
       "    <tr>\n",
       "      <th>4</th>\n",
       "      <td>2020-01-27</td>\n",
       "      <td>1</td>\n",
       "      <td>0</td>\n",
       "      <td>1</td>\n",
       "    </tr>\n",
       "  </tbody>\n",
       "</table>\n",
       "</div>"
      ],
      "text/plain": [
       "         date  Imported_sum  Local_sum  total_cases_sum\n",
       "0  2020-01-23             1          0                1\n",
       "1  2020-01-24             2          0                2\n",
       "2  2020-01-25             1          0                1\n",
       "3  2020-01-26             0          0                0\n",
       "4  2020-01-27             1          0                1"
      ]
     },
     "execution_count": 446,
     "metadata": {},
     "output_type": "execute_result"
    }
   ],
   "source": [
    "result.head()"
   ]
  },
  {
   "cell_type": "code",
   "execution_count": 455,
   "id": "0e76614a-7e01-4641-b1e3-c9d004811b6d",
   "metadata": {},
   "outputs": [
    {
     "data": {
      "text/html": [
       "<div>\n",
       "<style scoped>\n",
       "    .dataframe tbody tr th:only-of-type {\n",
       "        vertical-align: middle;\n",
       "    }\n",
       "\n",
       "    .dataframe tbody tr th {\n",
       "        vertical-align: top;\n",
       "    }\n",
       "\n",
       "    .dataframe thead th {\n",
       "        text-align: right;\n",
       "    }\n",
       "</style>\n",
       "<table border=\"1\" class=\"dataframe\">\n",
       "  <thead>\n",
       "    <tr style=\"text-align: right;\">\n",
       "      <th></th>\n",
       "      <th>month</th>\n",
       "      <th>maximum_rainfall_in_a_day</th>\n",
       "    </tr>\n",
       "  </thead>\n",
       "  <tbody>\n",
       "    <tr>\n",
       "      <th>0</th>\n",
       "      <td>1982-01</td>\n",
       "      <td>36.5</td>\n",
       "    </tr>\n",
       "    <tr>\n",
       "      <th>1</th>\n",
       "      <td>1982-02</td>\n",
       "      <td>9.4</td>\n",
       "    </tr>\n",
       "    <tr>\n",
       "      <th>2</th>\n",
       "      <td>1982-03</td>\n",
       "      <td>61.7</td>\n",
       "    </tr>\n",
       "    <tr>\n",
       "      <th>3</th>\n",
       "      <td>1982-04</td>\n",
       "      <td>45.1</td>\n",
       "    </tr>\n",
       "    <tr>\n",
       "      <th>4</th>\n",
       "      <td>1982-05</td>\n",
       "      <td>33.0</td>\n",
       "    </tr>\n",
       "  </tbody>\n",
       "</table>\n",
       "</div>"
      ],
      "text/plain": [
       "     month  maximum_rainfall_in_a_day\n",
       "0  1982-01                       36.5\n",
       "1  1982-02                        9.4\n",
       "2  1982-03                       61.7\n",
       "3  1982-04                       45.1\n",
       "4  1982-05                       33.0"
      ]
     },
     "execution_count": 455,
     "metadata": {},
     "output_type": "execute_result"
    }
   ],
   "source": [
    "dhr_df.head()"
   ]
  },
  {
   "cell_type": "code",
   "execution_count": null,
   "id": "9235e072-c9f5-45ad-87b9-81e2b383561d",
   "metadata": {},
   "outputs": [],
   "source": []
  },
  {
   "cell_type": "code",
   "execution_count": null,
   "id": "00f3d006-1ba0-43ac-b191-68d9c02f5923",
   "metadata": {},
   "outputs": [],
   "source": []
  },
  {
   "cell_type": "code",
   "execution_count": 457,
   "id": "4a6b2e56-70d7-4b20-a7b9-ef732a8d13ed",
   "metadata": {},
   "outputs": [
    {
     "data": {
      "text/html": [
       "<div>\n",
       "<style scoped>\n",
       "    .dataframe tbody tr th:only-of-type {\n",
       "        vertical-align: middle;\n",
       "    }\n",
       "\n",
       "    .dataframe tbody tr th {\n",
       "        vertical-align: top;\n",
       "    }\n",
       "\n",
       "    .dataframe thead th {\n",
       "        text-align: right;\n",
       "    }\n",
       "</style>\n",
       "<table border=\"1\" class=\"dataframe\">\n",
       "  <thead>\n",
       "    <tr style=\"text-align: right;\">\n",
       "      <th></th>\n",
       "      <th>month</th>\n",
       "      <th>total_rainfall</th>\n",
       "      <th>no_of_rainy_days</th>\n",
       "      <th>maximum_rainfall_in_a_day</th>\n",
       "      <th>temp_mean_daily_min</th>\n",
       "      <th>mean_rh</th>\n",
       "    </tr>\n",
       "  </thead>\n",
       "  <tbody>\n",
       "    <tr>\n",
       "      <th>0</th>\n",
       "      <td>1982-01</td>\n",
       "      <td>107.1</td>\n",
       "      <td>10</td>\n",
       "      <td>36.5</td>\n",
       "      <td>23.3</td>\n",
       "      <td>81.2</td>\n",
       "    </tr>\n",
       "    <tr>\n",
       "      <th>1</th>\n",
       "      <td>1982-02</td>\n",
       "      <td>27.8</td>\n",
       "      <td>5</td>\n",
       "      <td>9.4</td>\n",
       "      <td>23.9</td>\n",
       "      <td>79.5</td>\n",
       "    </tr>\n",
       "    <tr>\n",
       "      <th>2</th>\n",
       "      <td>1982-03</td>\n",
       "      <td>160.8</td>\n",
       "      <td>11</td>\n",
       "      <td>61.7</td>\n",
       "      <td>24.3</td>\n",
       "      <td>82.3</td>\n",
       "    </tr>\n",
       "    <tr>\n",
       "      <th>3</th>\n",
       "      <td>1982-04</td>\n",
       "      <td>157.0</td>\n",
       "      <td>14</td>\n",
       "      <td>45.1</td>\n",
       "      <td>24.3</td>\n",
       "      <td>85.9</td>\n",
       "    </tr>\n",
       "    <tr>\n",
       "      <th>4</th>\n",
       "      <td>1982-05</td>\n",
       "      <td>102.2</td>\n",
       "      <td>10</td>\n",
       "      <td>33.0</td>\n",
       "      <td>25.2</td>\n",
       "      <td>83.2</td>\n",
       "    </tr>\n",
       "  </tbody>\n",
       "</table>\n",
       "</div>"
      ],
      "text/plain": [
       "     month  total_rainfall  no_of_rainy_days  maximum_rainfall_in_a_day  \\\n",
       "0  1982-01           107.1                10                       36.5   \n",
       "1  1982-02            27.8                 5                        9.4   \n",
       "2  1982-03           160.8                11                       61.7   \n",
       "3  1982-04           157.0                14                       45.1   \n",
       "4  1982-05           102.2                10                       33.0   \n",
       "\n",
       "   temp_mean_daily_min  mean_rh  \n",
       "0                 23.3     81.2  \n",
       "1                 23.9     79.5  \n",
       "2                 24.3     82.3  \n",
       "3                 24.3     85.9  \n",
       "4                 25.2     83.2  "
      ]
     },
     "execution_count": 457,
     "metadata": {},
     "output_type": "execute_result"
    }
   ],
   "source": [
    "# should i change this to date before merging with flu_df?\n",
    "# flu_df has lesser data, so i think i should"
   ]
  },
  {
   "cell_type": "code",
   "execution_count": null,
   "id": "48f03692-3d9c-401d-bb00-5131f2642ecd",
   "metadata": {},
   "outputs": [],
   "source": []
  },
  {
   "cell_type": "code",
   "execution_count": null,
   "id": "42d1b1ce-35b0-40b6-b6b0-b49cd1b4241a",
   "metadata": {},
   "outputs": [],
   "source": []
  },
  {
   "cell_type": "code",
   "execution_count": null,
   "id": "e12136dc-9a13-44af-9e71-cddd9e7aa06e",
   "metadata": {},
   "outputs": [],
   "source": []
  },
  {
   "cell_type": "code",
   "execution_count": null,
   "id": "047dcfee-8b95-4ece-8a20-6d71e1c12bfd",
   "metadata": {},
   "outputs": [],
   "source": []
  },
  {
   "cell_type": "code",
   "execution_count": 423,
   "id": "4fbe699d-3736-4482-86ab-6c7bad115adb",
   "metadata": {},
   "outputs": [],
   "source": [
    "# convert date to datetime format, make this at the end\n",
    "flu_df['date']=pd.to_datetime(flu_df['date'])"
   ]
  },
  {
   "cell_type": "code",
   "execution_count": 55,
   "id": "f3623e3e-f19a-4c9c-90bf-f12cd9f24fde",
   "metadata": {},
   "outputs": [],
   "source": [
    "# make date into year and month\n",
    "# do it after everything is merged\n",
    "flu_df['year'] = flu_df['date'].dt.strftime('%Y')\n",
    "flu_df['month'] = flu_df['date'].dt.strftime('%m')"
   ]
  },
  {
   "cell_type": "code",
   "execution_count": 127,
   "id": "f15895f6-d8ce-4443-b8e5-55fc502ab1e1",
   "metadata": {
    "collapsed": true,
    "jupyter": {
     "outputs_hidden": true
    },
    "tags": []
   },
   "outputs": [
    {
     "data": {
      "text/html": [
       "<div>\n",
       "<style scoped>\n",
       "    .dataframe tbody tr th:only-of-type {\n",
       "        vertical-align: middle;\n",
       "    }\n",
       "\n",
       "    .dataframe tbody tr th {\n",
       "        vertical-align: top;\n",
       "    }\n",
       "\n",
       "    .dataframe thead th {\n",
       "        text-align: right;\n",
       "    }\n",
       "</style>\n",
       "<table border=\"1\" class=\"dataframe\">\n",
       "  <thead>\n",
       "    <tr style=\"text-align: right;\">\n",
       "      <th>type</th>\n",
       "      <th>date</th>\n",
       "      <th>Imported</th>\n",
       "      <th>Local</th>\n",
       "      <th>total_cases</th>\n",
       "      <th>year</th>\n",
       "      <th>month</th>\n",
       "    </tr>\n",
       "  </thead>\n",
       "  <tbody>\n",
       "    <tr>\n",
       "      <th>0</th>\n",
       "      <td>2020-01-23</td>\n",
       "      <td>1</td>\n",
       "      <td>0</td>\n",
       "      <td>1</td>\n",
       "      <td>2020</td>\n",
       "      <td>01</td>\n",
       "    </tr>\n",
       "    <tr>\n",
       "      <th>1</th>\n",
       "      <td>2020-01-24</td>\n",
       "      <td>2</td>\n",
       "      <td>0</td>\n",
       "      <td>2</td>\n",
       "      <td>2020</td>\n",
       "      <td>01</td>\n",
       "    </tr>\n",
       "    <tr>\n",
       "      <th>2</th>\n",
       "      <td>2020-01-25</td>\n",
       "      <td>1</td>\n",
       "      <td>0</td>\n",
       "      <td>1</td>\n",
       "      <td>2020</td>\n",
       "      <td>01</td>\n",
       "    </tr>\n",
       "    <tr>\n",
       "      <th>3</th>\n",
       "      <td>2020-01-26</td>\n",
       "      <td>0</td>\n",
       "      <td>0</td>\n",
       "      <td>0</td>\n",
       "      <td>2020</td>\n",
       "      <td>01</td>\n",
       "    </tr>\n",
       "    <tr>\n",
       "      <th>4</th>\n",
       "      <td>2020-01-27</td>\n",
       "      <td>1</td>\n",
       "      <td>0</td>\n",
       "      <td>1</td>\n",
       "      <td>2020</td>\n",
       "      <td>01</td>\n",
       "    </tr>\n",
       "    <tr>\n",
       "      <th>5</th>\n",
       "      <td>2020-01-28</td>\n",
       "      <td>2</td>\n",
       "      <td>0</td>\n",
       "      <td>2</td>\n",
       "      <td>2020</td>\n",
       "      <td>01</td>\n",
       "    </tr>\n",
       "    <tr>\n",
       "      <th>6</th>\n",
       "      <td>2020-01-29</td>\n",
       "      <td>3</td>\n",
       "      <td>0</td>\n",
       "      <td>3</td>\n",
       "      <td>2020</td>\n",
       "      <td>01</td>\n",
       "    </tr>\n",
       "    <tr>\n",
       "      <th>7</th>\n",
       "      <td>2020-01-30</td>\n",
       "      <td>3</td>\n",
       "      <td>0</td>\n",
       "      <td>3</td>\n",
       "      <td>2020</td>\n",
       "      <td>01</td>\n",
       "    </tr>\n",
       "    <tr>\n",
       "      <th>8</th>\n",
       "      <td>2020-01-31</td>\n",
       "      <td>3</td>\n",
       "      <td>0</td>\n",
       "      <td>3</td>\n",
       "      <td>2020</td>\n",
       "      <td>01</td>\n",
       "    </tr>\n",
       "    <tr>\n",
       "      <th>9</th>\n",
       "      <td>2020-02-01</td>\n",
       "      <td>2</td>\n",
       "      <td>0</td>\n",
       "      <td>2</td>\n",
       "      <td>2020</td>\n",
       "      <td>02</td>\n",
       "    </tr>\n",
       "  </tbody>\n",
       "</table>\n",
       "</div>"
      ],
      "text/plain": [
       "type       date  Imported  Local  total_cases  year month\n",
       "0    2020-01-23         1      0            1  2020    01\n",
       "1    2020-01-24         2      0            2  2020    01\n",
       "2    2020-01-25         1      0            1  2020    01\n",
       "3    2020-01-26         0      0            0  2020    01\n",
       "4    2020-01-27         1      0            1  2020    01\n",
       "5    2020-01-28         2      0            2  2020    01\n",
       "6    2020-01-29         3      0            3  2020    01\n",
       "7    2020-01-30         3      0            3  2020    01\n",
       "8    2020-01-31         3      0            3  2020    01\n",
       "9    2020-02-01         2      0            2  2020    02"
      ]
     },
     "execution_count": 127,
     "metadata": {},
     "output_type": "execute_result"
    }
   ],
   "source": [
    "flu_df.head(10)"
   ]
  },
  {
   "cell_type": "code",
   "execution_count": null,
   "id": "a62a7ec3-3559-40e1-8119-a3646d877cdf",
   "metadata": {},
   "outputs": [],
   "source": []
  },
  {
   "cell_type": "code",
   "execution_count": null,
   "id": "04bcd422-a6ea-466e-99fc-e617a1e175a3",
   "metadata": {},
   "outputs": [],
   "source": []
  },
  {
   "cell_type": "code",
   "execution_count": 143,
   "id": "5f710ac7-e294-471a-bd37-ed9f705963a5",
   "metadata": {},
   "outputs": [],
   "source": [
    "merged_df = pd.read_csv('../data/merged_data.csv')"
   ]
  },
  {
   "cell_type": "code",
   "execution_count": 144,
   "id": "43b651c6-e983-4a6b-ae60-9ba26cd2c0f6",
   "metadata": {},
   "outputs": [
    {
     "data": {
      "text/html": [
       "<div>\n",
       "<style scoped>\n",
       "    .dataframe tbody tr th:only-of-type {\n",
       "        vertical-align: middle;\n",
       "    }\n",
       "\n",
       "    .dataframe tbody tr th {\n",
       "        vertical-align: top;\n",
       "    }\n",
       "\n",
       "    .dataframe thead th {\n",
       "        text-align: right;\n",
       "    }\n",
       "</style>\n",
       "<table border=\"1\" class=\"dataframe\">\n",
       "  <thead>\n",
       "    <tr style=\"text-align: right;\">\n",
       "      <th></th>\n",
       "      <th>Unnamed: 0</th>\n",
       "      <th>year</th>\n",
       "      <th>month</th>\n",
       "      <th>date</th>\n",
       "      <th>total_rainfall</th>\n",
       "      <th>rainy_days</th>\n",
       "      <th>max_rainfall</th>\n",
       "    </tr>\n",
       "  </thead>\n",
       "  <tbody>\n",
       "    <tr>\n",
       "      <th>0</th>\n",
       "      <td>0</td>\n",
       "      <td>1982</td>\n",
       "      <td>1</td>\n",
       "      <td>1982-01-01</td>\n",
       "      <td>107.1</td>\n",
       "      <td>10</td>\n",
       "      <td>36.5</td>\n",
       "    </tr>\n",
       "    <tr>\n",
       "      <th>1</th>\n",
       "      <td>1</td>\n",
       "      <td>1982</td>\n",
       "      <td>2</td>\n",
       "      <td>1982-02-01</td>\n",
       "      <td>27.8</td>\n",
       "      <td>5</td>\n",
       "      <td>9.4</td>\n",
       "    </tr>\n",
       "    <tr>\n",
       "      <th>2</th>\n",
       "      <td>2</td>\n",
       "      <td>1982</td>\n",
       "      <td>3</td>\n",
       "      <td>1982-03-01</td>\n",
       "      <td>160.8</td>\n",
       "      <td>11</td>\n",
       "      <td>61.7</td>\n",
       "    </tr>\n",
       "    <tr>\n",
       "      <th>3</th>\n",
       "      <td>3</td>\n",
       "      <td>1982</td>\n",
       "      <td>4</td>\n",
       "      <td>1982-04-01</td>\n",
       "      <td>157.0</td>\n",
       "      <td>14</td>\n",
       "      <td>45.1</td>\n",
       "    </tr>\n",
       "    <tr>\n",
       "      <th>4</th>\n",
       "      <td>4</td>\n",
       "      <td>1982</td>\n",
       "      <td>5</td>\n",
       "      <td>1982-05-01</td>\n",
       "      <td>102.2</td>\n",
       "      <td>10</td>\n",
       "      <td>33.0</td>\n",
       "    </tr>\n",
       "  </tbody>\n",
       "</table>\n",
       "</div>"
      ],
      "text/plain": [
       "   Unnamed: 0  year  month        date  total_rainfall  rainy_days  \\\n",
       "0           0  1982      1  1982-01-01           107.1          10   \n",
       "1           1  1982      2  1982-02-01            27.8           5   \n",
       "2           2  1982      3  1982-03-01           160.8          11   \n",
       "3           3  1982      4  1982-04-01           157.0          14   \n",
       "4           4  1982      5  1982-05-01           102.2          10   \n",
       "\n",
       "   max_rainfall  \n",
       "0          36.5  \n",
       "1           9.4  \n",
       "2          61.7  \n",
       "3          45.1  \n",
       "4          33.0  "
      ]
     },
     "execution_count": 144,
     "metadata": {},
     "output_type": "execute_result"
    }
   ],
   "source": [
    "merged_df.head()"
   ]
  },
  {
   "cell_type": "code",
   "execution_count": 108,
   "id": "242e9e0b-424b-4e43-9a97-1aa26471bee7",
   "metadata": {},
   "outputs": [
    {
     "name": "stdout",
     "output_type": "stream",
     "text": [
      "<class 'pandas.core.frame.DataFrame'>\n",
      "RangeIndex: 488 entries, 0 to 487\n",
      "Data columns (total 7 columns):\n",
      " #   Column          Non-Null Count  Dtype  \n",
      "---  ------          --------------  -----  \n",
      " 0   Unnamed: 0      488 non-null    int64  \n",
      " 1   year            488 non-null    int64  \n",
      " 2   month           488 non-null    int64  \n",
      " 3   date            488 non-null    object \n",
      " 4   total_rainfall  488 non-null    float64\n",
      " 5   rainy_days      488 non-null    int64  \n",
      " 6   max_rainfall    488 non-null    float64\n",
      "dtypes: float64(2), int64(4), object(1)\n",
      "memory usage: 26.8+ KB\n"
     ]
    }
   ],
   "source": [
    "merged_df.info()"
   ]
  },
  {
   "cell_type": "code",
   "execution_count": 146,
   "id": "bf9d6a46-dfb0-4c86-8b4c-a74fcacb4786",
   "metadata": {
    "collapsed": true,
    "jupyter": {
     "outputs_hidden": true
    },
    "tags": []
   },
   "outputs": [
    {
     "data": {
      "text/html": [
       "<div>\n",
       "<style scoped>\n",
       "    .dataframe tbody tr th:only-of-type {\n",
       "        vertical-align: middle;\n",
       "    }\n",
       "\n",
       "    .dataframe tbody tr th {\n",
       "        vertical-align: top;\n",
       "    }\n",
       "\n",
       "    .dataframe thead th {\n",
       "        text-align: right;\n",
       "    }\n",
       "</style>\n",
       "<table border=\"1\" class=\"dataframe\">\n",
       "  <thead>\n",
       "    <tr style=\"text-align: right;\">\n",
       "      <th></th>\n",
       "      <th>Unnamed: 0</th>\n",
       "      <th>year</th>\n",
       "      <th>month</th>\n",
       "      <th>date</th>\n",
       "      <th>total_rainfall</th>\n",
       "      <th>rainy_days</th>\n",
       "      <th>max_rainfall</th>\n",
       "      <th>season</th>\n",
       "    </tr>\n",
       "  </thead>\n",
       "  <tbody>\n",
       "    <tr>\n",
       "      <th>5</th>\n",
       "      <td>5</td>\n",
       "      <td>1982</td>\n",
       "      <td>6</td>\n",
       "      <td>1982-06-01</td>\n",
       "      <td>59.5</td>\n",
       "      <td>8</td>\n",
       "      <td>20.6</td>\n",
       "      <td>Southwest Monsoon</td>\n",
       "    </tr>\n",
       "    <tr>\n",
       "      <th>17</th>\n",
       "      <td>17</td>\n",
       "      <td>1983</td>\n",
       "      <td>6</td>\n",
       "      <td>1983-06-01</td>\n",
       "      <td>94.0</td>\n",
       "      <td>11</td>\n",
       "      <td>27.7</td>\n",
       "      <td>Southwest Monsoon</td>\n",
       "    </tr>\n",
       "    <tr>\n",
       "      <th>29</th>\n",
       "      <td>29</td>\n",
       "      <td>1984</td>\n",
       "      <td>6</td>\n",
       "      <td>1984-06-01</td>\n",
       "      <td>255.0</td>\n",
       "      <td>14</td>\n",
       "      <td>121.1</td>\n",
       "      <td>Southwest Monsoon</td>\n",
       "    </tr>\n",
       "    <tr>\n",
       "      <th>41</th>\n",
       "      <td>41</td>\n",
       "      <td>1985</td>\n",
       "      <td>6</td>\n",
       "      <td>1985-06-01</td>\n",
       "      <td>37.0</td>\n",
       "      <td>14</td>\n",
       "      <td>9.9</td>\n",
       "      <td>Southwest Monsoon</td>\n",
       "    </tr>\n",
       "    <tr>\n",
       "      <th>53</th>\n",
       "      <td>53</td>\n",
       "      <td>1986</td>\n",
       "      <td>6</td>\n",
       "      <td>1986-06-01</td>\n",
       "      <td>122.9</td>\n",
       "      <td>13</td>\n",
       "      <td>34.5</td>\n",
       "      <td>Southwest Monsoon</td>\n",
       "    </tr>\n",
       "    <tr>\n",
       "      <th>65</th>\n",
       "      <td>65</td>\n",
       "      <td>1987</td>\n",
       "      <td>6</td>\n",
       "      <td>1987-06-01</td>\n",
       "      <td>126.6</td>\n",
       "      <td>15</td>\n",
       "      <td>30.7</td>\n",
       "      <td>Southwest Monsoon</td>\n",
       "    </tr>\n",
       "    <tr>\n",
       "      <th>77</th>\n",
       "      <td>77</td>\n",
       "      <td>1988</td>\n",
       "      <td>6</td>\n",
       "      <td>1988-06-01</td>\n",
       "      <td>252.2</td>\n",
       "      <td>13</td>\n",
       "      <td>69.4</td>\n",
       "      <td>Southwest Monsoon</td>\n",
       "    </tr>\n",
       "    <tr>\n",
       "      <th>89</th>\n",
       "      <td>89</td>\n",
       "      <td>1989</td>\n",
       "      <td>6</td>\n",
       "      <td>1989-06-01</td>\n",
       "      <td>117.6</td>\n",
       "      <td>12</td>\n",
       "      <td>45.9</td>\n",
       "      <td>Southwest Monsoon</td>\n",
       "    </tr>\n",
       "    <tr>\n",
       "      <th>101</th>\n",
       "      <td>101</td>\n",
       "      <td>1990</td>\n",
       "      <td>6</td>\n",
       "      <td>1990-06-01</td>\n",
       "      <td>112.6</td>\n",
       "      <td>9</td>\n",
       "      <td>76.1</td>\n",
       "      <td>Southwest Monsoon</td>\n",
       "    </tr>\n",
       "    <tr>\n",
       "      <th>113</th>\n",
       "      <td>113</td>\n",
       "      <td>1991</td>\n",
       "      <td>6</td>\n",
       "      <td>1991-06-01</td>\n",
       "      <td>88.7</td>\n",
       "      <td>9</td>\n",
       "      <td>55.6</td>\n",
       "      <td>Southwest Monsoon</td>\n",
       "    </tr>\n",
       "    <tr>\n",
       "      <th>125</th>\n",
       "      <td>125</td>\n",
       "      <td>1992</td>\n",
       "      <td>6</td>\n",
       "      <td>1992-06-01</td>\n",
       "      <td>162.8</td>\n",
       "      <td>14</td>\n",
       "      <td>38.4</td>\n",
       "      <td>Southwest Monsoon</td>\n",
       "    </tr>\n",
       "    <tr>\n",
       "      <th>137</th>\n",
       "      <td>137</td>\n",
       "      <td>1993</td>\n",
       "      <td>6</td>\n",
       "      <td>1993-06-01</td>\n",
       "      <td>115.5</td>\n",
       "      <td>17</td>\n",
       "      <td>29.4</td>\n",
       "      <td>Southwest Monsoon</td>\n",
       "    </tr>\n",
       "    <tr>\n",
       "      <th>149</th>\n",
       "      <td>149</td>\n",
       "      <td>1994</td>\n",
       "      <td>6</td>\n",
       "      <td>1994-06-01</td>\n",
       "      <td>184.7</td>\n",
       "      <td>14</td>\n",
       "      <td>61.1</td>\n",
       "      <td>Southwest Monsoon</td>\n",
       "    </tr>\n",
       "    <tr>\n",
       "      <th>161</th>\n",
       "      <td>161</td>\n",
       "      <td>1995</td>\n",
       "      <td>6</td>\n",
       "      <td>1995-06-01</td>\n",
       "      <td>63.7</td>\n",
       "      <td>12</td>\n",
       "      <td>45.0</td>\n",
       "      <td>Southwest Monsoon</td>\n",
       "    </tr>\n",
       "    <tr>\n",
       "      <th>173</th>\n",
       "      <td>173</td>\n",
       "      <td>1996</td>\n",
       "      <td>6</td>\n",
       "      <td>1996-06-01</td>\n",
       "      <td>265.8</td>\n",
       "      <td>15</td>\n",
       "      <td>94.3</td>\n",
       "      <td>Southwest Monsoon</td>\n",
       "    </tr>\n",
       "    <tr>\n",
       "      <th>185</th>\n",
       "      <td>185</td>\n",
       "      <td>1997</td>\n",
       "      <td>6</td>\n",
       "      <td>1997-06-01</td>\n",
       "      <td>78.9</td>\n",
       "      <td>12</td>\n",
       "      <td>25.0</td>\n",
       "      <td>Southwest Monsoon</td>\n",
       "    </tr>\n",
       "    <tr>\n",
       "      <th>197</th>\n",
       "      <td>197</td>\n",
       "      <td>1998</td>\n",
       "      <td>6</td>\n",
       "      <td>1998-06-01</td>\n",
       "      <td>198.8</td>\n",
       "      <td>15</td>\n",
       "      <td>42.8</td>\n",
       "      <td>Southwest Monsoon</td>\n",
       "    </tr>\n",
       "    <tr>\n",
       "      <th>209</th>\n",
       "      <td>209</td>\n",
       "      <td>1999</td>\n",
       "      <td>6</td>\n",
       "      <td>1999-06-01</td>\n",
       "      <td>103.4</td>\n",
       "      <td>13</td>\n",
       "      <td>34.5</td>\n",
       "      <td>Southwest Monsoon</td>\n",
       "    </tr>\n",
       "    <tr>\n",
       "      <th>221</th>\n",
       "      <td>221</td>\n",
       "      <td>2000</td>\n",
       "      <td>6</td>\n",
       "      <td>2000-06-01</td>\n",
       "      <td>157.5</td>\n",
       "      <td>16</td>\n",
       "      <td>41.7</td>\n",
       "      <td>Southwest Monsoon</td>\n",
       "    </tr>\n",
       "    <tr>\n",
       "      <th>233</th>\n",
       "      <td>233</td>\n",
       "      <td>2001</td>\n",
       "      <td>6</td>\n",
       "      <td>2001-06-01</td>\n",
       "      <td>137.1</td>\n",
       "      <td>11</td>\n",
       "      <td>49.6</td>\n",
       "      <td>Southwest Monsoon</td>\n",
       "    </tr>\n",
       "    <tr>\n",
       "      <th>245</th>\n",
       "      <td>245</td>\n",
       "      <td>2002</td>\n",
       "      <td>6</td>\n",
       "      <td>2002-06-01</td>\n",
       "      <td>83.1</td>\n",
       "      <td>12</td>\n",
       "      <td>45.8</td>\n",
       "      <td>Southwest Monsoon</td>\n",
       "    </tr>\n",
       "    <tr>\n",
       "      <th>257</th>\n",
       "      <td>257</td>\n",
       "      <td>2003</td>\n",
       "      <td>6</td>\n",
       "      <td>2003-06-01</td>\n",
       "      <td>50.3</td>\n",
       "      <td>12</td>\n",
       "      <td>23.2</td>\n",
       "      <td>Southwest Monsoon</td>\n",
       "    </tr>\n",
       "    <tr>\n",
       "      <th>269</th>\n",
       "      <td>269</td>\n",
       "      <td>2004</td>\n",
       "      <td>6</td>\n",
       "      <td>2004-06-01</td>\n",
       "      <td>127.2</td>\n",
       "      <td>8</td>\n",
       "      <td>68.1</td>\n",
       "      <td>Southwest Monsoon</td>\n",
       "    </tr>\n",
       "    <tr>\n",
       "      <th>281</th>\n",
       "      <td>281</td>\n",
       "      <td>2005</td>\n",
       "      <td>6</td>\n",
       "      <td>2005-06-01</td>\n",
       "      <td>82.3</td>\n",
       "      <td>15</td>\n",
       "      <td>27.6</td>\n",
       "      <td>Southwest Monsoon</td>\n",
       "    </tr>\n",
       "    <tr>\n",
       "      <th>293</th>\n",
       "      <td>293</td>\n",
       "      <td>2006</td>\n",
       "      <td>6</td>\n",
       "      <td>2006-06-01</td>\n",
       "      <td>236.8</td>\n",
       "      <td>16</td>\n",
       "      <td>37.3</td>\n",
       "      <td>Southwest Monsoon</td>\n",
       "    </tr>\n",
       "    <tr>\n",
       "      <th>305</th>\n",
       "      <td>305</td>\n",
       "      <td>2007</td>\n",
       "      <td>6</td>\n",
       "      <td>2007-06-01</td>\n",
       "      <td>139.0</td>\n",
       "      <td>12</td>\n",
       "      <td>38.0</td>\n",
       "      <td>Southwest Monsoon</td>\n",
       "    </tr>\n",
       "    <tr>\n",
       "      <th>317</th>\n",
       "      <td>317</td>\n",
       "      <td>2008</td>\n",
       "      <td>6</td>\n",
       "      <td>2008-06-01</td>\n",
       "      <td>118.3</td>\n",
       "      <td>12</td>\n",
       "      <td>45.2</td>\n",
       "      <td>Southwest Monsoon</td>\n",
       "    </tr>\n",
       "    <tr>\n",
       "      <th>329</th>\n",
       "      <td>329</td>\n",
       "      <td>2009</td>\n",
       "      <td>6</td>\n",
       "      <td>2009-06-01</td>\n",
       "      <td>21.8</td>\n",
       "      <td>8</td>\n",
       "      <td>5.8</td>\n",
       "      <td>Southwest Monsoon</td>\n",
       "    </tr>\n",
       "    <tr>\n",
       "      <th>341</th>\n",
       "      <td>341</td>\n",
       "      <td>2010</td>\n",
       "      <td>6</td>\n",
       "      <td>2010-06-01</td>\n",
       "      <td>240.5</td>\n",
       "      <td>19</td>\n",
       "      <td>43.0</td>\n",
       "      <td>Southwest Monsoon</td>\n",
       "    </tr>\n",
       "    <tr>\n",
       "      <th>353</th>\n",
       "      <td>353</td>\n",
       "      <td>2011</td>\n",
       "      <td>6</td>\n",
       "      <td>2011-06-01</td>\n",
       "      <td>213.0</td>\n",
       "      <td>15</td>\n",
       "      <td>82.0</td>\n",
       "      <td>Southwest Monsoon</td>\n",
       "    </tr>\n",
       "    <tr>\n",
       "      <th>365</th>\n",
       "      <td>365</td>\n",
       "      <td>2012</td>\n",
       "      <td>6</td>\n",
       "      <td>2012-06-01</td>\n",
       "      <td>53.0</td>\n",
       "      <td>8</td>\n",
       "      <td>38.2</td>\n",
       "      <td>Southwest Monsoon</td>\n",
       "    </tr>\n",
       "    <tr>\n",
       "      <th>377</th>\n",
       "      <td>377</td>\n",
       "      <td>2013</td>\n",
       "      <td>6</td>\n",
       "      <td>2013-06-01</td>\n",
       "      <td>111.4</td>\n",
       "      <td>12</td>\n",
       "      <td>22.4</td>\n",
       "      <td>Southwest Monsoon</td>\n",
       "    </tr>\n",
       "    <tr>\n",
       "      <th>389</th>\n",
       "      <td>389</td>\n",
       "      <td>2014</td>\n",
       "      <td>6</td>\n",
       "      <td>2014-06-01</td>\n",
       "      <td>71.4</td>\n",
       "      <td>11</td>\n",
       "      <td>18.8</td>\n",
       "      <td>Southwest Monsoon</td>\n",
       "    </tr>\n",
       "    <tr>\n",
       "      <th>401</th>\n",
       "      <td>401</td>\n",
       "      <td>2015</td>\n",
       "      <td>6</td>\n",
       "      <td>2015-06-01</td>\n",
       "      <td>95.8</td>\n",
       "      <td>10</td>\n",
       "      <td>28.4</td>\n",
       "      <td>Southwest Monsoon</td>\n",
       "    </tr>\n",
       "    <tr>\n",
       "      <th>413</th>\n",
       "      <td>413</td>\n",
       "      <td>2016</td>\n",
       "      <td>6</td>\n",
       "      <td>2016-06-01</td>\n",
       "      <td>162.8</td>\n",
       "      <td>13</td>\n",
       "      <td>67.8</td>\n",
       "      <td>Southwest Monsoon</td>\n",
       "    </tr>\n",
       "    <tr>\n",
       "      <th>425</th>\n",
       "      <td>425</td>\n",
       "      <td>2017</td>\n",
       "      <td>6</td>\n",
       "      <td>2017-06-01</td>\n",
       "      <td>106.0</td>\n",
       "      <td>10</td>\n",
       "      <td>29.6</td>\n",
       "      <td>Southwest Monsoon</td>\n",
       "    </tr>\n",
       "    <tr>\n",
       "      <th>437</th>\n",
       "      <td>437</td>\n",
       "      <td>2018</td>\n",
       "      <td>6</td>\n",
       "      <td>2018-06-01</td>\n",
       "      <td>182.6</td>\n",
       "      <td>17</td>\n",
       "      <td>46.8</td>\n",
       "      <td>Southwest Monsoon</td>\n",
       "    </tr>\n",
       "    <tr>\n",
       "      <th>449</th>\n",
       "      <td>449</td>\n",
       "      <td>2019</td>\n",
       "      <td>6</td>\n",
       "      <td>2019-06-01</td>\n",
       "      <td>173.8</td>\n",
       "      <td>16</td>\n",
       "      <td>37.6</td>\n",
       "      <td>Southwest Monsoon</td>\n",
       "    </tr>\n",
       "    <tr>\n",
       "      <th>461</th>\n",
       "      <td>461</td>\n",
       "      <td>2020</td>\n",
       "      <td>6</td>\n",
       "      <td>2020-06-01</td>\n",
       "      <td>233.8</td>\n",
       "      <td>21</td>\n",
       "      <td>41.0</td>\n",
       "      <td>Southwest Monsoon</td>\n",
       "    </tr>\n",
       "    <tr>\n",
       "      <th>473</th>\n",
       "      <td>473</td>\n",
       "      <td>2021</td>\n",
       "      <td>6</td>\n",
       "      <td>2021-06-01</td>\n",
       "      <td>93.4</td>\n",
       "      <td>20</td>\n",
       "      <td>23.8</td>\n",
       "      <td>Southwest Monsoon</td>\n",
       "    </tr>\n",
       "    <tr>\n",
       "      <th>485</th>\n",
       "      <td>485</td>\n",
       "      <td>2022</td>\n",
       "      <td>6</td>\n",
       "      <td>2022-06-01</td>\n",
       "      <td>211.8</td>\n",
       "      <td>17</td>\n",
       "      <td>59.4</td>\n",
       "      <td>Southwest Monsoon</td>\n",
       "    </tr>\n",
       "  </tbody>\n",
       "</table>\n",
       "</div>"
      ],
      "text/plain": [
       "     Unnamed: 0  year  month        date  total_rainfall  rainy_days  \\\n",
       "5             5  1982      6  1982-06-01            59.5           8   \n",
       "17           17  1983      6  1983-06-01            94.0          11   \n",
       "29           29  1984      6  1984-06-01           255.0          14   \n",
       "41           41  1985      6  1985-06-01            37.0          14   \n",
       "53           53  1986      6  1986-06-01           122.9          13   \n",
       "65           65  1987      6  1987-06-01           126.6          15   \n",
       "77           77  1988      6  1988-06-01           252.2          13   \n",
       "89           89  1989      6  1989-06-01           117.6          12   \n",
       "101         101  1990      6  1990-06-01           112.6           9   \n",
       "113         113  1991      6  1991-06-01            88.7           9   \n",
       "125         125  1992      6  1992-06-01           162.8          14   \n",
       "137         137  1993      6  1993-06-01           115.5          17   \n",
       "149         149  1994      6  1994-06-01           184.7          14   \n",
       "161         161  1995      6  1995-06-01            63.7          12   \n",
       "173         173  1996      6  1996-06-01           265.8          15   \n",
       "185         185  1997      6  1997-06-01            78.9          12   \n",
       "197         197  1998      6  1998-06-01           198.8          15   \n",
       "209         209  1999      6  1999-06-01           103.4          13   \n",
       "221         221  2000      6  2000-06-01           157.5          16   \n",
       "233         233  2001      6  2001-06-01           137.1          11   \n",
       "245         245  2002      6  2002-06-01            83.1          12   \n",
       "257         257  2003      6  2003-06-01            50.3          12   \n",
       "269         269  2004      6  2004-06-01           127.2           8   \n",
       "281         281  2005      6  2005-06-01            82.3          15   \n",
       "293         293  2006      6  2006-06-01           236.8          16   \n",
       "305         305  2007      6  2007-06-01           139.0          12   \n",
       "317         317  2008      6  2008-06-01           118.3          12   \n",
       "329         329  2009      6  2009-06-01            21.8           8   \n",
       "341         341  2010      6  2010-06-01           240.5          19   \n",
       "353         353  2011      6  2011-06-01           213.0          15   \n",
       "365         365  2012      6  2012-06-01            53.0           8   \n",
       "377         377  2013      6  2013-06-01           111.4          12   \n",
       "389         389  2014      6  2014-06-01            71.4          11   \n",
       "401         401  2015      6  2015-06-01            95.8          10   \n",
       "413         413  2016      6  2016-06-01           162.8          13   \n",
       "425         425  2017      6  2017-06-01           106.0          10   \n",
       "437         437  2018      6  2018-06-01           182.6          17   \n",
       "449         449  2019      6  2019-06-01           173.8          16   \n",
       "461         461  2020      6  2020-06-01           233.8          21   \n",
       "473         473  2021      6  2021-06-01            93.4          20   \n",
       "485         485  2022      6  2022-06-01           211.8          17   \n",
       "\n",
       "     max_rainfall             season  \n",
       "5            20.6  Southwest Monsoon  \n",
       "17           27.7  Southwest Monsoon  \n",
       "29          121.1  Southwest Monsoon  \n",
       "41            9.9  Southwest Monsoon  \n",
       "53           34.5  Southwest Monsoon  \n",
       "65           30.7  Southwest Monsoon  \n",
       "77           69.4  Southwest Monsoon  \n",
       "89           45.9  Southwest Monsoon  \n",
       "101          76.1  Southwest Monsoon  \n",
       "113          55.6  Southwest Monsoon  \n",
       "125          38.4  Southwest Monsoon  \n",
       "137          29.4  Southwest Monsoon  \n",
       "149          61.1  Southwest Monsoon  \n",
       "161          45.0  Southwest Monsoon  \n",
       "173          94.3  Southwest Monsoon  \n",
       "185          25.0  Southwest Monsoon  \n",
       "197          42.8  Southwest Monsoon  \n",
       "209          34.5  Southwest Monsoon  \n",
       "221          41.7  Southwest Monsoon  \n",
       "233          49.6  Southwest Monsoon  \n",
       "245          45.8  Southwest Monsoon  \n",
       "257          23.2  Southwest Monsoon  \n",
       "269          68.1  Southwest Monsoon  \n",
       "281          27.6  Southwest Monsoon  \n",
       "293          37.3  Southwest Monsoon  \n",
       "305          38.0  Southwest Monsoon  \n",
       "317          45.2  Southwest Monsoon  \n",
       "329           5.8  Southwest Monsoon  \n",
       "341          43.0  Southwest Monsoon  \n",
       "353          82.0  Southwest Monsoon  \n",
       "365          38.2  Southwest Monsoon  \n",
       "377          22.4  Southwest Monsoon  \n",
       "389          18.8  Southwest Monsoon  \n",
       "401          28.4  Southwest Monsoon  \n",
       "413          67.8  Southwest Monsoon  \n",
       "425          29.6  Southwest Monsoon  \n",
       "437          46.8  Southwest Monsoon  \n",
       "449          37.6  Southwest Monsoon  \n",
       "461          41.0  Southwest Monsoon  \n",
       "473          23.8  Southwest Monsoon  \n",
       "485          59.4  Southwest Monsoon  "
      ]
     },
     "execution_count": 146,
     "metadata": {},
     "output_type": "execute_result"
    }
   ],
   "source": [
    "merged_df.loc[merged_df['month']==6]"
   ]
  },
  {
   "cell_type": "code",
   "execution_count": 304,
   "id": "4da50af2-f560-4a76-92e6-5d6b4f5e9912",
   "metadata": {
    "collapsed": true,
    "jupyter": {
     "outputs_hidden": true
    },
    "tags": []
   },
   "outputs": [
    {
     "data": {
      "text/html": [
       "<div>\n",
       "<style scoped>\n",
       "    .dataframe tbody tr th:only-of-type {\n",
       "        vertical-align: middle;\n",
       "    }\n",
       "\n",
       "    .dataframe tbody tr th {\n",
       "        vertical-align: top;\n",
       "    }\n",
       "\n",
       "    .dataframe thead th {\n",
       "        text-align: right;\n",
       "    }\n",
       "</style>\n",
       "<table border=\"1\" class=\"dataframe\">\n",
       "  <thead>\n",
       "    <tr style=\"text-align: right;\">\n",
       "      <th></th>\n",
       "      <th>year</th>\n",
       "      <th>month</th>\n",
       "      <th>date</th>\n",
       "      <th>total_rainfall</th>\n",
       "      <th>rainy_days</th>\n",
       "      <th>max_rainfall</th>\n",
       "      <th>season</th>\n",
       "      <th>decade</th>\n",
       "    </tr>\n",
       "  </thead>\n",
       "  <tbody>\n",
       "    <tr>\n",
       "      <th>0</th>\n",
       "      <td>1982</td>\n",
       "      <td>1</td>\n",
       "      <td>1982-01-01</td>\n",
       "      <td>107.1</td>\n",
       "      <td>10</td>\n",
       "      <td>36.5</td>\n",
       "      <td>Northeast Monsoon</td>\n",
       "      <td>80s</td>\n",
       "    </tr>\n",
       "    <tr>\n",
       "      <th>1</th>\n",
       "      <td>1982</td>\n",
       "      <td>2</td>\n",
       "      <td>1982-02-01</td>\n",
       "      <td>27.8</td>\n",
       "      <td>5</td>\n",
       "      <td>9.4</td>\n",
       "      <td>Northeast Monsoon</td>\n",
       "      <td>80s</td>\n",
       "    </tr>\n",
       "    <tr>\n",
       "      <th>2</th>\n",
       "      <td>1982</td>\n",
       "      <td>3</td>\n",
       "      <td>1982-03-01</td>\n",
       "      <td>160.8</td>\n",
       "      <td>11</td>\n",
       "      <td>61.7</td>\n",
       "      <td>Inter-monsoon (Mar-May)</td>\n",
       "      <td>80s</td>\n",
       "    </tr>\n",
       "    <tr>\n",
       "      <th>3</th>\n",
       "      <td>1982</td>\n",
       "      <td>4</td>\n",
       "      <td>1982-04-01</td>\n",
       "      <td>157.0</td>\n",
       "      <td>14</td>\n",
       "      <td>45.1</td>\n",
       "      <td>Inter-monsoon (Mar-May)</td>\n",
       "      <td>80s</td>\n",
       "    </tr>\n",
       "    <tr>\n",
       "      <th>4</th>\n",
       "      <td>1982</td>\n",
       "      <td>5</td>\n",
       "      <td>1982-05-01</td>\n",
       "      <td>102.2</td>\n",
       "      <td>10</td>\n",
       "      <td>33.0</td>\n",
       "      <td>Inter-monsoon (Mar-May)</td>\n",
       "      <td>80s</td>\n",
       "    </tr>\n",
       "  </tbody>\n",
       "</table>\n",
       "</div>"
      ],
      "text/plain": [
       "   year  month        date  total_rainfall  rainy_days  max_rainfall  \\\n",
       "0  1982      1  1982-01-01           107.1          10          36.5   \n",
       "1  1982      2  1982-02-01            27.8           5           9.4   \n",
       "2  1982      3  1982-03-01           160.8          11          61.7   \n",
       "3  1982      4  1982-04-01           157.0          14          45.1   \n",
       "4  1982      5  1982-05-01           102.2          10          33.0   \n",
       "\n",
       "                    season decade  \n",
       "0        Northeast Monsoon    80s  \n",
       "1        Northeast Monsoon    80s  \n",
       "2  Inter-monsoon (Mar-May)    80s  \n",
       "3  Inter-monsoon (Mar-May)    80s  \n",
       "4  Inter-monsoon (Mar-May)    80s  "
      ]
     },
     "execution_count": 304,
     "metadata": {},
     "output_type": "execute_result"
    }
   ],
   "source": [
    "merged_df.head()"
   ]
  },
  {
   "cell_type": "code",
   "execution_count": 148,
   "id": "35832660-b2c7-40a5-96bf-46b7bb5c4e36",
   "metadata": {},
   "outputs": [],
   "source": [
    "merged_df.drop(columns=['Unnamed: 0'], inplace=True)"
   ]
  },
  {
   "cell_type": "code",
   "execution_count": 149,
   "id": "6c8b5bc8-b53c-49b0-a3b0-c52754ff24cd",
   "metadata": {
    "collapsed": true,
    "jupyter": {
     "outputs_hidden": true
    },
    "tags": []
   },
   "outputs": [
    {
     "data": {
      "text/html": [
       "<div>\n",
       "<style scoped>\n",
       "    .dataframe tbody tr th:only-of-type {\n",
       "        vertical-align: middle;\n",
       "    }\n",
       "\n",
       "    .dataframe tbody tr th {\n",
       "        vertical-align: top;\n",
       "    }\n",
       "\n",
       "    .dataframe thead th {\n",
       "        text-align: right;\n",
       "    }\n",
       "</style>\n",
       "<table border=\"1\" class=\"dataframe\">\n",
       "  <thead>\n",
       "    <tr style=\"text-align: right;\">\n",
       "      <th></th>\n",
       "      <th>year</th>\n",
       "      <th>month</th>\n",
       "      <th>date</th>\n",
       "      <th>total_rainfall</th>\n",
       "      <th>rainy_days</th>\n",
       "      <th>max_rainfall</th>\n",
       "      <th>season</th>\n",
       "    </tr>\n",
       "  </thead>\n",
       "  <tbody>\n",
       "    <tr>\n",
       "      <th>0</th>\n",
       "      <td>1982</td>\n",
       "      <td>1</td>\n",
       "      <td>1982-01-01</td>\n",
       "      <td>107.1</td>\n",
       "      <td>10</td>\n",
       "      <td>36.5</td>\n",
       "      <td>Northeast Monsoon</td>\n",
       "    </tr>\n",
       "    <tr>\n",
       "      <th>1</th>\n",
       "      <td>1982</td>\n",
       "      <td>2</td>\n",
       "      <td>1982-02-01</td>\n",
       "      <td>27.8</td>\n",
       "      <td>5</td>\n",
       "      <td>9.4</td>\n",
       "      <td>Northeast Monsoon</td>\n",
       "    </tr>\n",
       "    <tr>\n",
       "      <th>2</th>\n",
       "      <td>1982</td>\n",
       "      <td>3</td>\n",
       "      <td>1982-03-01</td>\n",
       "      <td>160.8</td>\n",
       "      <td>11</td>\n",
       "      <td>61.7</td>\n",
       "      <td>Inter-monsoon</td>\n",
       "    </tr>\n",
       "    <tr>\n",
       "      <th>3</th>\n",
       "      <td>1982</td>\n",
       "      <td>4</td>\n",
       "      <td>1982-04-01</td>\n",
       "      <td>157.0</td>\n",
       "      <td>14</td>\n",
       "      <td>45.1</td>\n",
       "      <td>Inter-monsoon</td>\n",
       "    </tr>\n",
       "    <tr>\n",
       "      <th>4</th>\n",
       "      <td>1982</td>\n",
       "      <td>5</td>\n",
       "      <td>1982-05-01</td>\n",
       "      <td>102.2</td>\n",
       "      <td>10</td>\n",
       "      <td>33.0</td>\n",
       "      <td>Inter-monsoon</td>\n",
       "    </tr>\n",
       "  </tbody>\n",
       "</table>\n",
       "</div>"
      ],
      "text/plain": [
       "   year  month        date  total_rainfall  rainy_days  max_rainfall  \\\n",
       "0  1982      1  1982-01-01           107.1          10          36.5   \n",
       "1  1982      2  1982-02-01            27.8           5           9.4   \n",
       "2  1982      3  1982-03-01           160.8          11          61.7   \n",
       "3  1982      4  1982-04-01           157.0          14          45.1   \n",
       "4  1982      5  1982-05-01           102.2          10          33.0   \n",
       "\n",
       "              season  \n",
       "0  Northeast Monsoon  \n",
       "1  Northeast Monsoon  \n",
       "2      Inter-monsoon  \n",
       "3      Inter-monsoon  \n",
       "4      Inter-monsoon  "
      ]
     },
     "execution_count": 149,
     "metadata": {},
     "output_type": "execute_result"
    }
   ],
   "source": [
    "merged_df.head()"
   ]
  },
  {
   "cell_type": "code",
   "execution_count": 274,
   "id": "55942bbc-ce3b-4b01-a480-39ce09be36d0",
   "metadata": {
    "tags": []
   },
   "outputs": [
    {
     "data": {
      "text/plain": [
       "<AxesSubplot: xlabel='month'>"
      ]
     },
     "execution_count": 274,
     "metadata": {},
     "output_type": "execute_result"
    },
    {
     "data": {
      "image/png": "[encoded data removed]",
      "text/plain": [
       "<Figure size 640x480 with 1 Axes>"
      ]
     },
     "metadata": {},
     "output_type": "display_data"
    }
   ],
   "source": [
    "merged_df.groupby('month')['total_rainfall'].mean().plot(kind='bar')\n",
    "\n",
    "# this shows the relationship between month and total_rainfall. Similar to what i shown\n",
    "# and has some initial explanation of the seasons\n",
    "# can i color code them by seasons here?"
   ]
  },
  {
   "cell_type": "code",
   "execution_count": 322,
   "id": "ca8cb24e-4524-4c7a-b0a9-ff0e9a0dd8d2",
   "metadata": {},
   "outputs": [
    {
     "data": {
      "text/plain": [
       "<seaborn.axisgrid.FacetGrid at 0x175d79760>"
      ]
     },
     "execution_count": 322,
     "metadata": {},
     "output_type": "execute_result"
    },
    {
     "data": {
      "text/plain": [
       "<Figure size 1400x900 with 0 Axes>"
      ]
     },
     "metadata": {},
     "output_type": "display_data"
    },
    {
     "data": {
      "image/png": "[encoded data removed]",
      "text/plain": [
       "<Figure size 762.5x500 with 1 Axes>"
      ]
     },
     "metadata": {},
     "output_type": "display_data"
    }
   ],
   "source": [
    "#can use this to show the relationship between season\n",
    "plt.figure(figsize=(14,9))\n",
    "sns.catplot(data=merged_df, x=\"month\", y=\"total_rainfall\", hue='season')"
   ]
  },
  {
   "cell_type": "code",
   "execution_count": 317,
   "id": "a3193d7e-e1a8-4ee4-af7e-28890ac3dcd0",
   "metadata": {},
   "outputs": [
    {
     "data": {
      "text/plain": [
       "<seaborn.axisgrid.FacetGrid at 0x1758ce4c0>"
      ]
     },
     "execution_count": 317,
     "metadata": {},
     "output_type": "execute_result"
    },
    {
     "data": {
      "text/plain": [
       "<Figure size 1400x900 with 0 Axes>"
      ]
     },
     "metadata": {},
     "output_type": "display_data"
    },
    {
     "data": {
      "image/png": "[encoded data removed]",
      "text/plain": [
       "<Figure size 762.5x500 with 1 Axes>"
      ]
     },
     "metadata": {},
     "output_type": "display_data"
    }
   ],
   "source": [
    "plt.figure(figsize=(14,9))\n",
    "sns.catplot(data=merged_df, x=\"month\", y=\"rainy_days\", hue='season')"
   ]
  },
  {
   "cell_type": "code",
   "execution_count": 156,
   "id": "b2c2f606-da83-4d75-a175-7d2b89bd96b9",
   "metadata": {
    "collapsed": true,
    "jupyter": {
     "outputs_hidden": true
    },
    "tags": []
   },
   "outputs": [
    {
     "data": {
      "text/html": [
       "<div>\n",
       "<style scoped>\n",
       "    .dataframe tbody tr th:only-of-type {\n",
       "        vertical-align: middle;\n",
       "    }\n",
       "\n",
       "    .dataframe tbody tr th {\n",
       "        vertical-align: top;\n",
       "    }\n",
       "\n",
       "    .dataframe thead th {\n",
       "        text-align: right;\n",
       "    }\n",
       "</style>\n",
       "<table border=\"1\" class=\"dataframe\">\n",
       "  <thead>\n",
       "    <tr style=\"text-align: right;\">\n",
       "      <th></th>\n",
       "      <th>year</th>\n",
       "      <th>month</th>\n",
       "      <th>date</th>\n",
       "      <th>total_rainfall</th>\n",
       "      <th>rainy_days</th>\n",
       "      <th>max_rainfall</th>\n",
       "      <th>season</th>\n",
       "      <th>decade</th>\n",
       "    </tr>\n",
       "  </thead>\n",
       "  <tbody>\n",
       "    <tr>\n",
       "      <th>0</th>\n",
       "      <td>1982</td>\n",
       "      <td>1</td>\n",
       "      <td>1982-01-01</td>\n",
       "      <td>107.1</td>\n",
       "      <td>10</td>\n",
       "      <td>36.5</td>\n",
       "      <td>Northeast Monsoon</td>\n",
       "      <td>80s</td>\n",
       "    </tr>\n",
       "    <tr>\n",
       "      <th>1</th>\n",
       "      <td>1982</td>\n",
       "      <td>2</td>\n",
       "      <td>1982-02-01</td>\n",
       "      <td>27.8</td>\n",
       "      <td>5</td>\n",
       "      <td>9.4</td>\n",
       "      <td>Northeast Monsoon</td>\n",
       "      <td>80s</td>\n",
       "    </tr>\n",
       "    <tr>\n",
       "      <th>2</th>\n",
       "      <td>1982</td>\n",
       "      <td>3</td>\n",
       "      <td>1982-03-01</td>\n",
       "      <td>160.8</td>\n",
       "      <td>11</td>\n",
       "      <td>61.7</td>\n",
       "      <td>Inter-monsoon</td>\n",
       "      <td>80s</td>\n",
       "    </tr>\n",
       "    <tr>\n",
       "      <th>3</th>\n",
       "      <td>1982</td>\n",
       "      <td>4</td>\n",
       "      <td>1982-04-01</td>\n",
       "      <td>157.0</td>\n",
       "      <td>14</td>\n",
       "      <td>45.1</td>\n",
       "      <td>Inter-monsoon</td>\n",
       "      <td>80s</td>\n",
       "    </tr>\n",
       "    <tr>\n",
       "      <th>4</th>\n",
       "      <td>1982</td>\n",
       "      <td>5</td>\n",
       "      <td>1982-05-01</td>\n",
       "      <td>102.2</td>\n",
       "      <td>10</td>\n",
       "      <td>33.0</td>\n",
       "      <td>Inter-monsoon</td>\n",
       "      <td>80s</td>\n",
       "    </tr>\n",
       "  </tbody>\n",
       "</table>\n",
       "</div>"
      ],
      "text/plain": [
       "   year  month        date  total_rainfall  rainy_days  max_rainfall  \\\n",
       "0  1982      1  1982-01-01           107.1          10          36.5   \n",
       "1  1982      2  1982-02-01            27.8           5           9.4   \n",
       "2  1982      3  1982-03-01           160.8          11          61.7   \n",
       "3  1982      4  1982-04-01           157.0          14          45.1   \n",
       "4  1982      5  1982-05-01           102.2          10          33.0   \n",
       "\n",
       "              season decade  \n",
       "0  Northeast Monsoon    80s  \n",
       "1  Northeast Monsoon    80s  \n",
       "2      Inter-monsoon    80s  \n",
       "3      Inter-monsoon    80s  \n",
       "4      Inter-monsoon    80s  "
      ]
     },
     "execution_count": 156,
     "metadata": {},
     "output_type": "execute_result"
    }
   ],
   "source": [
    "merged_df.head()"
   ]
  },
  {
   "cell_type": "code",
   "execution_count": 318,
   "id": "63a1f2af-4773-492a-b7af-c90ad3889449",
   "metadata": {
    "tags": []
   },
   "outputs": [
    {
     "data": {
      "text/plain": [
       "Text(0.5, 29.000000000000007, 'Across the decades')"
      ]
     },
     "execution_count": 318,
     "metadata": {},
     "output_type": "execute_result"
    },
    {
     "data": {
      "image/png": "[encoded data removed]",
      "text/plain": [
       "<Figure size 662.5x400 with 1 Axes>"
      ]
     },
     "metadata": {},
     "output_type": "display_data"
    }
   ],
   "source": [
    "# can we find out the total_rainfall sum < 30mm? we can safely conclude droughts from here\n",
    "# hard to conclude > 210mm as there might be days with 70mm and less than that which offset it\n",
    "\n",
    "sns.catplot(data=merged_df, x='decade', y='rainy_days', hue='season', kind='bar', height=4, aspect=1)\n",
    "plt.ylabel('Total Days with > 0.2mm rain within a month')\n",
    "plt.xlabel('Across the decades')"
   ]
  },
  {
   "cell_type": "code",
   "execution_count": 391,
   "id": "9be031d9-07d9-4018-a995-c2844cadb1cc",
   "metadata": {},
   "outputs": [
    {
     "data": {
      "image/png": "[encoded data removed]",
      "text/plain": [
       "<Figure size 662.5x400 with 1 Axes>"
      ]
     },
     "metadata": {},
     "output_type": "display_data"
    }
   ],
   "source": [
    "# days with rainfall does not translate to rainfall vol\n",
    "\n",
    "sns.catplot(data=merged_df, x='decade', y='total_rainfall', hue='season',kind='bar', height=4, aspect=1)\n",
    "plt.ylabel('Rainfall across months')\n",
    "plt.xlabel('Month')\n",
    "\n",
    "plt.show()"
   ]
  },
  {
   "cell_type": "code",
   "execution_count": 355,
   "id": "ff04e4fe-f58b-427c-aab6-04ab241dff43",
   "metadata": {},
   "outputs": [
    {
     "data": {
      "text/plain": [
       "<AxesSubplot: xlabel='year'>"
      ]
     },
     "execution_count": 355,
     "metadata": {},
     "output_type": "execute_result"
    },
    {
     "data": {
      "image/png": "[encoded data removed]",
      "text/plain": [
       "<Figure size 640x480 with 1 Axes>"
      ]
     },
     "metadata": {},
     "output_type": "display_data"
    }
   ],
   "source": [
    "# find out the total_rainfall that are less than 30mm within a month(that would be <1mm per rainy day) during the past decade\n",
    "merged_df[merged_df['decade']=='10s'].groupby('year')['total_rainfall'].min().plot(kind='bar')"
   ]
  },
  {
   "cell_type": "code",
   "execution_count": 356,
   "id": "3c6e6c68-4ba9-4915-afe1-371781c8a4af",
   "metadata": {},
   "outputs": [
    {
     "data": {
      "text/plain": [
       "<AxesSubplot: xlabel='year'>"
      ]
     },
     "execution_count": 356,
     "metadata": {},
     "output_type": "execute_result"
    },
    {
     "data": {
      "image/png": "[encoded data removed]",
      "text/plain": [
       "<Figure size 640x480 with 1 Axes>"
      ]
     },
     "metadata": {},
     "output_type": "display_data"
    }
   ],
   "source": [
    "# find out the max rainy days by year; 2015 has the lowest, followed by 2019. droughts happen during these two years\n",
    "merged_df[merged_df['decade']=='10s'].groupby('year')['rainy_days'].min().plot(kind='bar')"
   ]
  },
  {
   "cell_type": "code",
   "execution_count": 359,
   "id": "bfee7818-a28c-4659-b927-44777569be57",
   "metadata": {},
   "outputs": [
    {
     "data": {
      "text/plain": [
       "<AxesSubplot: xlabel='year'>"
      ]
     },
     "execution_count": 359,
     "metadata": {},
     "output_type": "execute_result"
    },
    {
     "data": {
      "image/png": "[encoded data removed]",
      "text/plain": [
       "<Figure size 640x480 with 1 Axes>"
      ]
     },
     "metadata": {},
     "output_type": "display_data"
    }
   ],
   "source": [
    "# find out the monthly total_rainfall that are more than 210mm within a month(that would be >70mm per rainy day) during the past decade\n",
    "merged_df[merged_df['decade']=='10s'].groupby('year')['total_rainfall'].max().plot(kind='bar')"
   ]
  },
  {
   "cell_type": "code",
   "execution_count": 353,
   "id": "9f3a61e0-173a-4f1c-a052-f63211b25a77",
   "metadata": {
    "tags": []
   },
   "outputs": [
    {
     "data": {
      "text/plain": [
       "<AxesSubplot: xlabel='year'>"
      ]
     },
     "execution_count": 353,
     "metadata": {},
     "output_type": "execute_result"
    },
    {
     "data": {
      "image/png": "[encoded data removed]",
      "text/plain": [
       "<Figure size 640x480 with 1 Axes>"
      ]
     },
     "metadata": {},
     "output_type": "display_data"
    }
   ],
   "source": [
    "# find out the max rainy days by year; 2017/18 has the highest. but its more dangerous in 2017 as it has a higher max rainfall than 2018. \n",
    "# 2011 has no news on flood. why? global warming?\n",
    "merged_df[merged_df['decade']=='10s'].groupby('year')['rainy_days'].max().plot(kind='bar')"
   ]
  },
  {
   "cell_type": "code",
   "execution_count": 235,
   "id": "00e4cd88-4259-4681-b8de-48c9247d9012",
   "metadata": {
    "collapsed": true,
    "jupyter": {
     "outputs_hidden": true
    },
    "tags": []
   },
   "outputs": [
    {
     "data": {
      "text/plain": [
       "<AxesSubplot: xlabel='year', ylabel='total_rainfall'>"
      ]
     },
     "execution_count": 235,
     "metadata": {},
     "output_type": "execute_result"
    },
    {
     "data": {
      "image/png": "[encoded data removed]",
      "text/plain": [
       "<Figure size 1600x1500 with 1 Axes>"
      ]
     },
     "metadata": {},
     "output_type": "display_data"
    }
   ],
   "source": [
    "# find out the dry season across time with tempature?\n",
    "plt.figure(figsize = (16,15))\n",
    "sns.lineplot(data=merged_df, x='year', y='total_rainfall')"
   ]
  },
  {
   "cell_type": "code",
   "execution_count": 272,
   "id": "d2d97e12-08ad-4c46-8feb-fe82d2f42544",
   "metadata": {},
   "outputs": [],
   "source": [
    "merged_df['year'] = merged_df['year'].astype(int)"
   ]
  },
  {
   "cell_type": "code",
   "execution_count": 273,
   "id": "d05782e3-78d0-4a1c-9c16-7e35857c950e",
   "metadata": {},
   "outputs": [],
   "source": [
    "merged_df['month'] = merged_df['month'].astype(int)"
   ]
  },
  {
   "cell_type": "code",
   "execution_count": 223,
   "id": "1826cfcd-f49e-455e-af90-44cfeec1170e",
   "metadata": {
    "collapsed": true,
    "jupyter": {
     "outputs_hidden": true
    },
    "tags": []
   },
   "outputs": [
    {
     "name": "stdout",
     "output_type": "stream",
     "text": [
      "<class 'pandas.core.frame.DataFrame'>\n",
      "RangeIndex: 488 entries, 0 to 487\n",
      "Data columns (total 8 columns):\n",
      " #   Column          Non-Null Count  Dtype  \n",
      "---  ------          --------------  -----  \n",
      " 0   year            488 non-null    object \n",
      " 1   month           488 non-null    object \n",
      " 2   date            488 non-null    object \n",
      " 3   total_rainfall  488 non-null    float64\n",
      " 4   rainy_days      488 non-null    int64  \n",
      " 5   max_rainfall    488 non-null    float64\n",
      " 6   season          488 non-null    object \n",
      " 7   decade          488 non-null    object \n",
      "dtypes: float64(2), int64(1), object(5)\n",
      "memory usage: 30.6+ KB\n"
     ]
    }
   ],
   "source": [
    "merged_df.info()"
   ]
  },
  {
   "cell_type": "code",
   "execution_count": 275,
   "id": "87ce369b-070f-448b-bc1c-c55ee1214dda",
   "metadata": {},
   "outputs": [
    {
     "data": {
      "text/plain": [
       "<AxesSubplot: xlabel='month'>"
      ]
     },
     "execution_count": 275,
     "metadata": {},
     "output_type": "execute_result"
    },
    {
     "data": {
      "image/png": "[encoded data removed]",
      "text/plain": [
       "<Figure size 640x480 with 1 Axes>"
      ]
     },
     "metadata": {},
     "output_type": "display_data"
    }
   ],
   "source": [
    "# this shows by the month\n",
    "result.groupby('month')['total_cases_sum'].mean().plot(kind='bar')"
   ]
  },
  {
   "cell_type": "code",
   "execution_count": 213,
   "id": "24049626-c56b-4bb4-89e2-ad04a6d740a6",
   "metadata": {},
   "outputs": [
    {
     "data": {
      "text/html": [
       "<div>\n",
       "<style scoped>\n",
       "    .dataframe tbody tr th:only-of-type {\n",
       "        vertical-align: middle;\n",
       "    }\n",
       "\n",
       "    .dataframe tbody tr th {\n",
       "        vertical-align: top;\n",
       "    }\n",
       "\n",
       "    .dataframe thead th {\n",
       "        text-align: right;\n",
       "    }\n",
       "</style>\n",
       "<table border=\"1\" class=\"dataframe\">\n",
       "  <thead>\n",
       "    <tr style=\"text-align: right;\">\n",
       "      <th></th>\n",
       "      <th>year</th>\n",
       "      <th>month_x</th>\n",
       "      <th>Imported_sum</th>\n",
       "      <th>Local_sum</th>\n",
       "      <th>total_cases_sum</th>\n",
       "      <th>date</th>\n",
       "      <th>total_rainfall</th>\n",
       "      <th>rainy_days</th>\n",
       "      <th>max_rainfall</th>\n",
       "      <th>season</th>\n",
       "      <th>decade</th>\n",
       "    </tr>\n",
       "  </thead>\n",
       "  <tbody>\n",
       "    <tr>\n",
       "      <th>0</th>\n",
       "      <td>2020</td>\n",
       "      <td>1</td>\n",
       "      <td>16</td>\n",
       "      <td>0</td>\n",
       "      <td>16</td>\n",
       "      <td>2020-01-01</td>\n",
       "      <td>88.4</td>\n",
       "      <td>6</td>\n",
       "      <td>38.0</td>\n",
       "      <td>Northeast Monsoon</td>\n",
       "      <td>20s</td>\n",
       "    </tr>\n",
       "    <tr>\n",
       "      <th>1</th>\n",
       "      <td>2020</td>\n",
       "      <td>1</td>\n",
       "      <td>16</td>\n",
       "      <td>0</td>\n",
       "      <td>16</td>\n",
       "      <td>2020-02-01</td>\n",
       "      <td>65.0</td>\n",
       "      <td>8</td>\n",
       "      <td>23.8</td>\n",
       "      <td>Northeast Monsoon</td>\n",
       "      <td>20s</td>\n",
       "    </tr>\n",
       "    <tr>\n",
       "      <th>2</th>\n",
       "      <td>2020</td>\n",
       "      <td>1</td>\n",
       "      <td>16</td>\n",
       "      <td>0</td>\n",
       "      <td>16</td>\n",
       "      <td>2020-03-01</td>\n",
       "      <td>108.8</td>\n",
       "      <td>8</td>\n",
       "      <td>47.4</td>\n",
       "      <td>Inter-monsoon</td>\n",
       "      <td>20s</td>\n",
       "    </tr>\n",
       "    <tr>\n",
       "      <th>3</th>\n",
       "      <td>2020</td>\n",
       "      <td>1</td>\n",
       "      <td>16</td>\n",
       "      <td>0</td>\n",
       "      <td>16</td>\n",
       "      <td>2020-04-01</td>\n",
       "      <td>188.0</td>\n",
       "      <td>12</td>\n",
       "      <td>51.8</td>\n",
       "      <td>Inter-monsoon</td>\n",
       "      <td>20s</td>\n",
       "    </tr>\n",
       "    <tr>\n",
       "      <th>4</th>\n",
       "      <td>2020</td>\n",
       "      <td>1</td>\n",
       "      <td>16</td>\n",
       "      <td>0</td>\n",
       "      <td>16</td>\n",
       "      <td>2020-05-01</td>\n",
       "      <td>255.6</td>\n",
       "      <td>16</td>\n",
       "      <td>53.8</td>\n",
       "      <td>Inter-monsoon</td>\n",
       "      <td>20s</td>\n",
       "    </tr>\n",
       "  </tbody>\n",
       "</table>\n",
       "</div>"
      ],
      "text/plain": [
       "   year  month_x  Imported_sum  Local_sum  total_cases_sum        date  \\\n",
       "0  2020        1            16          0               16  2020-01-01   \n",
       "1  2020        1            16          0               16  2020-02-01   \n",
       "2  2020        1            16          0               16  2020-03-01   \n",
       "3  2020        1            16          0               16  2020-04-01   \n",
       "4  2020        1            16          0               16  2020-05-01   \n",
       "\n",
       "   total_rainfall  rainy_days  max_rainfall             season decade  \n",
       "0            88.4           6          38.0  Northeast Monsoon    20s  \n",
       "1            65.0           8          23.8  Northeast Monsoon    20s  \n",
       "2           108.8           8          47.4      Inter-monsoon    20s  \n",
       "3           188.0          12          51.8      Inter-monsoon    20s  \n",
       "4           255.6          16          53.8      Inter-monsoon    20s  "
      ]
     },
     "execution_count": 213,
     "metadata": {},
     "output_type": "execute_result"
    }
   ],
   "source": [
    "new_result.head()"
   ]
  },
  {
   "cell_type": "code",
   "execution_count": 210,
   "id": "0ff2b863-c4a1-4fc3-8f55-e8ffbe19a36b",
   "metadata": {},
   "outputs": [
    {
     "data": {
      "text/plain": [
       "<seaborn.axisgrid.FacetGrid at 0x16d5ae580>"
      ]
     },
     "execution_count": 210,
     "metadata": {},
     "output_type": "execute_result"
    },
    {
     "data": {
      "image/png": "[encoded data removed]",
      "text/plain": [
       "<Figure size 500x500 with 1 Axes>"
      ]
     },
     "metadata": {},
     "output_type": "display_data"
    }
   ],
   "source": [
    "# ...justapoxed with this?\n",
    "sns.catplot(data=merged_df, x='month', y='rainy_days', kind='bar', s)"
   ]
  },
  {
   "cell_type": "code",
   "execution_count": 187,
   "id": "0fd3bd3a-57c1-4e4d-addd-86035b0c1086",
   "metadata": {},
   "outputs": [
    {
     "name": "stdout",
     "output_type": "stream",
     "text": [
      "<class 'pandas.core.frame.DataFrame'>\n",
      "RangeIndex: 36 entries, 0 to 35\n",
      "Data columns (total 5 columns):\n",
      " #   Column           Non-Null Count  Dtype \n",
      "---  ------           --------------  ----- \n",
      " 0   year             36 non-null     object\n",
      " 1   month            36 non-null     object\n",
      " 2   Imported_sum     36 non-null     int64 \n",
      " 3   Local_sum        36 non-null     int64 \n",
      " 4   total_cases_sum  36 non-null     int64 \n",
      "dtypes: int64(3), object(2)\n",
      "memory usage: 1.5+ KB\n"
     ]
    }
   ],
   "source": [
    "result.info()"
   ]
  },
  {
   "cell_type": "code",
   "execution_count": 188,
   "id": "e824f407-78be-41d9-951d-8b19b732525c",
   "metadata": {},
   "outputs": [
    {
     "name": "stdout",
     "output_type": "stream",
     "text": [
      "<class 'pandas.core.frame.DataFrame'>\n",
      "RangeIndex: 488 entries, 0 to 487\n",
      "Data columns (total 8 columns):\n",
      " #   Column          Non-Null Count  Dtype  \n",
      "---  ------          --------------  -----  \n",
      " 0   year            488 non-null    int64  \n",
      " 1   month           488 non-null    int64  \n",
      " 2   date            488 non-null    object \n",
      " 3   total_rainfall  488 non-null    float64\n",
      " 4   rainy_days      488 non-null    int64  \n",
      " 5   max_rainfall    488 non-null    float64\n",
      " 6   season          488 non-null    object \n",
      " 7   decade          488 non-null    object \n",
      "dtypes: float64(2), int64(3), object(3)\n",
      "memory usage: 30.6+ KB\n"
     ]
    }
   ],
   "source": [
    "merged_df.info()"
   ]
  },
  {
   "cell_type": "code",
   "execution_count": 195,
   "id": "0c21aaf6-6f80-40fa-806d-922f7462d9c6",
   "metadata": {},
   "outputs": [],
   "source": [
    "result['year'] = pd.to_numeric(result['year'])"
   ]
  },
  {
   "cell_type": "code",
   "execution_count": 196,
   "id": "f8e38624-f9a4-4e21-8d3f-eb72687b7722",
   "metadata": {},
   "outputs": [],
   "source": [
    "result['month'] = pd.to_numeric(result['month'])"
   ]
  },
  {
   "cell_type": "code",
   "execution_count": 198,
   "id": "e5e3f0ac-9b4d-4f39-92e2-e2852c6f4269",
   "metadata": {},
   "outputs": [],
   "source": [
    "new_result = result.merge(merged_df, on=['year'], how='left')"
   ]
  },
  {
   "cell_type": "code",
   "execution_count": 200,
   "id": "cf50654c-42ac-4eef-84c7-68c18c200c4c",
   "metadata": {},
   "outputs": [],
   "source": [
    "new_result.drop(columns=['month_y'], inplace=True)"
   ]
  },
  {
   "cell_type": "code",
   "execution_count": 201,
   "id": "19fd679b-a0ac-4c56-b294-0cd6456d82d2",
   "metadata": {},
   "outputs": [
    {
     "name": "stderr",
     "output_type": "stream",
     "text": [
      "/var/folders/t4/n89gfp4s10b4j476kq4xh2p00000gn/T/ipykernel_64727/1670312290.py:4: FutureWarning: The default value of numeric_only in DataFrame.corr is deprecated. In a future version, it will default to False. Select only valid columns or specify the value of numeric_only to silence this warning.\n",
      "  corr = new_result.corr()\n"
     ]
    },
    {
     "data": {
      "image/png": "[encoded data removed]",
      "text/plain": [
       "<Figure size 1600x900 with 2 Axes>"
      ]
     },
     "metadata": {},
     "output_type": "display_data"
    }
   ],
   "source": [
    "plt.figure(figsize = (16,9))\n",
    "\n",
    "# Get correlation of variables.\n",
    "corr = new_result.corr()\n",
    "\n",
    "# Set up mask to be \"True\" in the upper triangle. this is to reduce the number of 'squares' seen in the correlation heatmap\n",
    "mask = np.zeros_like(corr)\n",
    "mask[np.triu_indices_from(mask)] = True\n",
    "\n",
    "# Plot our correlation heatmap, while masking the upper triangle to be white.\n",
    "with sns.axes_style(\"white\"):\n",
    "    sns.heatmap(corr, mask = mask, square = True, annot = True, vmin = -1, vmax = 1, linewidths = .5)"
   ]
  },
  {
   "cell_type": "code",
   "execution_count": 360,
   "id": "54414415-35c4-4bdd-94cd-59a53ff89a4c",
   "metadata": {},
   "outputs": [
    {
     "data": {
      "text/html": [
       "<div>\n",
       "<style scoped>\n",
       "    .dataframe tbody tr th:only-of-type {\n",
       "        vertical-align: middle;\n",
       "    }\n",
       "\n",
       "    .dataframe tbody tr th {\n",
       "        vertical-align: top;\n",
       "    }\n",
       "\n",
       "    .dataframe thead th {\n",
       "        text-align: right;\n",
       "    }\n",
       "</style>\n",
       "<table border=\"1\" class=\"dataframe\">\n",
       "  <thead>\n",
       "    <tr style=\"text-align: right;\">\n",
       "      <th></th>\n",
       "      <th>year</th>\n",
       "      <th>month</th>\n",
       "      <th>date</th>\n",
       "      <th>total_rainfall</th>\n",
       "      <th>rainy_days</th>\n",
       "      <th>max_rainfall</th>\n",
       "      <th>season</th>\n",
       "      <th>decade</th>\n",
       "    </tr>\n",
       "  </thead>\n",
       "  <tbody>\n",
       "    <tr>\n",
       "      <th>0</th>\n",
       "      <td>1982</td>\n",
       "      <td>1</td>\n",
       "      <td>1982-01-01</td>\n",
       "      <td>107.1</td>\n",
       "      <td>10</td>\n",
       "      <td>36.5</td>\n",
       "      <td>Northeast Monsoon (Dec-Feb)</td>\n",
       "      <td>80s</td>\n",
       "    </tr>\n",
       "    <tr>\n",
       "      <th>1</th>\n",
       "      <td>1982</td>\n",
       "      <td>2</td>\n",
       "      <td>1982-02-01</td>\n",
       "      <td>27.8</td>\n",
       "      <td>5</td>\n",
       "      <td>9.4</td>\n",
       "      <td>Northeast Monsoon (Dec-Feb)</td>\n",
       "      <td>80s</td>\n",
       "    </tr>\n",
       "    <tr>\n",
       "      <th>2</th>\n",
       "      <td>1982</td>\n",
       "      <td>3</td>\n",
       "      <td>1982-03-01</td>\n",
       "      <td>160.8</td>\n",
       "      <td>11</td>\n",
       "      <td>61.7</td>\n",
       "      <td>Inter-monsoon (Mar-May)</td>\n",
       "      <td>80s</td>\n",
       "    </tr>\n",
       "    <tr>\n",
       "      <th>3</th>\n",
       "      <td>1982</td>\n",
       "      <td>4</td>\n",
       "      <td>1982-04-01</td>\n",
       "      <td>157.0</td>\n",
       "      <td>14</td>\n",
       "      <td>45.1</td>\n",
       "      <td>Inter-monsoon (Mar-May)</td>\n",
       "      <td>80s</td>\n",
       "    </tr>\n",
       "    <tr>\n",
       "      <th>4</th>\n",
       "      <td>1982</td>\n",
       "      <td>5</td>\n",
       "      <td>1982-05-01</td>\n",
       "      <td>102.2</td>\n",
       "      <td>10</td>\n",
       "      <td>33.0</td>\n",
       "      <td>Inter-monsoon (Mar-May)</td>\n",
       "      <td>80s</td>\n",
       "    </tr>\n",
       "  </tbody>\n",
       "</table>\n",
       "</div>"
      ],
      "text/plain": [
       "   year  month        date  total_rainfall  rainy_days  max_rainfall  \\\n",
       "0  1982      1  1982-01-01           107.1          10          36.5   \n",
       "1  1982      2  1982-02-01            27.8           5           9.4   \n",
       "2  1982      3  1982-03-01           160.8          11          61.7   \n",
       "3  1982      4  1982-04-01           157.0          14          45.1   \n",
       "4  1982      5  1982-05-01           102.2          10          33.0   \n",
       "\n",
       "                        season decade  \n",
       "0  Northeast Monsoon (Dec-Feb)    80s  \n",
       "1  Northeast Monsoon (Dec-Feb)    80s  \n",
       "2      Inter-monsoon (Mar-May)    80s  \n",
       "3      Inter-monsoon (Mar-May)    80s  \n",
       "4      Inter-monsoon (Mar-May)    80s  "
      ]
     },
     "execution_count": 360,
     "metadata": {},
     "output_type": "execute_result"
    }
   ],
   "source": [
    "merged_df.head()"
   ]
  },
  {
   "cell_type": "code",
   "execution_count": 288,
   "id": "9b750ee9-67c7-4eda-a522-9126b744cfaa",
   "metadata": {
    "collapsed": true,
    "jupyter": {
     "outputs_hidden": true,
     "source_hidden": true
    },
    "tags": []
   },
   "outputs": [
    {
     "data": {
      "text/html": [
       "<style>\n",
       "        .bk-notebook-logo {\n",
       "            display: block;\n",
       "            width: 20px;\n",
       "            height: 20px;\n",
       "            background-image: url(data:image/png;base64,iVBORw0KGgoAAAANSUhEUgAAABQAAAAUCAYAAACNiR0NAAAABHNCSVQICAgIfAhkiAAAAAlwSFlzAAALEgAACxIB0t1+/AAAABx0RVh0U29mdHdhcmUAQWRvYmUgRmlyZXdvcmtzIENTNui8sowAAAOkSURBVDiNjZRtaJVlGMd/1/08zzln5zjP1LWcU9N0NkN8m2CYjpgQYQXqSs0I84OLIC0hkEKoPtiH3gmKoiJDU7QpLgoLjLIQCpEsNJ1vqUOdO7ppbuec5+V+rj4ctwzd8IIbbi6u+8f1539dt3A78eXC7QizUF7gyV1fD1Yqg4JWz84yffhm0qkFqBogB9rM8tZdtwVsPUhWhGcFJngGeWrPzHm5oaMmkfEg1usvLFyc8jLRqDOMru7AyC8saQr7GG7f5fvDeH7Ej8CM66nIF+8yngt6HWaKh7k49Soy9nXurCi1o3qUbS3zWfrYeQDTB/Qj6kX6Ybhw4B+bOYoLKCC9H3Nu/leUTZ1JdRWkkn2ldcCamzrcf47KKXdAJllSlxAOkRgyHsGC/zRday5Qld9DyoM4/q/rUoy/CXh3jzOu3bHUVZeU+DEn8FInkPBFlu3+nW3Nw0mk6vCDiWg8CeJaxEwuHS3+z5RgY+YBR6V1Z1nxSOfoaPa4LASWxxdNp+VWTk7+4vzaou8v8PN+xo+KY2xsw6une2frhw05CTYOmQvsEhjhWjn0bmXPjpE1+kplmmkP3suftwTubK9Vq22qKmrBhpY4jvd5afdRA3wGjFAgcnTK2s4hY0/GPNIb0nErGMCRxWOOX64Z8RAC4oCXdklmEvcL8o0BfkNK4lUg9HTl+oPlQxdNo3Mg4Nv175e/1LDGzZen30MEjRUtmXSfiTVu1kK8W4txyV6BMKlbgk3lMwYCiusNy9fVfvvwMxv8Ynl6vxoByANLTWplvuj/nF9m2+PDtt1eiHPBr1oIfhCChQMBw6Aw0UulqTKZdfVvfG7VcfIqLG9bcldL/+pdWTLxLUy8Qq38heUIjh4XlzZxzQm19lLFlr8vdQ97rjZVOLf8nclzckbcD4wxXMidpX30sFd37Fv/GtwwhzhxGVAprjbg0gCAEeIgwCZyTV2Z1REEW8O4py0wsjeloKoMr6iCY6dP92H6Vw/oTyICIthibxjm/DfN9lVz8IqtqKYLUXfoKVMVQVVJOElGjrnnUt9T9wbgp8AyYKaGlqingHZU/uG2NTZSVqwHQTWkx9hxjkpWDaCg6Ckj5qebgBVbT3V3NNXMSiWSDdGV3hrtzla7J+duwPOToIg42ChPQOQjspnSlp1V+Gjdged7+8UN5CRAV7a5EdFNwCjEaBR27b3W890TE7g24NAP/mMDXRWrGoFPQI9ls/MWO2dWFAar/xcOIImbbpA3zgAAAABJRU5ErkJggg==);\n",
       "        }\n",
       "    </style>\n",
       "    <div>\n",
       "        <a href=\"https://bokeh.org\" target=\"_blank\" class=\"bk-notebook-logo\"></a>\n",
       "        <span id=\"p3907\">Loading BokehJS ...</span>\n",
       "    </div>\n"
      ]
     },
     "metadata": {},
     "output_type": "display_data"
    },
    {
     "data": {
      "application/javascript": [
       "(function(root) {\n",
       "  function now() {\n",
       "    return new Date();\n",
       "  }\n",
       "\n",
       "  const force = true;\n",
       "\n",
       "  if (typeof root._bokeh_onload_callbacks === \"undefined\" || force === true) {\n",
       "    root._bokeh_onload_callbacks = [];\n",
       "    root._bokeh_is_loading = undefined;\n",
       "  }\n",
       "\n",
       "const JS_MIME_TYPE = 'application/javascript';\n",
       "  const HTML_MIME_TYPE = 'text/html';\n",
       "  const EXEC_MIME_TYPE = 'application/vnd.bokehjs_exec.v0+json';\n",
       "  const CLASS_NAME = 'output_bokeh rendered_html';\n",
       "\n",
       "  /**\n",
       "   * Render data to the DOM node\n",
       "   */\n",
       "  function render(props, node) {\n",
       "    const script = document.createElement(\"script\");\n",
       "    node.appendChild(script);\n",
       "  }\n",
       "\n",
       "  /**\n",
       "   * Handle when an output is cleared or removed\n",
       "   */\n",
       "  function handleClearOutput(event, handle) {\n",
       "    const cell = handle.cell;\n",
       "\n",
       "    const id = cell.output_area._bokeh_element_id;\n",
       "    const server_id = cell.output_area._bokeh_server_id;\n",
       "    // Clean up Bokeh references\n",
       "    if (id != null && id in Bokeh.index) {\n",
       "      Bokeh.index[id].model.document.clear();\n",
       "      delete Bokeh.index[id];\n",
       "    }\n",
       "\n",
       "    if (server_id !== undefined) {\n",
       "      // Clean up Bokeh references\n",
       "      const cmd_clean = \"from bokeh.io.state import curstate; print(curstate().uuid_to_server['\" + server_id + \"'].get_sessions()[0].document.roots[0]._id)\";\n",
       "      cell.notebook.kernel.execute(cmd_clean, {\n",
       "        iopub: {\n",
       "          output: function(msg) {\n",
       "            const id = msg.content.text.trim();\n",
       "            if (id in Bokeh.index) {\n",
       "              Bokeh.index[id].model.document.clear();\n",
       "              delete Bokeh.index[id];\n",
       "            }\n",
       "          }\n",
       "        }\n",
       "      });\n",
       "      // Destroy server and session\n",
       "      const cmd_destroy = \"import bokeh.io.notebook as ion; ion.destroy_server('\" + server_id + \"')\";\n",
       "      cell.notebook.kernel.execute(cmd_destroy);\n",
       "    }\n",
       "  }\n",
       "\n",
       "  /**\n",
       "   * Handle when a new output is added\n",
       "   */\n",
       "  function handleAddOutput(event, handle) {\n",
       "    const output_area = handle.output_area;\n",
       "    const output = handle.output;\n",
       "\n",
       "    // limit handleAddOutput to display_data with EXEC_MIME_TYPE content only\n",
       "    if ((output.output_type != \"display_data\") || (!Object.prototype.hasOwnProperty.call(output.data, EXEC_MIME_TYPE))) {\n",
       "      return\n",
       "    }\n",
       "\n",
       "    const toinsert = output_area.element.find(\".\" + CLASS_NAME.split(' ')[0]);\n",
       "\n",
       "    if (output.metadata[EXEC_MIME_TYPE][\"id\"] !== undefined) {\n",
       "      toinsert[toinsert.length - 1].firstChild.textContent = output.data[JS_MIME_TYPE];\n",
       "      // store reference to embed id on output_area\n",
       "      output_area._bokeh_element_id = output.metadata[EXEC_MIME_TYPE][\"id\"];\n",
       "    }\n",
       "    if (output.metadata[EXEC_MIME_TYPE][\"server_id\"] !== undefined) {\n",
       "      const bk_div = document.createElement(\"div\");\n",
       "      bk_div.innerHTML = output.data[HTML_MIME_TYPE];\n",
       "      const script_attrs = bk_div.children[0].attributes;\n",
       "      for (let i = 0; i < script_attrs.length; i++) {\n",
       "        toinsert[toinsert.length - 1].firstChild.setAttribute(script_attrs[i].name, script_attrs[i].value);\n",
       "        toinsert[toinsert.length - 1].firstChild.textContent = bk_div.children[0].textContent\n",
       "      }\n",
       "      // store reference to server id on output_area\n",
       "      output_area._bokeh_server_id = output.metadata[EXEC_MIME_TYPE][\"server_id\"];\n",
       "    }\n",
       "  }\n",
       "\n",
       "  function register_renderer(events, OutputArea) {\n",
       "\n",
       "    function append_mime(data, metadata, element) {\n",
       "      // create a DOM node to render to\n",
       "      const toinsert = this.create_output_subarea(\n",
       "        metadata,\n",
       "        CLASS_NAME,\n",
       "        EXEC_MIME_TYPE\n",
       "      );\n",
       "      this.keyboard_manager.register_events(toinsert);\n",
       "      // Render to node\n",
       "      const props = {data: data, metadata: metadata[EXEC_MIME_TYPE]};\n",
       "      render(props, toinsert[toinsert.length - 1]);\n",
       "      element.append(toinsert);\n",
       "      return toinsert\n",
       "    }\n",
       "\n",
       "    /* Handle when an output is cleared or removed */\n",
       "    events.on('clear_output.CodeCell', handleClearOutput);\n",
       "    events.on('delete.Cell', handleClearOutput);\n",
       "\n",
       "    /* Handle when a new output is added */\n",
       "    events.on('output_added.OutputArea', handleAddOutput);\n",
       "\n",
       "    /**\n",
       "     * Register the mime type and append_mime function with output_area\n",
       "     */\n",
       "    OutputArea.prototype.register_mime_type(EXEC_MIME_TYPE, append_mime, {\n",
       "      /* Is output safe? */\n",
       "      safe: true,\n",
       "      /* Index of renderer in `output_area.display_order` */\n",
       "      index: 0\n",
       "    });\n",
       "  }\n",
       "\n",
       "  // register the mime type if in Jupyter Notebook environment and previously unregistered\n",
       "  if (root.Jupyter !== undefined) {\n",
       "    const events = require('base/js/events');\n",
       "    const OutputArea = require('notebook/js/outputarea').OutputArea;\n",
       "\n",
       "    if (OutputArea.prototype.mime_types().indexOf(EXEC_MIME_TYPE) == -1) {\n",
       "      register_renderer(events, OutputArea);\n",
       "    }\n",
       "  }\n",
       "  if (typeof (root._bokeh_timeout) === \"undefined\" || force === true) {\n",
       "    root._bokeh_timeout = Date.now() + 5000;\n",
       "    root._bokeh_failed_load = false;\n",
       "  }\n",
       "\n",
       "  const NB_LOAD_WARNING = {'data': {'text/html':\n",
       "     \"<div style='background-color: #fdd'>\\n\"+\n",
       "     \"<p>\\n\"+\n",
       "     \"BokehJS does not appear to have successfully loaded. If loading BokehJS from CDN, this \\n\"+\n",
       "     \"may be due to a slow or bad network connection. Possible fixes:\\n\"+\n",
       "     \"</p>\\n\"+\n",
       "     \"<ul>\\n\"+\n",
       "     \"<li>re-rerun `output_notebook()` to attempt to load from CDN again, or</li>\\n\"+\n",
       "     \"<li>use INLINE resources instead, as so:</li>\\n\"+\n",
       "     \"</ul>\\n\"+\n",
       "     \"<code>\\n\"+\n",
       "     \"from bokeh.resources import INLINE\\n\"+\n",
       "     \"output_notebook(resources=INLINE)\\n\"+\n",
       "     \"</code>\\n\"+\n",
       "     \"</div>\"}};\n",
       "\n",
       "  function display_loaded() {\n",
       "    const el = document.getElementById(\"p3907\");\n",
       "    if (el != null) {\n",
       "      el.textContent = \"BokehJS is loading...\";\n",
       "    }\n",
       "    if (root.Bokeh !== undefined) {\n",
       "      if (el != null) {\n",
       "        el.textContent = \"BokehJS \" + root.Bokeh.version + \" successfully loaded.\";\n",
       "      }\n",
       "    } else if (Date.now() < root._bokeh_timeout) {\n",
       "      setTimeout(display_loaded, 100)\n",
       "    }\n",
       "  }\n",
       "\n",
       "  function run_callbacks() {\n",
       "    try {\n",
       "      root._bokeh_onload_callbacks.forEach(function(callback) {\n",
       "        if (callback != null)\n",
       "          callback();\n",
       "      });\n",
       "    } finally {\n",
       "      delete root._bokeh_onload_callbacks\n",
       "    }\n",
       "    console.debug(\"Bokeh: all callbacks have finished\");\n",
       "  }\n",
       "\n",
       "  function load_libs(css_urls, js_urls, callback) {\n",
       "    if (css_urls == null) css_urls = [];\n",
       "    if (js_urls == null) js_urls = [];\n",
       "\n",
       "    root._bokeh_onload_callbacks.push(callback);\n",
       "    if (root._bokeh_is_loading > 0) {\n",
       "      console.debug(\"Bokeh: BokehJS is being loaded, scheduling callback at\", now());\n",
       "      return null;\n",
       "    }\n",
       "    if (js_urls == null || js_urls.length === 0) {\n",
       "      run_callbacks();\n",
       "      return null;\n",
       "    }\n",
       "    console.debug(\"Bokeh: BokehJS not loaded, scheduling load and callback at\", now());\n",
       "    root._bokeh_is_loading = css_urls.length + js_urls.length;\n",
       "\n",
       "    function on_load() {\n",
       "      root._bokeh_is_loading--;\n",
       "      if (root._bokeh_is_loading === 0) {\n",
       "        console.debug(\"Bokeh: all BokehJS libraries/stylesheets loaded\");\n",
       "        run_callbacks()\n",
       "      }\n",
       "    }\n",
       "\n",
       "    function on_error(url) {\n",
       "      console.error(\"failed to load \" + url);\n",
       "    }\n",
       "\n",
       "    for (let i = 0; i < css_urls.length; i++) {\n",
       "      const url = css_urls[i];\n",
       "      const element = document.createElement(\"link\");\n",
       "      element.onload = on_load;\n",
       "      element.onerror = on_error.bind(null, url);\n",
       "      element.rel = \"stylesheet\";\n",
       "      element.type = \"text/css\";\n",
       "      element.href = url;\n",
       "      console.debug(\"Bokeh: injecting link tag for BokehJS stylesheet: \", url);\n",
       "      document.body.appendChild(element);\n",
       "    }\n",
       "\n",
       "    for (let i = 0; i < js_urls.length; i++) {\n",
       "      const url = js_urls[i];\n",
       "      const element = document.createElement('script');\n",
       "      element.onload = on_load;\n",
       "      element.onerror = on_error.bind(null, url);\n",
       "      element.async = false;\n",
       "      element.src = url;\n",
       "      console.debug(\"Bokeh: injecting script tag for BokehJS library: \", url);\n",
       "      document.head.appendChild(element);\n",
       "    }\n",
       "  };\n",
       "\n",
       "  function inject_raw_css(css) {\n",
       "    const element = document.createElement(\"style\");\n",
       "    element.appendChild(document.createTextNode(css));\n",
       "    document.body.appendChild(element);\n",
       "  }\n",
       "\n",
       "  const js_urls = [\"https://cdn.bokeh.org/bokeh/release/bokeh-3.0.1.min.js\", \"https://cdn.bokeh.org/bokeh/release/bokeh-gl-3.0.1.min.js\", \"https://cdn.bokeh.org/bokeh/release/bokeh-widgets-3.0.1.min.js\", \"https://cdn.bokeh.org/bokeh/release/bokeh-tables-3.0.1.min.js\", \"https://cdn.bokeh.org/bokeh/release/bokeh-mathjax-3.0.1.min.js\"];\n",
       "  const css_urls = [];\n",
       "\n",
       "  const inline_js = [    function(Bokeh) {\n",
       "      Bokeh.set_log_level(\"info\");\n",
       "    },\n",
       "function(Bokeh) {\n",
       "    }\n",
       "  ];\n",
       "\n",
       "  function run_inline_js() {\n",
       "    if (root.Bokeh !== undefined || force === true) {\n",
       "          for (let i = 0; i < inline_js.length; i++) {\n",
       "      inline_js[i].call(root, root.Bokeh);\n",
       "    }\n",
       "if (force === true) {\n",
       "        display_loaded();\n",
       "      }} else if (Date.now() < root._bokeh_timeout) {\n",
       "      setTimeout(run_inline_js, 100);\n",
       "    } else if (!root._bokeh_failed_load) {\n",
       "      console.log(\"Bokeh: BokehJS failed to load within specified timeout.\");\n",
       "      root._bokeh_failed_load = true;\n",
       "    } else if (force !== true) {\n",
       "      const cell = $(document.getElementById(\"p3907\")).parents('.cell').data().cell;\n",
       "      cell.output_area.append_execute_result(NB_LOAD_WARNING)\n",
       "    }\n",
       "  }\n",
       "\n",
       "  if (root._bokeh_is_loading === 0) {\n",
       "    console.debug(\"Bokeh: BokehJS loaded, going straight to plotting\");\n",
       "    run_inline_js();\n",
       "  } else {\n",
       "    load_libs(css_urls, js_urls, function() {\n",
       "      console.debug(\"Bokeh: BokehJS plotting callback run at\", now());\n",
       "      run_inline_js();\n",
       "    });\n",
       "  }\n",
       "}(window));"
      ],
      "application/vnd.bokehjs_load.v0+json": "(function(root) {\n  function now() {\n    return new Date();\n  }\n\n  const force = true;\n\n  if (typeof root._bokeh_onload_callbacks === \"undefined\" || force === true) {\n    root._bokeh_onload_callbacks = [];\n    root._bokeh_is_loading = undefined;\n  }\n\n\n  if (typeof (root._bokeh_timeout) === \"undefined\" || force === true) {\n    root._bokeh_timeout = Date.now() + 5000;\n    root._bokeh_failed_load = false;\n  }\n\n  const NB_LOAD_WARNING = {'data': {'text/html':\n     \"<div style='background-color: #fdd'>\\n\"+\n     \"<p>\\n\"+\n     \"BokehJS does not appear to have successfully loaded. If loading BokehJS from CDN, this \\n\"+\n     \"may be due to a slow or bad network connection. Possible fixes:\\n\"+\n     \"</p>\\n\"+\n     \"<ul>\\n\"+\n     \"<li>re-rerun `output_notebook()` to attempt to load from CDN again, or</li>\\n\"+\n     \"<li>use INLINE resources instead, as so:</li>\\n\"+\n     \"</ul>\\n\"+\n     \"<code>\\n\"+\n     \"from bokeh.resources import INLINE\\n\"+\n     \"output_notebook(resources=INLINE)\\n\"+\n     \"</code>\\n\"+\n     \"</div>\"}};\n\n  function display_loaded() {\n    const el = document.getElementById(\"p3907\");\n    if (el != null) {\n      el.textContent = \"BokehJS is loading...\";\n    }\n    if (root.Bokeh !== undefined) {\n      if (el != null) {\n        el.textContent = \"BokehJS \" + root.Bokeh.version + \" successfully loaded.\";\n      }\n    } else if (Date.now() < root._bokeh_timeout) {\n      setTimeout(display_loaded, 100)\n    }\n  }\n\n  function run_callbacks() {\n    try {\n      root._bokeh_onload_callbacks.forEach(function(callback) {\n        if (callback != null)\n          callback();\n      });\n    } finally {\n      delete root._bokeh_onload_callbacks\n    }\n    console.debug(\"Bokeh: all callbacks have finished\");\n  }\n\n  function load_libs(css_urls, js_urls, callback) {\n    if (css_urls == null) css_urls = [];\n    if (js_urls == null) js_urls = [];\n\n    root._bokeh_onload_callbacks.push(callback);\n    if (root._bokeh_is_loading > 0) {\n      console.debug(\"Bokeh: BokehJS is being loaded, scheduling callback at\", now());\n      return null;\n    }\n    if (js_urls == null || js_urls.length === 0) {\n      run_callbacks();\n      return null;\n    }\n    console.debug(\"Bokeh: BokehJS not loaded, scheduling load and callback at\", now());\n    root._bokeh_is_loading = css_urls.length + js_urls.length;\n\n    function on_load() {\n      root._bokeh_is_loading--;\n      if (root._bokeh_is_loading === 0) {\n        console.debug(\"Bokeh: all BokehJS libraries/stylesheets loaded\");\n        run_callbacks()\n      }\n    }\n\n    function on_error(url) {\n      console.error(\"failed to load \" + url);\n    }\n\n    for (let i = 0; i < css_urls.length; i++) {\n      const url = css_urls[i];\n      const element = document.createElement(\"link\");\n      element.onload = on_load;\n      element.onerror = on_error.bind(null, url);\n      element.rel = \"stylesheet\";\n      element.type = \"text/css\";\n      element.href = url;\n      console.debug(\"Bokeh: injecting link tag for BokehJS stylesheet: \", url);\n      document.body.appendChild(element);\n    }\n\n    for (let i = 0; i < js_urls.length; i++) {\n      const url = js_urls[i];\n      const element = document.createElement('script');\n      element.onload = on_load;\n      element.onerror = on_error.bind(null, url);\n      element.async = false;\n      element.src = url;\n      console.debug(\"Bokeh: injecting script tag for BokehJS library: \", url);\n      document.head.appendChild(element);\n    }\n  };\n\n  function inject_raw_css(css) {\n    const element = document.createElement(\"style\");\n    element.appendChild(document.createTextNode(css));\n    document.body.appendChild(element);\n  }\n\n  const js_urls = [\"https://cdn.bokeh.org/bokeh/release/bokeh-3.0.1.min.js\", \"https://cdn.bokeh.org/bokeh/release/bokeh-gl-3.0.1.min.js\", \"https://cdn.bokeh.org/bokeh/release/bokeh-widgets-3.0.1.min.js\", \"https://cdn.bokeh.org/bokeh/release/bokeh-tables-3.0.1.min.js\", \"https://cdn.bokeh.org/bokeh/release/bokeh-mathjax-3.0.1.min.js\"];\n  const css_urls = [];\n\n  const inline_js = [    function(Bokeh) {\n      Bokeh.set_log_level(\"info\");\n    },\nfunction(Bokeh) {\n    }\n  ];\n\n  function run_inline_js() {\n    if (root.Bokeh !== undefined || force === true) {\n          for (let i = 0; i < inline_js.length; i++) {\n      inline_js[i].call(root, root.Bokeh);\n    }\nif (force === true) {\n        display_loaded();\n      }} else if (Date.now() < root._bokeh_timeout) {\n      setTimeout(run_inline_js, 100);\n    } else if (!root._bokeh_failed_load) {\n      console.log(\"Bokeh: BokehJS failed to load within specified timeout.\");\n      root._bokeh_failed_load = true;\n    } else if (force !== true) {\n      const cell = $(document.getElementById(\"p3907\")).parents('.cell').data().cell;\n      cell.output_area.append_execute_result(NB_LOAD_WARNING)\n    }\n  }\n\n  if (root._bokeh_is_loading === 0) {\n    console.debug(\"Bokeh: BokehJS loaded, going straight to plotting\");\n    run_inline_js();\n  } else {\n    load_libs(css_urls, js_urls, function() {\n      console.debug(\"Bokeh: BokehJS plotting callback run at\", now());\n      run_inline_js();\n    });\n  }\n}(window));"
     },
     "metadata": {},
     "output_type": "display_data"
    },
    {
     "data": {
      "text/html": [
       "\n",
       "  <div id=\"77238524-ce3a-45b3-9edd-f1bc166d1d4e\" data-root-id=\"p3908\" style=\"display: contents;\"></div>\n"
      ]
     },
     "metadata": {},
     "output_type": "display_data"
    },
    {
     "data": {
      "application/javascript": [
       "(function(root) {\n",
       "  function embed_document(root) {\n",
       "  const docs_json = {\"a7a25632-5ca5-448d-a946-36126b30d6b7\":{\"version\":\"3.0.1\",\"title\":\"Bokeh Application\",\"defs\":[],\"roots\":[{\"type\":\"object\",\"name\":\"Column\",\"id\":\"p3908\",\"attributes\":{\"children\":[{\"type\":\"object\",\"name\":\"Figure\",\"id\":\"p3752\",\"attributes\":{\"width\":800,\"height\":300,\"x_range\":{\"type\":\"object\",\"name\":\"Range1d\",\"id\":\"p3761\",\"attributes\":{\"start\":404956800000.0,\"end\":641520000000.0}},\"y_range\":{\"type\":\"object\",\"name\":\"DataRange1d\",\"id\":\"p3754\"},\"x_scale\":{\"type\":\"object\",\"name\":\"LinearScale\",\"id\":\"p3765\"},\"y_scale\":{\"type\":\"object\",\"name\":\"LinearScale\",\"id\":\"p3767\"},\"title\":{\"type\":\"object\",\"name\":\"Title\",\"id\":\"p3759\"},\"renderers\":[{\"type\":\"object\",\"name\":\"GlyphRenderer\",\"id\":\"p3828\",\"attributes\":{\"data_source\":{\"type\":\"object\",\"name\":\"ColumnDataSource\",\"id\":\"p3749\",\"attributes\":{\"selected\":{\"type\":\"object\",\"name\":\"Selection\",\"id\":\"p3750\",\"attributes\":{\"indices\":[],\"line_indices\":[]}},\"selection_policy\":{\"type\":\"object\",\"name\":\"UnionRenderers\",\"id\":\"p3751\"},\"data\":{\"type\":\"map\",\"entries\":[[\"date\",{\"type\":\"ndarray\",\"array\":{\"type\":\"bytes\",\"data\":\"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\"},\"shape\":[488],\"dtype\":\"float64\",\"order\":\"little\"}],[\"rainfall\",{\"type\":\"ndarray\",\"array\":{\"type\":\"bytes\",\"data\":\"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\"},\"shape\":[488],\"dtype\":\"float64\",\"order\":\"little\"}]]}}},\"view\":{\"type\":\"object\",\"name\":\"CDSView\",\"id\":\"p3829\",\"attributes\":{\"filter\":{\"type\":\"object\",\"name\":\"AllIndices\",\"id\":\"p3830\"}}},\"glyph\":{\"type\":\"object\",\"name\":\"Line\",\"id\":\"p3825\",\"attributes\":{\"x\":{\"type\":\"field\",\"field\":\"date\"},\"y\":{\"type\":\"field\",\"field\":\"total_rainfall\"},\"line_color\":\"#1f77b4\"}},\"nonselection_glyph\":{\"type\":\"object\",\"name\":\"Line\",\"id\":\"p3826\",\"attributes\":{\"x\":{\"type\":\"field\",\"field\":\"date\"},\"y\":{\"type\":\"field\",\"field\":\"total_rainfall\"},\"line_color\":\"#1f77b4\",\"line_alpha\":0.1}},\"muted_glyph\":{\"type\":\"object\",\"name\":\"Line\",\"id\":\"p3827\",\"attributes\":{\"x\":{\"type\":\"field\",\"field\":\"date\"},\"y\":{\"type\":\"field\",\"field\":\"total_rainfall\"},\"line_color\":\"#1f77b4\",\"line_alpha\":0.2}}}}],\"toolbar\":{\"type\":\"object\",\"name\":\"Toolbar\",\"id\":\"p3756\",\"attributes\":{\"tools\":[{\"type\":\"object\",\"name\":\"PanTool\",\"id\":\"p3819\",\"attributes\":{\"dimensions\":\"width\"}}]}},\"toolbar_location\":null,\"left\":[{\"type\":\"object\",\"name\":\"LinearAxis\",\"id\":\"p3812\",\"attributes\":{\"ticker\":{\"type\":\"object\",\"name\":\"BasicTicker\",\"id\":\"p3813\",\"attributes\":{\"mantissas\":[1,2,5]}},\"formatter\":{\"type\":\"object\",\"name\":\"BasicTickFormatter\",\"id\":\"p3814\"},\"axis_label\":\"Total Rainfall\",\"major_label_policy\":{\"type\":\"object\",\"name\":\"AllLabels\",\"id\":\"p3815\"}}}],\"above\":[{\"type\":\"object\",\"name\":\"DatetimeAxis\",\"id\":\"p3769\",\"attributes\":{\"ticker\":{\"type\":\"object\",\"name\":\"DatetimeTicker\",\"id\":\"p3770\",\"attributes\":{\"num_minor_ticks\":5,\"tickers\":[{\"type\":\"object\",\"name\":\"AdaptiveTicker\",\"id\":\"p3771\",\"attributes\":{\"num_minor_ticks\":0,\"mantissas\":[1,2,5],\"max_interval\":500.0}},{\"type\":\"object\",\"name\":\"AdaptiveTicker\",\"id\":\"p3772\",\"attributes\":{\"num_minor_ticks\":0,\"base\":60,\"mantissas\":[1,2,5,10,15,20,30],\"min_interval\":1000.0,\"max_interval\":1800000.0}},{\"type\":\"object\",\"name\":\"AdaptiveTicker\",\"id\":\"p3773\",\"attributes\":{\"num_minor_ticks\":0,\"base\":24,\"mantissas\":[1,2,4,6,8,12],\"min_interval\":3600000.0,\"max_interval\":43200000.0}},{\"type\":\"object\",\"name\":\"DaysTicker\",\"id\":\"p3774\",\"attributes\":{\"days\":[1,2,3,4,5,6,7,8,9,10,11,12,13,14,15,16,17,18,19,20,21,22,23,24,25,26,27,28,29,30,31]}},{\"type\":\"object\",\"name\":\"DaysTicker\",\"id\":\"p3775\",\"attributes\":{\"days\":[1,4,7,10,13,16,19,22,25,28]}},{\"type\":\"object\",\"name\":\"DaysTicker\",\"id\":\"p3776\",\"attributes\":{\"days\":[1,8,15,22]}},{\"type\":\"object\",\"name\":\"DaysTicker\",\"id\":\"p3777\",\"attributes\":{\"days\":[1,15]}},{\"type\":\"object\",\"name\":\"MonthsTicker\",\"id\":\"p3778\",\"attributes\":{\"months\":[0,1,2,3,4,5,6,7,8,9,10,11]}},{\"type\":\"object\",\"name\":\"MonthsTicker\",\"id\":\"p3779\",\"attributes\":{\"months\":[0,2,4,6,8,10]}},{\"type\":\"object\",\"name\":\"MonthsTicker\",\"id\":\"p3780\",\"attributes\":{\"months\":[0,4,8]}},{\"type\":\"object\",\"name\":\"MonthsTicker\",\"id\":\"p3781\",\"attributes\":{\"months\":[0,6]}},{\"type\":\"object\",\"name\":\"YearsTicker\",\"id\":\"p3782\"}]}},\"formatter\":{\"type\":\"object\",\"name\":\"DatetimeTickFormatter\",\"id\":\"p3783\"},\"major_label_policy\":{\"type\":\"object\",\"name\":\"AllLabels\",\"id\":\"p3784\"}}}],\"center\":[{\"type\":\"object\",\"name\":\"Grid\",\"id\":\"p3811\",\"attributes\":{\"axis\":{\"id\":\"p3769\"}}},{\"type\":\"object\",\"name\":\"Grid\",\"id\":\"p3818\",\"attributes\":{\"dimension\":1,\"axis\":{\"id\":\"p3812\"}}}],\"background_fill_color\":\"#efefef\"}},{\"type\":\"object\",\"name\":\"Figure\",\"id\":\"p3831\",\"attributes\":{\"width\":800,\"height\":130,\"x_range\":{\"type\":\"object\",\"name\":\"DataRange1d\",\"id\":\"p3833\"},\"y_range\":{\"id\":\"p3754\"},\"x_scale\":{\"type\":\"object\",\"name\":\"LinearScale\",\"id\":\"p3844\"},\"y_scale\":{\"type\":\"object\",\"name\":\"LinearScale\",\"id\":\"p3846\"},\"title\":{\"type\":\"object\",\"name\":\"Title\",\"id\":\"p3834\",\"attributes\":{\"text\":\"Drag the middle and edges of the selection box to change the range above\"}},\"renderers\":[{\"type\":\"object\",\"name\":\"GlyphRenderer\",\"id\":\"p3902\",\"attributes\":{\"data_source\":{\"id\":\"p3749\"},\"view\":{\"type\":\"object\",\"name\":\"CDSView\",\"id\":\"p3903\",\"attributes\":{\"filter\":{\"type\":\"object\",\"name\":\"AllIndices\",\"id\":\"p3904\"}}},\"glyph\":{\"type\":\"object\",\"name\":\"Line\",\"id\":\"p3899\",\"attributes\":{\"x\":{\"type\":\"field\",\"field\":\"date\"},\"y\":{\"type\":\"field\",\"field\":\"total_rainfall\"},\"line_color\":\"#1f77b4\"}},\"nonselection_glyph\":{\"type\":\"object\",\"name\":\"Line\",\"id\":\"p3900\",\"attributes\":{\"x\":{\"type\":\"field\",\"field\":\"date\"},\"y\":{\"type\":\"field\",\"field\":\"total_rainfall\"},\"line_color\":\"#1f77b4\",\"line_alpha\":0.1}},\"muted_glyph\":{\"type\":\"object\",\"name\":\"Line\",\"id\":\"p3901\",\"attributes\":{\"x\":{\"type\":\"field\",\"field\":\"date\"},\"y\":{\"type\":\"field\",\"field\":\"total_rainfall\"},\"line_color\":\"#1f77b4\",\"line_alpha\":0.2}}}}],\"toolbar\":{\"type\":\"object\",\"name\":\"Toolbar\",\"id\":\"p3837\",\"attributes\":{\"tools\":[{\"type\":\"object\",\"name\":\"RangeTool\",\"id\":\"p3892\",\"attributes\":{\"x_range\":{\"id\":\"p3761\"},\"overlay\":{\"type\":\"object\",\"name\":\"BoxAnnotation\",\"id\":\"p3893\",\"attributes\":{\"syncable\":false,\"level\":\"overlay\",\"line_color\":\"black\",\"line_alpha\":1.0,\"line_width\":0.5,\"line_dash\":[2,2],\"fill_color\":\"navy\",\"fill_alpha\":0.2}}}}],\"active_multi\":{\"id\":\"p3892\"}}},\"toolbar_location\":null,\"below\":[{\"type\":\"object\",\"name\":\"DatetimeAxis\",\"id\":\"p3848\",\"attributes\":{\"ticker\":{\"type\":\"object\",\"name\":\"DatetimeTicker\",\"id\":\"p3849\",\"attributes\":{\"num_minor_ticks\":5,\"tickers\":[{\"type\":\"object\",\"name\":\"AdaptiveTicker\",\"id\":\"p3850\",\"attributes\":{\"num_minor_ticks\":0,\"mantissas\":[1,2,5],\"max_interval\":500.0}},{\"type\":\"object\",\"name\":\"AdaptiveTicker\",\"id\":\"p3851\",\"attributes\":{\"num_minor_ticks\":0,\"base\":60,\"mantissas\":[1,2,5,10,15,20,30],\"min_interval\":1000.0,\"max_interval\":1800000.0}},{\"type\":\"object\",\"name\":\"AdaptiveTicker\",\"id\":\"p3852\",\"attributes\":{\"num_minor_ticks\":0,\"base\":24,\"mantissas\":[1,2,4,6,8,12],\"min_interval\":3600000.0,\"max_interval\":43200000.0}},{\"type\":\"object\",\"name\":\"DaysTicker\",\"id\":\"p3853\",\"attributes\":{\"days\":[1,2,3,4,5,6,7,8,9,10,11,12,13,14,15,16,17,18,19,20,21,22,23,24,25,26,27,28,29,30,31]}},{\"type\":\"object\",\"name\":\"DaysTicker\",\"id\":\"p3854\",\"attributes\":{\"days\":[1,4,7,10,13,16,19,22,25,28]}},{\"type\":\"object\",\"name\":\"DaysTicker\",\"id\":\"p3855\",\"attributes\":{\"days\":[1,8,15,22]}},{\"type\":\"object\",\"name\":\"DaysTicker\",\"id\":\"p3856\",\"attributes\":{\"days\":[1,15]}},{\"type\":\"object\",\"name\":\"MonthsTicker\",\"id\":\"p3857\",\"attributes\":{\"months\":[0,1,2,3,4,5,6,7,8,9,10,11]}},{\"type\":\"object\",\"name\":\"MonthsTicker\",\"id\":\"p3858\",\"attributes\":{\"months\":[0,2,4,6,8,10]}},{\"type\":\"object\",\"name\":\"MonthsTicker\",\"id\":\"p3859\",\"attributes\":{\"months\":[0,4,8]}},{\"type\":\"object\",\"name\":\"MonthsTicker\",\"id\":\"p3860\",\"attributes\":{\"months\":[0,6]}},{\"type\":\"object\",\"name\":\"YearsTicker\",\"id\":\"p3861\"}]}},\"formatter\":{\"type\":\"object\",\"name\":\"DatetimeTickFormatter\",\"id\":\"p3862\"},\"major_label_policy\":{\"type\":\"object\",\"name\":\"AllLabels\",\"id\":\"p3863\"}}}],\"center\":[{\"type\":\"object\",\"name\":\"Grid\",\"id\":\"p3890\",\"attributes\":{\"axis\":{\"id\":\"p3848\"}}}],\"background_fill_color\":\"#efefef\"}}]}}]}};\n",
       "  const render_items = [{\"docid\":\"a7a25632-5ca5-448d-a946-36126b30d6b7\",\"roots\":{\"p3908\":\"77238524-ce3a-45b3-9edd-f1bc166d1d4e\"},\"root_ids\":[\"p3908\"]}];\n",
       "  root.Bokeh.embed.embed_items_notebook(docs_json, render_items);\n",
       "  }\n",
       "  if (root.Bokeh !== undefined) {\n",
       "    embed_document(root);\n",
       "  } else {\n",
       "    let attempts = 0;\n",
       "    const timer = setInterval(function(root) {\n",
       "      if (root.Bokeh !== undefined) {\n",
       "        clearInterval(timer);\n",
       "        embed_document(root);\n",
       "      } else {\n",
       "        attempts++;\n",
       "        if (attempts > 100) {\n",
       "          clearInterval(timer);\n",
       "          console.log(\"Bokeh: ERROR: Unable to run BokehJS code because BokehJS library is missing\");\n",
       "        }\n",
       "      }\n",
       "    }, 10, root)\n",
       "  }\n",
       "})(window);"
      ],
      "application/vnd.bokehjs_exec.v0+json": ""
     },
     "metadata": {
      "application/vnd.bokehjs_exec.v0+json": {
       "id": "p3908"
      }
     },
     "output_type": "display_data"
    }
   ],
   "source": [
    "# need to fix\n",
    "\n",
    "from bokeh.io import show, output_notebook\n",
    "from bokeh.layouts import column\n",
    "from bokeh.models import ColumnDataSource, RangeTool\n",
    "from bokeh.plotting import figure\n",
    "\n",
    "#from bokeh.sampledata.stocks import dates\n",
    "\n",
    "# Put AAPL stock into a NumPy array.\n",
    "dates = np.array(merged_df['date'], dtype=np.datetime64)\n",
    "\n",
    "# Specify the data.\n",
    "source = ColumnDataSource(data = dict(date = dates, rainfall = merged_df['total_rainfall']))\n",
    "\n",
    "# Generate the top plot.\n",
    "p = figure(height = 300,          # What is the height of the top plot? \n",
    "           width = 800,           # What is the width of the top plot? \n",
    "           tools = \"xpan\",             # No tools.\n",
    "           toolbar_location = None,    # No toolbar.\n",
    "           x_axis_type = \"datetime\",   # X-axis has a specific type: datetime. Ensures dates appear properly.\n",
    "           x_axis_location = \"above\",  # Y-axis needs no specific formatting/typing.\n",
    "           background_fill_color = \"#efefef\",     # Specify background color.\n",
    "           x_range = (dates[10], dates[100]))  # Specify starting x-range for top plot. (1,500th through 2,500th value.)\n",
    "\n",
    "# Specify the line being generated (similar to plt.plot()).\n",
    "p.line('date', 'total_rainfall', source = source)\n",
    "\n",
    "# Setting label on the y-axis (vertical axis).\n",
    "p.yaxis.axis_label = 'Total Rainfall'\n",
    "\n",
    "# Generate the bottom plot.\n",
    "select = figure(title = \"Drag the middle and edges of the selection box to change the range above\", # Title of the plot.\n",
    "                height = 130,     # What is the height of the bottom plot? \n",
    "                width = 800,      # What is the width of the bottom plot? \n",
    "                y_range = p.y_range,   # Make sure that the y-axes have the same height for both top and bottom plots.\n",
    "                x_axis_type = \"datetime\",          # X-axis has a specific type: datetime. Ensures dates appear properly.\n",
    "                y_axis_type = None,                # Y-axis needs no specific formatting/typing.\n",
    "                tools = \"\",                        # No tools. (For now; one will be added later.)\n",
    "                toolbar_location = None,           # No toolbar.\n",
    "                background_fill_color = \"#efefef\") # Specify background color.\n",
    "\n",
    "# Set up the \"range tool\" in the bottom plot.\n",
    "range_rool = RangeTool(x_range = p.x_range) # Make sure the x-axes have the same width for the top and bottom plots.\n",
    "range_rool.overlay.fill_color = \"navy\"    # Color the \"range tool\" box navy.\n",
    "range_rool.overlay.fill_alpha = 0.2       # Make the \"range tool\" box 80% transparent.\n",
    "\n",
    "# Specify the line being generated (similar to plt.plot()).\n",
    "select.line('date', 'total_rainfall', source = source)\n",
    "\n",
    "# No grid.\n",
    "select.ygrid.grid_line_color = None\n",
    "\n",
    "# Add the range_rool tool to the select plot.\n",
    "select.add_tools(range_rool)\n",
    "select.toolbar.active_multi = range_rool\n",
    "\n",
    "# Make our results show up in our Jupyter notebook.\n",
    "output_notebook()\n",
    "\n",
    "# If you want the results to show up in a .html file,\n",
    "# run \"from bokeh.io import output_file\"\n",
    "# then run \"output_file('./filename.html')\"\n",
    "\n",
    "# Display these in a column with our plot (p) above the select tool in one column.\n",
    "show(column(p, select))"
   ]
  },
  {
   "cell_type": "code",
   "execution_count": 382,
   "id": "ce67366c-c719-438c-a0c5-e97d661430ed",
   "metadata": {},
   "outputs": [
    {
     "data": {
      "image/png": "[encoded data removed]",
      "text/plain": [
       "<Figure size 1600x900 with 1 Axes>"
      ]
     },
     "metadata": {},
     "output_type": "display_data"
    }
   ],
   "source": [
    "# need to fix this\n",
    "# time series analysis\n",
    "plt.figure(figsize = (16,9))\n",
    "\n",
    "lineplot = plt.subplot(1,1,1)\n",
    "sns.lineplot(x = \"month\", y = \"total_rainfall\", data = merged_df[merged_df['decade']=='10s'])\n",
    "#sns.lineplot(x = \"date\", y = \"max_rainfall\", data = merged_df)\n",
    "plt.ylabel(\"total_rainfall\")\n",
    "plt.xticks(rotation = 20)\n",
    "# the location of drough periods\n",
    "lineplot.vlines([2,5], 2, 30, colors='magenta')\n",
    "\n",
    "plt.show()"
   ]
  },
  {
   "cell_type": "code",
   "execution_count": 368,
   "id": "bfebe6f2-a61b-40ed-82fc-91944c6ac0a2",
   "metadata": {},
   "outputs": [
    {
     "name": "stdout",
     "output_type": "stream",
     "text": [
      "<class 'pandas.core.frame.DataFrame'>\n",
      "RangeIndex: 491 entries, 0 to 490\n",
      "Data columns (total 2 columns):\n",
      " #   Column               Non-Null Count  Dtype  \n",
      "---  ------               --------------  -----  \n",
      " 0   month                491 non-null    object \n",
      " 1   temp_mean_daily_min  491 non-null    float64\n",
      "dtypes: float64(1), object(1)\n",
      "memory usage: 7.8+ KB\n"
     ]
    }
   ],
   "source": [
    "temp_df.info() #491 rows, month is an object"
   ]
  },
  {
   "cell_type": "code",
   "execution_count": 369,
   "id": "cca4073e-c191-4674-b10b-091923ccdda8",
   "metadata": {},
   "outputs": [
    {
     "data": {
      "text/html": [
       "<div>\n",
       "<style scoped>\n",
       "    .dataframe tbody tr th:only-of-type {\n",
       "        vertical-align: middle;\n",
       "    }\n",
       "\n",
       "    .dataframe tbody tr th {\n",
       "        vertical-align: top;\n",
       "    }\n",
       "\n",
       "    .dataframe thead th {\n",
       "        text-align: right;\n",
       "    }\n",
       "</style>\n",
       "<table border=\"1\" class=\"dataframe\">\n",
       "  <thead>\n",
       "    <tr style=\"text-align: right;\">\n",
       "      <th></th>\n",
       "      <th>month</th>\n",
       "      <th>temp_mean_daily_min</th>\n",
       "    </tr>\n",
       "  </thead>\n",
       "  <tbody>\n",
       "    <tr>\n",
       "      <th>486</th>\n",
       "      <td>2022-07</td>\n",
       "      <td>25.8</td>\n",
       "    </tr>\n",
       "    <tr>\n",
       "      <th>487</th>\n",
       "      <td>2022-08</td>\n",
       "      <td>25.8</td>\n",
       "    </tr>\n",
       "    <tr>\n",
       "      <th>488</th>\n",
       "      <td>2022-09</td>\n",
       "      <td>25.4</td>\n",
       "    </tr>\n",
       "    <tr>\n",
       "      <th>489</th>\n",
       "      <td>2022-10</td>\n",
       "      <td>24.7</td>\n",
       "    </tr>\n",
       "    <tr>\n",
       "      <th>490</th>\n",
       "      <td>2022-11</td>\n",
       "      <td>24.4</td>\n",
       "    </tr>\n",
       "  </tbody>\n",
       "</table>\n",
       "</div>"
      ],
      "text/plain": [
       "       month  temp_mean_daily_min\n",
       "486  2022-07                 25.8\n",
       "487  2022-08                 25.8\n",
       "488  2022-09                 25.4\n",
       "489  2022-10                 24.7\n",
       "490  2022-11                 24.4"
      ]
     },
     "execution_count": 369,
     "metadata": {},
     "output_type": "execute_result"
    }
   ],
   "source": [
    "temp_df.tail()"
   ]
  },
  {
   "cell_type": "code",
   "execution_count": 386,
   "id": "e081af13-79d3-4455-a127-66203b33eccc",
   "metadata": {},
   "outputs": [],
   "source": [
    "temp_df['date']=pd.to_datetime(temp_df['month'])"
   ]
  },
  {
   "cell_type": "code",
   "execution_count": 387,
   "id": "ff6cd693-3c74-46c2-8590-1bc65e194598",
   "metadata": {},
   "outputs": [],
   "source": [
    "# make date into year and month\n",
    "temp_df['year'] = temp_df['date'].dt.strftime('%Y')\n",
    "temp_df['month'] = temp_df['date'].dt.strftime('%m')"
   ]
  },
  {
   "cell_type": "code",
   "execution_count": 394,
   "id": "d8b9609d-4808-4acf-ab20-ffd47fc1d689",
   "metadata": {},
   "outputs": [],
   "source": [
    "temp_df['year'] = temp_df['year'].astype(int)"
   ]
  },
  {
   "cell_type": "code",
   "execution_count": 395,
   "id": "12fe0388-baee-460f-ab25-c6d8cc866e90",
   "metadata": {},
   "outputs": [],
   "source": [
    "temp_df['month'] = temp_df['month'].astype(int)"
   ]
  },
  {
   "cell_type": "code",
   "execution_count": 397,
   "id": "c5e7ecca-5e1d-4143-8555-cbd595ca12d8",
   "metadata": {
    "collapsed": true,
    "jupyter": {
     "outputs_hidden": true
    },
    "tags": []
   },
   "outputs": [
    {
     "name": "stdout",
     "output_type": "stream",
     "text": [
      "<class 'pandas.core.frame.DataFrame'>\n",
      "RangeIndex: 491 entries, 0 to 490\n",
      "Data columns (total 4 columns):\n",
      " #   Column               Non-Null Count  Dtype         \n",
      "---  ------               --------------  -----         \n",
      " 0   month                491 non-null    int64         \n",
      " 1   temp_mean_daily_min  491 non-null    float64       \n",
      " 2   date                 491 non-null    datetime64[ns]\n",
      " 3   year                 491 non-null    int64         \n",
      "dtypes: datetime64[ns](1), float64(1), int64(2)\n",
      "memory usage: 15.5 KB\n"
     ]
    }
   ],
   "source": [
    "temp_df.info()"
   ]
  },
  {
   "cell_type": "code",
   "execution_count": 383,
   "id": "2afcbc79-6bbf-49a2-9284-e472da14319b",
   "metadata": {},
   "outputs": [
    {
     "name": "stdout",
     "output_type": "stream",
     "text": [
      "<class 'pandas.core.frame.DataFrame'>\n",
      "RangeIndex: 490 entries, 0 to 489\n",
      "Data columns (total 2 columns):\n",
      " #   Column   Non-Null Count  Dtype  \n",
      "---  ------   --------------  -----  \n",
      " 0   month    490 non-null    object \n",
      " 1   mean_rh  490 non-null    float64\n",
      "dtypes: float64(1), object(1)\n",
      "memory usage: 7.8+ KB\n"
     ]
    }
   ],
   "source": [
    "humid_df.info() # 490 rows, month is an object"
   ]
  },
  {
   "cell_type": "code",
   "execution_count": 388,
   "id": "c07dc16a-5ab4-440c-b86b-776072ec5ecc",
   "metadata": {},
   "outputs": [],
   "source": [
    "humid_df['date']=pd.to_datetime(humid_df['month'])"
   ]
  },
  {
   "cell_type": "code",
   "execution_count": 398,
   "id": "ffd66a03-83cb-42ef-8b41-0309d009a019",
   "metadata": {},
   "outputs": [],
   "source": [
    "# make date into year and month\n",
    "humid_df['year'] = humid_df['date'].dt.strftime('%Y')\n",
    "humid_df['month'] = humid_df['date'].dt.strftime('%m')"
   ]
  },
  {
   "cell_type": "code",
   "execution_count": 399,
   "id": "89ca5693-5ca2-4065-95cc-d42ed7f12c72",
   "metadata": {},
   "outputs": [],
   "source": [
    "humid_df['year'] = humid_df['year'].astype(int)\n",
    "humid_df['month'] = humid_df['month'].astype(int)"
   ]
  },
  {
   "cell_type": "code",
   "execution_count": null,
   "id": "92b3ea95-6c6f-48e1-b4cd-d42483c621c6",
   "metadata": {},
   "outputs": [],
   "source": []
  },
  {
   "cell_type": "code",
   "execution_count": 400,
   "id": "276bd4fb-e827-40c6-b07c-ab84627ab23c",
   "metadata": {
    "tags": []
   },
   "outputs": [],
   "source": [
    "new_result = new_result.merge(humid_df, on=['year'], how='left')"
   ]
  },
  {
   "cell_type": "code",
   "execution_count": 392,
   "id": "96f22744-d554-4ad4-9835-4859c908d209",
   "metadata": {
    "collapsed": true,
    "jupyter": {
     "outputs_hidden": true
    },
    "tags": []
   },
   "outputs": [
    {
     "name": "stdout",
     "output_type": "stream",
     "text": [
      "<class 'pandas.core.frame.DataFrame'>\n",
      "RangeIndex: 488 entries, 0 to 487\n",
      "Data columns (total 8 columns):\n",
      " #   Column          Non-Null Count  Dtype  \n",
      "---  ------          --------------  -----  \n",
      " 0   year            488 non-null    int64  \n",
      " 1   month           488 non-null    int64  \n",
      " 2   date            488 non-null    object \n",
      " 3   total_rainfall  488 non-null    float64\n",
      " 4   rainy_days      488 non-null    int64  \n",
      " 5   max_rainfall    488 non-null    float64\n",
      " 6   season          488 non-null    object \n",
      " 7   decade          488 non-null    object \n",
      "dtypes: float64(2), int64(3), object(3)\n",
      "memory usage: 30.6+ KB\n"
     ]
    }
   ],
   "source": [
    "merged_df.info() # 488 rows"
   ]
  },
  {
   "cell_type": "code",
   "execution_count": 415,
   "id": "3c7d0c06-8bd0-4199-b289-5843bddafe11",
   "metadata": {},
   "outputs": [],
   "source": [
    "new_result.drop(columns=['temp_mean_daily_min_y', 'date_y'], inplace=True)"
   ]
  },
  {
   "cell_type": "code",
   "execution_count": null,
   "id": "3f3d3c34-3455-4bac-a730-6a4299f429f1",
   "metadata": {},
   "outputs": [],
   "source": []
  },
  {
   "cell_type": "code",
   "execution_count": 412,
   "id": "0118ad22-921c-4627-a1be-b899ee93c0c5",
   "metadata": {
    "tags": []
   },
   "outputs": [
    {
     "data": {
      "text/html": [
       "<div>\n",
       "<style scoped>\n",
       "    .dataframe tbody tr th:only-of-type {\n",
       "        vertical-align: middle;\n",
       "    }\n",
       "\n",
       "    .dataframe tbody tr th {\n",
       "        vertical-align: top;\n",
       "    }\n",
       "\n",
       "    .dataframe thead th {\n",
       "        text-align: right;\n",
       "    }\n",
       "</style>\n",
       "<table border=\"1\" class=\"dataframe\">\n",
       "  <thead>\n",
       "    <tr style=\"text-align: right;\">\n",
       "      <th></th>\n",
       "      <th>year</th>\n",
       "      <th>Imported_sum</th>\n",
       "      <th>Local_sum</th>\n",
       "      <th>total_cases_sum</th>\n",
       "      <th>total_rainfall</th>\n",
       "      <th>rainy_days</th>\n",
       "      <th>max_rainfall</th>\n",
       "      <th>season</th>\n",
       "      <th>decade</th>\n",
       "      <th>mean_rh</th>\n",
       "      <th>date_y</th>\n",
       "      <th>month_y</th>\n",
       "      <th>month</th>\n",
       "      <th>temp_mean_daily_min_y</th>\n",
       "      <th>date_y</th>\n",
       "    </tr>\n",
       "  </thead>\n",
       "  <tbody>\n",
       "    <tr>\n",
       "      <th>0</th>\n",
       "      <td>2020</td>\n",
       "      <td>16</td>\n",
       "      <td>0</td>\n",
       "      <td>16</td>\n",
       "      <td>88.4</td>\n",
       "      <td>6</td>\n",
       "      <td>38.0</td>\n",
       "      <td>Northeast Monsoon</td>\n",
       "      <td>20s</td>\n",
       "      <td>77.9</td>\n",
       "      <td>2020-01-01</td>\n",
       "      <td>1</td>\n",
       "      <td>1</td>\n",
       "      <td>25.2</td>\n",
       "      <td>2020-01-01</td>\n",
       "    </tr>\n",
       "    <tr>\n",
       "      <th>1</th>\n",
       "      <td>2020</td>\n",
       "      <td>16</td>\n",
       "      <td>0</td>\n",
       "      <td>16</td>\n",
       "      <td>88.4</td>\n",
       "      <td>6</td>\n",
       "      <td>38.0</td>\n",
       "      <td>Northeast Monsoon</td>\n",
       "      <td>20s</td>\n",
       "      <td>77.9</td>\n",
       "      <td>2020-01-01</td>\n",
       "      <td>1</td>\n",
       "      <td>2</td>\n",
       "      <td>25.3</td>\n",
       "      <td>2020-02-01</td>\n",
       "    </tr>\n",
       "    <tr>\n",
       "      <th>2</th>\n",
       "      <td>2020</td>\n",
       "      <td>16</td>\n",
       "      <td>0</td>\n",
       "      <td>16</td>\n",
       "      <td>88.4</td>\n",
       "      <td>6</td>\n",
       "      <td>38.0</td>\n",
       "      <td>Northeast Monsoon</td>\n",
       "      <td>20s</td>\n",
       "      <td>77.9</td>\n",
       "      <td>2020-01-01</td>\n",
       "      <td>1</td>\n",
       "      <td>3</td>\n",
       "      <td>25.9</td>\n",
       "      <td>2020-03-01</td>\n",
       "    </tr>\n",
       "    <tr>\n",
       "      <th>3</th>\n",
       "      <td>2020</td>\n",
       "      <td>16</td>\n",
       "      <td>0</td>\n",
       "      <td>16</td>\n",
       "      <td>88.4</td>\n",
       "      <td>6</td>\n",
       "      <td>38.0</td>\n",
       "      <td>Northeast Monsoon</td>\n",
       "      <td>20s</td>\n",
       "      <td>77.9</td>\n",
       "      <td>2020-01-01</td>\n",
       "      <td>1</td>\n",
       "      <td>4</td>\n",
       "      <td>26.0</td>\n",
       "      <td>2020-04-01</td>\n",
       "    </tr>\n",
       "    <tr>\n",
       "      <th>4</th>\n",
       "      <td>2020</td>\n",
       "      <td>16</td>\n",
       "      <td>0</td>\n",
       "      <td>16</td>\n",
       "      <td>88.4</td>\n",
       "      <td>6</td>\n",
       "      <td>38.0</td>\n",
       "      <td>Northeast Monsoon</td>\n",
       "      <td>20s</td>\n",
       "      <td>77.9</td>\n",
       "      <td>2020-01-01</td>\n",
       "      <td>1</td>\n",
       "      <td>5</td>\n",
       "      <td>26.1</td>\n",
       "      <td>2020-05-01</td>\n",
       "    </tr>\n",
       "  </tbody>\n",
       "</table>\n",
       "</div>"
      ],
      "text/plain": [
       "   year  Imported_sum  Local_sum  total_cases_sum  total_rainfall  rainy_days  \\\n",
       "0  2020            16          0               16            88.4           6   \n",
       "1  2020            16          0               16            88.4           6   \n",
       "2  2020            16          0               16            88.4           6   \n",
       "3  2020            16          0               16            88.4           6   \n",
       "4  2020            16          0               16            88.4           6   \n",
       "\n",
       "   max_rainfall             season decade  mean_rh     date_y  month_y  month  \\\n",
       "0          38.0  Northeast Monsoon    20s     77.9 2020-01-01        1      1   \n",
       "1          38.0  Northeast Monsoon    20s     77.9 2020-01-01        1      2   \n",
       "2          38.0  Northeast Monsoon    20s     77.9 2020-01-01        1      3   \n",
       "3          38.0  Northeast Monsoon    20s     77.9 2020-01-01        1      4   \n",
       "4          38.0  Northeast Monsoon    20s     77.9 2020-01-01        1      5   \n",
       "\n",
       "   temp_mean_daily_min_y     date_y  \n",
       "0                   25.2 2020-01-01  \n",
       "1                   25.3 2020-02-01  \n",
       "2                   25.9 2020-03-01  \n",
       "3                   26.0 2020-04-01  \n",
       "4                   26.1 2020-05-01  "
      ]
     },
     "execution_count": 412,
     "metadata": {},
     "output_type": "execute_result"
    }
   ],
   "source": [
    "new_result.head()"
   ]
  },
  {
   "cell_type": "code",
   "execution_count": 417,
   "id": "5da8a713-b728-48b8-ae1b-beaede17e618",
   "metadata": {
    "tags": []
   },
   "outputs": [],
   "source": [
    "new_result = new_result.merge(humid_df, on=['year'], how='left')"
   ]
  },
  {
   "cell_type": "code",
   "execution_count": 418,
   "id": "fa7a9fb5-d1a5-4015-9162-706104c5f29a",
   "metadata": {},
   "outputs": [
    {
     "data": {
      "text/html": [
       "<div>\n",
       "<style scoped>\n",
       "    .dataframe tbody tr th:only-of-type {\n",
       "        vertical-align: middle;\n",
       "    }\n",
       "\n",
       "    .dataframe tbody tr th {\n",
       "        vertical-align: top;\n",
       "    }\n",
       "\n",
       "    .dataframe thead th {\n",
       "        text-align: right;\n",
       "    }\n",
       "</style>\n",
       "<table border=\"1\" class=\"dataframe\">\n",
       "  <thead>\n",
       "    <tr style=\"text-align: right;\">\n",
       "      <th></th>\n",
       "      <th>year</th>\n",
       "      <th>Imported_sum</th>\n",
       "      <th>Local_sum</th>\n",
       "      <th>total_cases_sum</th>\n",
       "      <th>total_rainfall</th>\n",
       "      <th>rainy_days</th>\n",
       "      <th>max_rainfall</th>\n",
       "      <th>season</th>\n",
       "      <th>decade</th>\n",
       "      <th>mean_rh_x</th>\n",
       "      <th>month_y</th>\n",
       "      <th>month_x</th>\n",
       "      <th>month_y</th>\n",
       "      <th>temp_mean_daily_min</th>\n",
       "      <th>date_x</th>\n",
       "      <th>month</th>\n",
       "      <th>mean_rh_y</th>\n",
       "      <th>date_y</th>\n",
       "    </tr>\n",
       "  </thead>\n",
       "  <tbody>\n",
       "    <tr>\n",
       "      <th>0</th>\n",
       "      <td>2020</td>\n",
       "      <td>16</td>\n",
       "      <td>0</td>\n",
       "      <td>16</td>\n",
       "      <td>88.4</td>\n",
       "      <td>6</td>\n",
       "      <td>38.0</td>\n",
       "      <td>Northeast Monsoon</td>\n",
       "      <td>20s</td>\n",
       "      <td>77.9</td>\n",
       "      <td>1</td>\n",
       "      <td>1</td>\n",
       "      <td>1</td>\n",
       "      <td>25.2</td>\n",
       "      <td>2020-01-01</td>\n",
       "      <td>1</td>\n",
       "      <td>77.9</td>\n",
       "      <td>2020-01-01</td>\n",
       "    </tr>\n",
       "    <tr>\n",
       "      <th>1</th>\n",
       "      <td>2020</td>\n",
       "      <td>16</td>\n",
       "      <td>0</td>\n",
       "      <td>16</td>\n",
       "      <td>88.4</td>\n",
       "      <td>6</td>\n",
       "      <td>38.0</td>\n",
       "      <td>Northeast Monsoon</td>\n",
       "      <td>20s</td>\n",
       "      <td>77.9</td>\n",
       "      <td>1</td>\n",
       "      <td>1</td>\n",
       "      <td>1</td>\n",
       "      <td>25.2</td>\n",
       "      <td>2020-01-01</td>\n",
       "      <td>2</td>\n",
       "      <td>76.0</td>\n",
       "      <td>2020-02-01</td>\n",
       "    </tr>\n",
       "    <tr>\n",
       "      <th>2</th>\n",
       "      <td>2020</td>\n",
       "      <td>16</td>\n",
       "      <td>0</td>\n",
       "      <td>16</td>\n",
       "      <td>88.4</td>\n",
       "      <td>6</td>\n",
       "      <td>38.0</td>\n",
       "      <td>Northeast Monsoon</td>\n",
       "      <td>20s</td>\n",
       "      <td>77.9</td>\n",
       "      <td>1</td>\n",
       "      <td>1</td>\n",
       "      <td>1</td>\n",
       "      <td>25.2</td>\n",
       "      <td>2020-01-01</td>\n",
       "      <td>3</td>\n",
       "      <td>75.2</td>\n",
       "      <td>2020-03-01</td>\n",
       "    </tr>\n",
       "    <tr>\n",
       "      <th>3</th>\n",
       "      <td>2020</td>\n",
       "      <td>16</td>\n",
       "      <td>0</td>\n",
       "      <td>16</td>\n",
       "      <td>88.4</td>\n",
       "      <td>6</td>\n",
       "      <td>38.0</td>\n",
       "      <td>Northeast Monsoon</td>\n",
       "      <td>20s</td>\n",
       "      <td>77.9</td>\n",
       "      <td>1</td>\n",
       "      <td>1</td>\n",
       "      <td>1</td>\n",
       "      <td>25.2</td>\n",
       "      <td>2020-01-01</td>\n",
       "      <td>4</td>\n",
       "      <td>76.4</td>\n",
       "      <td>2020-04-01</td>\n",
       "    </tr>\n",
       "    <tr>\n",
       "      <th>4</th>\n",
       "      <td>2020</td>\n",
       "      <td>16</td>\n",
       "      <td>0</td>\n",
       "      <td>16</td>\n",
       "      <td>88.4</td>\n",
       "      <td>6</td>\n",
       "      <td>38.0</td>\n",
       "      <td>Northeast Monsoon</td>\n",
       "      <td>20s</td>\n",
       "      <td>77.9</td>\n",
       "      <td>1</td>\n",
       "      <td>1</td>\n",
       "      <td>1</td>\n",
       "      <td>25.2</td>\n",
       "      <td>2020-01-01</td>\n",
       "      <td>5</td>\n",
       "      <td>79.1</td>\n",
       "      <td>2020-05-01</td>\n",
       "    </tr>\n",
       "  </tbody>\n",
       "</table>\n",
       "</div>"
      ],
      "text/plain": [
       "   year  Imported_sum  Local_sum  total_cases_sum  total_rainfall  rainy_days  \\\n",
       "0  2020            16          0               16            88.4           6   \n",
       "1  2020            16          0               16            88.4           6   \n",
       "2  2020            16          0               16            88.4           6   \n",
       "3  2020            16          0               16            88.4           6   \n",
       "4  2020            16          0               16            88.4           6   \n",
       "\n",
       "   max_rainfall             season decade  mean_rh_x  month_y  month_x  \\\n",
       "0          38.0  Northeast Monsoon    20s       77.9        1        1   \n",
       "1          38.0  Northeast Monsoon    20s       77.9        1        1   \n",
       "2          38.0  Northeast Monsoon    20s       77.9        1        1   \n",
       "3          38.0  Northeast Monsoon    20s       77.9        1        1   \n",
       "4          38.0  Northeast Monsoon    20s       77.9        1        1   \n",
       "\n",
       "   month_y  temp_mean_daily_min     date_x  month  mean_rh_y     date_y  \n",
       "0        1                 25.2 2020-01-01      1       77.9 2020-01-01  \n",
       "1        1                 25.2 2020-01-01      2       76.0 2020-02-01  \n",
       "2        1                 25.2 2020-01-01      3       75.2 2020-03-01  \n",
       "3        1                 25.2 2020-01-01      4       76.4 2020-04-01  \n",
       "4        1                 25.2 2020-01-01      5       79.1 2020-05-01  "
      ]
     },
     "execution_count": 418,
     "metadata": {},
     "output_type": "execute_result"
    }
   ],
   "source": [
    "new_result.head()"
   ]
  },
  {
   "cell_type": "code",
   "execution_count": null,
   "id": "f59bd756-1bf5-4991-8527-b17730de6595",
   "metadata": {
    "tags": []
   },
   "outputs": [],
   "source": [
    "new_columns = ['year', 'month', 'date', 'total_rainfall', 'rainy_days','max_rainfall','season','decade', 'mean_rh','temp_mean_daily_min_y',']\n",
    "\n",
    "mtr_copy = mtr_copy[mtr_copy_columns]\n",
    "mtr_copy.head()"
   ]
  }
 ],
 "metadata": {
  "kernelspec": {
   "display_name": "dsi-sg",
   "language": "python",
   "name": "dsi-sg"
  },
  "language_info": {
   "codemirror_mode": {
    "name": "ipython",
    "version": 3
   },
   "file_extension": ".py",
   "mimetype": "text/x-python",
   "name": "python",
   "nbconvert_exporter": "python",
   "pygments_lexer": "ipython3",
   "version": "3.9.13"
  }
 },
 "nbformat": 4,
 "nbformat_minor": 5
}
