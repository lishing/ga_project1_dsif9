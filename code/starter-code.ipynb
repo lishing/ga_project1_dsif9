{
 "cells": [
  {
   "cell_type": "markdown",
   "metadata": {},
   "source": [
    "<img src=\"http://imgur.com/1ZcRyrc.png\" style=\"float: left; margin: 20px; height: 55px\">\n",
    "\n",
    "# Project 1: Data Analysis of Singapore Rainfall"
   ]
  },
  {
   "cell_type": "markdown",
   "metadata": {},
   "source": [
    "--- \n",
    "# Part 1\n",
    "\n",
    "Part 1 requires knowledge of basic Python.\n",
    "\n",
    "---"
   ]
  },
  {
   "cell_type": "markdown",
   "metadata": {},
   "source": [
    "### Contents:\n",
    "- [Background](#Background)\n",
    "- [Data Import & Cleaning](#Data-Import-and-Cleaning)\n",
    "- [Exploratory Data Analysis](#Exploratory-Data-Analysis)\n",
    "- [Data Visualization](#Visualize-the-Data)\n",
    "- [Conclusions and Recommendations](#Conclusions-and-Recommendations)"
   ]
  },
  {
   "cell_type": "markdown",
   "metadata": {},
   "source": [
    "## Background"
   ]
  },
  {
   "cell_type": "markdown",
   "metadata": {},
   "source": [
    "According to the [Meteorological Services Singapore](http://www.weather.gov.sg/climate-climate-of-singapore/#:~:text=Singapore%20is%20situated%20near%20the,month%2Dto%2Dmonth%20variation.), Singapore has typical tropical climate with adundant rainfall, high and uniform temperatures and high humidity all year round, since its situated near the equator. There are many factors that help us understand the climate of a country and in this project we are going to look into a few, especially rainfall.\n",
    "\n",
    "Singapore’s climate is characterised by two main monsoon seasons separated by inter-monsoonal periods.  The **Northeast Monsoon** occurs from December to early March, and the **Southwest Monsoon** from June to September.\n",
    "\n",
    "The major weather systems affecting Singapore that can lead to heavy rainfall are:\n",
    "\n",
    "-Monsoon surges, or strong wind episodes in the Northeast Monsoon flow bringing about major rainfall events;\n",
    "\n",
    "-Sumatra squalls, an organised line of thunderstorms travelling eastward across Singapore, having developed over the island of Sumatra or Straits of Malacca west of us;\n",
    "\n",
    "-Afternoon and evening thunderstorms caused by strong surface heating and by the sea breeze circulation that develops in the afternoon.\n",
    "\n",
    "Singapore’s climate station has been located at several different sites in the past 140 years. The station had been decommissioned at various points in the past due to changes to local land use in the site’s vicinity, and had to be relocated. Since 1984, the climate station has been located at **Changi**.\n",
    "\n",
    "There are other metrics of climate such as temperature, humidity, sun shine duration, wind speed, cloud cover etc. All the dataset used in the project comes from [data.gov.sg](data.gov.sg), as recorded at the Changi climate station \n"
   ]
  },
  {
   "cell_type": "markdown",
   "metadata": {},
   "source": [
    "### Choose your Data\n",
    "\n",
    "There are 2 datasets included in the [`data`](./data/) folder for this project. These correponds to rainfall information. \n",
    "\n",
    "* [`rainfall-monthly-number-of-rain-days.csv`](./data/rainfall-monthly-number-of-rain-days.csv): Monthly number of rain days from 1982 to 2022. A day is considered to have “rained” if the total rainfall for that day is 0.2mm or more.\n",
    "* [`rainfall-monthly-total.csv`](./data/rainfall-monthly-total.csv): Monthly total rain recorded in mm(millimeters) from 1982 to 2022\n",
    "\n",
    "Other relevant weather datasets from [data.gov.sg](data.gov.sg) that you can download and use are as follows:\n",
    "\n",
    "* [Relative Humidity](https://data.gov.sg/dataset/relative-humidity-monthly-mean)\n",
    "* [Monthly Maximum Daily Rainfall](https://data.gov.sg/dataset/rainfall-monthly-maximum-daily-total)\n",
    "* [Hourly wet buld temperature](https://data.gov.sg/dataset/wet-bulb-temperature-hourly)\n",
    "* [Monthly mean sunshine hours](https://data.gov.sg/dataset/sunshine-duration-monthly-mean-daily-duration)\n",
    "* [Surface Air Temperature](https://data.gov.sg/dataset/surface-air-temperature-mean-daily-minimum)\n",
    "\n",
    "You can also use other datasets for your analysis, make sure to cite the source when you are using them"
   ]
  },
  {
   "cell_type": "markdown",
   "metadata": {},
   "source": [
    "**To-Do:** *Fill out this cell with the datasets you will use for your analysis. Write a brief description of the contents for each dataset that you choose.*"
   ]
  },
  {
   "cell_type": "markdown",
   "metadata": {},
   "source": [
    "## Problem Statement"
   ]
  },
  {
   "cell_type": "markdown",
   "metadata": {},
   "source": [
    "Decide on your problem statement that will guide your analysis for this project. For guidelines, sample prompts, or inspiration, check out the README.\n",
    "\n",
    "**To-Do:** To find out if the supply of rainfall can meet and sustain water demand in Singapore for the next 1 year"
   ]
  },
  {
   "cell_type": "markdown",
   "metadata": {},
   "source": [
    "Rainfall affects daily activities of Singapore population, hence it is worth analysing rainfall data to identify trends "
   ]
  },
  {
   "cell_type": "markdown",
   "metadata": {},
   "source": [
    "### Outside Research"
   ]
  },
  {
   "cell_type": "markdown",
   "metadata": {},
   "source": [
    "Based on your problem statement and your chosen datasets, spend some time doing outside research on how climate change is affecting different industries or additional information that might be relevant. Summarize your findings below. If you bring in any outside tables or charts, make sure you are explicit about having borrowed them. If you quote any text, make sure that it renders as being quoted. **Make sure that you cite your sources.**"
   ]
  },
  {
   "cell_type": "markdown",
   "metadata": {},
   "source": [
    "**To-Do:** *Fill out this cell with outside research or any additional background information that will support your analysis.*"
   ]
  },
  {
   "cell_type": "markdown",
   "metadata": {},
   "source": []
  },
  {
   "cell_type": "markdown",
   "metadata": {
    "jp-MarkdownHeadingCollapsed": true,
    "tags": []
   },
   "source": [
    "### Coding Challenges\n",
    "\n",
    "1. Manually calculate mean:\n",
    "\n",
    "    Write a function that takes in values and returns the mean of the values. Create a list of numbers that you test on your function to check to make sure your function works!\n",
    "    \n",
    "    *Note*: Do not use any mean methods built-in to any Python libraries to do this! This should be done without importing any additional libraries."
   ]
  },
  {
   "cell_type": "code",
   "execution_count": 2,
   "metadata": {
    "tags": []
   },
   "outputs": [],
   "source": [
    "# Code: \n",
    "def calculate_mean(array):\n",
    "    return sum(array)/len(array)"
   ]
  },
  {
   "cell_type": "code",
   "execution_count": 3,
   "metadata": {},
   "outputs": [
    {
     "data": {
      "text/plain": [
       "29.0"
      ]
     },
     "execution_count": 3,
     "metadata": {},
     "output_type": "execute_result"
    }
   ],
   "source": [
    "calculate_mean([47,56,3,10])"
   ]
  },
  {
   "cell_type": "markdown",
   "metadata": {},
   "source": [
    "2. Manually calculate standard deviation:\n",
    "\n",
    "    The formula for standard deviation is below:\n",
    "\n",
    "    $$\\sigma = \\sqrt{\\frac{1}{n}\\sum_{i=1}^n(x_i - \\mu)^2}$$\n",
    "\n",
    "    Where $x_i$ represents each value in the dataset, $\\mu$ represents the mean of all values in the dataset and $n$ represents the number of values in the dataset.\n",
    "\n",
    "    Write a function that takes in values and returns the standard deviation of the values using the formula above. Hint: use the function you wrote above to calculate the mean! Use the list of numbers you created above to test on your function.\n",
    "    \n",
    "    *Note*: Do not use any standard deviation methods built-in to any Python libraries to do this! This should be done without importing any additional libraries."
   ]
  },
  {
   "cell_type": "code",
   "execution_count": 315,
   "metadata": {},
   "outputs": [],
   "source": [
    "# Code:\n",
    "\n",
    "# def calculate_mean(array):\n",
    "#     return sum(array)/len(array)\n",
    "\n",
    "def calculate_sd(array):\n",
    "    total = 0\n",
    "    for i in array:\n",
    "        diff = (i - calculate_mean(array))\n",
    "        total += (diff**2)\n",
    "    return (total / len(array))**(0.5)"
   ]
  },
  {
   "cell_type": "code",
   "execution_count": 316,
   "metadata": {},
   "outputs": [
    {
     "data": {
      "text/plain": [
       "22.85825890132492"
      ]
     },
     "execution_count": 316,
     "metadata": {},
     "output_type": "execute_result"
    }
   ],
   "source": [
    "calculate_sd([47,56,3,10])"
   ]
  },
  {
   "cell_type": "markdown",
   "metadata": {
    "tags": []
   },
   "source": [
    "--- \n",
    "# Part 2\n",
    "\n",
    "Part 2 requires knowledge of Pandas, EDA, data cleaning, and data visualization.\n",
    "\n",
    "---"
   ]
  },
  {
   "cell_type": "markdown",
   "metadata": {},
   "source": [
    "*All libraries used should be added here*"
   ]
  },
  {
   "cell_type": "code",
   "execution_count": 63,
   "metadata": {},
   "outputs": [],
   "source": [
    "# Imports:\n",
    "import numpy as np\n",
    "import pandas as pd\n",
    "import matplotlib.pyplot as plt\n",
    "import seaborn as sns"
   ]
  },
  {
   "cell_type": "markdown",
   "metadata": {},
   "source": [
    "## Data Import and Cleaning"
   ]
  },
  {
   "cell_type": "markdown",
   "metadata": {
    "tags": []
   },
   "source": [
    "### Data Import & Cleaning\n",
    "\n",
    "Import all the datasets that you selected for this project and go through the following steps at a minimum. You are welcome to do further cleaning as you feel necessary. Make sure to comment your code to showcase the intent behind the data processing step.\n",
    "1. Display the data: print the first 5 rows of each dataframe to your Jupyter notebook.\n",
    "2. Check for missing values and datatype.\n",
    "3. Check for any obvious issues with the observations.\n",
    "4. Fix any errors you identified in steps 2-3.\n",
    "6. Fix any incorrect data types found in step 5.\n",
    "    - Fix any individual values preventing other columns from being the appropriate type.\n",
    "    - If the month column data is better analyzed as month and year, create new columns for the same\n",
    "7. Rename Columns.\n",
    "    - Column names should be all lowercase.\n",
    "    - Column names should not contain spaces (underscores will suffice--this allows for using the `df.column_name` method to access columns in addition to `df['column_name']`).\n",
    "    - Column names should be unique and informative.\n",
    "8. Drop unnecessary rows (if needed).\n",
    "9. Merge dataframes that can be merged.\n",
    "    - Since different climate metrics are in month format, you can merge them into one single dataframe for easier analysis\n",
    "10. Perform any additional cleaning that you feel is necessary.\n",
    "11. Save your cleaned and merged dataframes as csv files."
   ]
  },
  {
   "cell_type": "code",
   "execution_count": 421,
   "metadata": {},
   "outputs": [],
   "source": [
    "# import all files related to weather\n",
    "dhr_df = pd.read_csv('../data/rainfall-monthly-highest-daily-total.csv')\n",
    "mtr_df = pd.read_csv('../data/rainfall-monthly-total.csv')\n",
    "nor_df = pd.read_csv('../data/rainfall-monthly-number-of-rain-days.csv')\n",
    "temp_df = pd.read_csv('../data/surface-air-temperature-monthly-mean.csv')\n",
    "humid_df = pd.read_csv('../data/relative-humidity-monthly-mean.csv')"
   ]
  },
  {
   "cell_type": "markdown",
   "metadata": {
    "tags": []
   },
   "source": [
    "#### For each of the dataset, find out the data types, number of columns and rows, and whether it has any null values\n",
    "1. .info() for data types and number of rows\n",
    "2. .tail() to find out the last available data. \n",
    "    * this can help in determining merging later\n",
    "3. .isnull().mean() to find out proportion of null values, if any\n",
    "    * if proportion is low, I will consider dropping the rows"
   ]
  },
  {
   "cell_type": "markdown",
   "metadata": {
    "tags": []
   },
   "source": [
    "#### Observations on dataset:\n",
    "1. The datasets do not have any null values\n",
    "2. There is a need to fix datetime across all the tables\n",
    "    * we will merge them, and fix it together\n",
    "3. Datatype for date column is listed as objects\n",
    "    * we will convert them to datetime format, before transforming them into Year and Month\n",
    "    * then, we will bin them into decades and seasons\n",
    "4. The 'limiting factor' would be the dataset with the shortest number of rows (till Aug 2022)\n",
    "    * this will determine how we merge the data later\n"
   ]
  },
  {
   "cell_type": "code",
   "execution_count": 412,
   "metadata": {
    "tags": []
   },
   "outputs": [
    {
     "name": "stdout",
     "output_type": "stream",
     "text": [
      "<class 'pandas.core.frame.DataFrame'>\n",
      "RangeIndex: 490 entries, 0 to 489\n",
      "Data columns (total 2 columns):\n",
      " #   Column                     Non-Null Count  Dtype  \n",
      "---  ------                     --------------  -----  \n",
      " 0   month                      490 non-null    object \n",
      " 1   maximum_rainfall_in_a_day  490 non-null    float64\n",
      "dtypes: float64(1), object(1)\n",
      "memory usage: 7.8+ KB\n"
     ]
    }
   ],
   "source": [
    "dhr_df.info() # 490 rows"
   ]
  },
  {
   "cell_type": "code",
   "execution_count": 415,
   "metadata": {
    "collapsed": true,
    "jupyter": {
     "outputs_hidden": true
    },
    "tags": []
   },
   "outputs": [
    {
     "data": {
      "text/html": [
       "<div>\n",
       "<style scoped>\n",
       "    .dataframe tbody tr th:only-of-type {\n",
       "        vertical-align: middle;\n",
       "    }\n",
       "\n",
       "    .dataframe tbody tr th {\n",
       "        vertical-align: top;\n",
       "    }\n",
       "\n",
       "    .dataframe thead th {\n",
       "        text-align: right;\n",
       "    }\n",
       "</style>\n",
       "<table border=\"1\" class=\"dataframe\">\n",
       "  <thead>\n",
       "    <tr style=\"text-align: right;\">\n",
       "      <th></th>\n",
       "      <th>month</th>\n",
       "      <th>maximum_rainfall_in_a_day</th>\n",
       "    </tr>\n",
       "  </thead>\n",
       "  <tbody>\n",
       "    <tr>\n",
       "      <th>485</th>\n",
       "      <td>2022-06</td>\n",
       "      <td>59.4</td>\n",
       "    </tr>\n",
       "    <tr>\n",
       "      <th>486</th>\n",
       "      <td>2022-07</td>\n",
       "      <td>27.8</td>\n",
       "    </tr>\n",
       "    <tr>\n",
       "      <th>487</th>\n",
       "      <td>2022-08</td>\n",
       "      <td>32.4</td>\n",
       "    </tr>\n",
       "    <tr>\n",
       "      <th>488</th>\n",
       "      <td>2022-09</td>\n",
       "      <td>38.2</td>\n",
       "    </tr>\n",
       "    <tr>\n",
       "      <th>489</th>\n",
       "      <td>2022-10</td>\n",
       "      <td>38.8</td>\n",
       "    </tr>\n",
       "  </tbody>\n",
       "</table>\n",
       "</div>"
      ],
      "text/plain": [
       "       month  maximum_rainfall_in_a_day\n",
       "485  2022-06                       59.4\n",
       "486  2022-07                       27.8\n",
       "487  2022-08                       32.4\n",
       "488  2022-09                       38.2\n",
       "489  2022-10                       38.8"
      ]
     },
     "execution_count": 415,
     "metadata": {},
     "output_type": "execute_result"
    }
   ],
   "source": [
    "dhr_df.tail() # till Oct 2022"
   ]
  },
  {
   "cell_type": "code",
   "execution_count": 414,
   "metadata": {
    "tags": []
   },
   "outputs": [
    {
     "data": {
      "text/plain": [
       "month                        0.0\n",
       "maximum_rainfall_in_a_day    0.0\n",
       "dtype: float64"
      ]
     },
     "execution_count": 414,
     "metadata": {},
     "output_type": "execute_result"
    }
   ],
   "source": [
    "dhr_df.isnull().mean()"
   ]
  },
  {
   "cell_type": "code",
   "execution_count": 72,
   "metadata": {
    "collapsed": true,
    "jupyter": {
     "outputs_hidden": true
    },
    "tags": []
   },
   "outputs": [
    {
     "name": "stdout",
     "output_type": "stream",
     "text": [
      "<class 'pandas.core.frame.DataFrame'>\n",
      "RangeIndex: 488 entries, 0 to 487\n",
      "Data columns (total 2 columns):\n",
      " #   Column          Non-Null Count  Dtype  \n",
      "---  ------          --------------  -----  \n",
      " 0   month           488 non-null    object \n",
      " 1   total_rainfall  488 non-null    float64\n",
      "dtypes: float64(1), object(1)\n",
      "memory usage: 7.8+ KB\n"
     ]
    }
   ],
   "source": [
    "mtr_df.info() # 488 rows"
   ]
  },
  {
   "cell_type": "code",
   "execution_count": 416,
   "metadata": {
    "collapsed": true,
    "jupyter": {
     "outputs_hidden": true
    },
    "tags": []
   },
   "outputs": [
    {
     "data": {
      "text/html": [
       "<div>\n",
       "<style scoped>\n",
       "    .dataframe tbody tr th:only-of-type {\n",
       "        vertical-align: middle;\n",
       "    }\n",
       "\n",
       "    .dataframe tbody tr th {\n",
       "        vertical-align: top;\n",
       "    }\n",
       "\n",
       "    .dataframe thead th {\n",
       "        text-align: right;\n",
       "    }\n",
       "</style>\n",
       "<table border=\"1\" class=\"dataframe\">\n",
       "  <thead>\n",
       "    <tr style=\"text-align: right;\">\n",
       "      <th></th>\n",
       "      <th>month</th>\n",
       "      <th>total_rainfall</th>\n",
       "    </tr>\n",
       "  </thead>\n",
       "  <tbody>\n",
       "    <tr>\n",
       "      <th>483</th>\n",
       "      <td>2022-04</td>\n",
       "      <td>239.6</td>\n",
       "    </tr>\n",
       "    <tr>\n",
       "      <th>484</th>\n",
       "      <td>2022-05</td>\n",
       "      <td>102.0</td>\n",
       "    </tr>\n",
       "    <tr>\n",
       "      <th>485</th>\n",
       "      <td>2022-06</td>\n",
       "      <td>211.8</td>\n",
       "    </tr>\n",
       "    <tr>\n",
       "      <th>486</th>\n",
       "      <td>2022-07</td>\n",
       "      <td>145.2</td>\n",
       "    </tr>\n",
       "    <tr>\n",
       "      <th>487</th>\n",
       "      <td>2022-08</td>\n",
       "      <td>141.4</td>\n",
       "    </tr>\n",
       "  </tbody>\n",
       "</table>\n",
       "</div>"
      ],
      "text/plain": [
       "       month  total_rainfall\n",
       "483  2022-04           239.6\n",
       "484  2022-05           102.0\n",
       "485  2022-06           211.8\n",
       "486  2022-07           145.2\n",
       "487  2022-08           141.4"
      ]
     },
     "execution_count": 416,
     "metadata": {},
     "output_type": "execute_result"
    }
   ],
   "source": [
    "mtr_df.tail() # till Aug 2022"
   ]
  },
  {
   "cell_type": "code",
   "execution_count": 126,
   "metadata": {
    "collapsed": true,
    "jupyter": {
     "outputs_hidden": true
    },
    "tags": []
   },
   "outputs": [
    {
     "data": {
      "text/plain": [
       "month             0.0\n",
       "total_rainfall    0.0\n",
       "dtype: float64"
      ]
     },
     "execution_count": 126,
     "metadata": {},
     "output_type": "execute_result"
    }
   ],
   "source": [
    "mtr_df.isnull().mean()"
   ]
  },
  {
   "cell_type": "code",
   "execution_count": 417,
   "metadata": {
    "collapsed": true,
    "jupyter": {
     "outputs_hidden": true
    },
    "tags": []
   },
   "outputs": [
    {
     "name": "stdout",
     "output_type": "stream",
     "text": [
      "<class 'pandas.core.frame.DataFrame'>\n",
      "RangeIndex: 488 entries, 0 to 487\n",
      "Data columns (total 2 columns):\n",
      " #   Column            Non-Null Count  Dtype \n",
      "---  ------            --------------  ----- \n",
      " 0   month             488 non-null    object\n",
      " 1   no_of_rainy_days  488 non-null    int64 \n",
      "dtypes: int64(1), object(1)\n",
      "memory usage: 7.8+ KB\n"
     ]
    }
   ],
   "source": [
    "nor_df.info() # 488 rows"
   ]
  },
  {
   "cell_type": "code",
   "execution_count": 419,
   "metadata": {
    "collapsed": true,
    "jupyter": {
     "outputs_hidden": true
    },
    "tags": []
   },
   "outputs": [
    {
     "data": {
      "text/html": [
       "<div>\n",
       "<style scoped>\n",
       "    .dataframe tbody tr th:only-of-type {\n",
       "        vertical-align: middle;\n",
       "    }\n",
       "\n",
       "    .dataframe tbody tr th {\n",
       "        vertical-align: top;\n",
       "    }\n",
       "\n",
       "    .dataframe thead th {\n",
       "        text-align: right;\n",
       "    }\n",
       "</style>\n",
       "<table border=\"1\" class=\"dataframe\">\n",
       "  <thead>\n",
       "    <tr style=\"text-align: right;\">\n",
       "      <th></th>\n",
       "      <th>month</th>\n",
       "      <th>no_of_rainy_days</th>\n",
       "    </tr>\n",
       "  </thead>\n",
       "  <tbody>\n",
       "    <tr>\n",
       "      <th>483</th>\n",
       "      <td>2022-04</td>\n",
       "      <td>18</td>\n",
       "    </tr>\n",
       "    <tr>\n",
       "      <th>484</th>\n",
       "      <td>2022-05</td>\n",
       "      <td>12</td>\n",
       "    </tr>\n",
       "    <tr>\n",
       "      <th>485</th>\n",
       "      <td>2022-06</td>\n",
       "      <td>17</td>\n",
       "    </tr>\n",
       "    <tr>\n",
       "      <th>486</th>\n",
       "      <td>2022-07</td>\n",
       "      <td>16</td>\n",
       "    </tr>\n",
       "    <tr>\n",
       "      <th>487</th>\n",
       "      <td>2022-08</td>\n",
       "      <td>15</td>\n",
       "    </tr>\n",
       "  </tbody>\n",
       "</table>\n",
       "</div>"
      ],
      "text/plain": [
       "       month  no_of_rainy_days\n",
       "483  2022-04                18\n",
       "484  2022-05                12\n",
       "485  2022-06                17\n",
       "486  2022-07                16\n",
       "487  2022-08                15"
      ]
     },
     "execution_count": 419,
     "metadata": {},
     "output_type": "execute_result"
    }
   ],
   "source": [
    "nor_df.tail() # till Aug 2022"
   ]
  },
  {
   "cell_type": "code",
   "execution_count": 420,
   "metadata": {
    "collapsed": true,
    "jupyter": {
     "outputs_hidden": true
    },
    "tags": []
   },
   "outputs": [
    {
     "data": {
      "text/plain": [
       "month               0.0\n",
       "no_of_rainy_days    0.0\n",
       "dtype: float64"
      ]
     },
     "execution_count": 420,
     "metadata": {},
     "output_type": "execute_result"
    }
   ],
   "source": [
    "nor_df.isnull().mean()"
   ]
  },
  {
   "cell_type": "code",
   "execution_count": 422,
   "metadata": {
    "collapsed": true,
    "jupyter": {
     "outputs_hidden": true
    },
    "tags": []
   },
   "outputs": [
    {
     "name": "stdout",
     "output_type": "stream",
     "text": [
      "<class 'pandas.core.frame.DataFrame'>\n",
      "RangeIndex: 491 entries, 0 to 490\n",
      "Data columns (total 2 columns):\n",
      " #   Column     Non-Null Count  Dtype  \n",
      "---  ------     --------------  -----  \n",
      " 0   month      491 non-null    object \n",
      " 1   mean_temp  491 non-null    float64\n",
      "dtypes: float64(1), object(1)\n",
      "memory usage: 7.8+ KB\n"
     ]
    }
   ],
   "source": [
    "temp_df.info() # 491 rows"
   ]
  },
  {
   "cell_type": "code",
   "execution_count": 423,
   "metadata": {
    "collapsed": true,
    "jupyter": {
     "outputs_hidden": true
    },
    "tags": []
   },
   "outputs": [
    {
     "data": {
      "text/html": [
       "<div>\n",
       "<style scoped>\n",
       "    .dataframe tbody tr th:only-of-type {\n",
       "        vertical-align: middle;\n",
       "    }\n",
       "\n",
       "    .dataframe tbody tr th {\n",
       "        vertical-align: top;\n",
       "    }\n",
       "\n",
       "    .dataframe thead th {\n",
       "        text-align: right;\n",
       "    }\n",
       "</style>\n",
       "<table border=\"1\" class=\"dataframe\">\n",
       "  <thead>\n",
       "    <tr style=\"text-align: right;\">\n",
       "      <th></th>\n",
       "      <th>month</th>\n",
       "      <th>mean_temp</th>\n",
       "    </tr>\n",
       "  </thead>\n",
       "  <tbody>\n",
       "    <tr>\n",
       "      <th>486</th>\n",
       "      <td>2022-07</td>\n",
       "      <td>28.6</td>\n",
       "    </tr>\n",
       "    <tr>\n",
       "      <th>487</th>\n",
       "      <td>2022-08</td>\n",
       "      <td>28.1</td>\n",
       "    </tr>\n",
       "    <tr>\n",
       "      <th>488</th>\n",
       "      <td>2022-09</td>\n",
       "      <td>27.9</td>\n",
       "    </tr>\n",
       "    <tr>\n",
       "      <th>489</th>\n",
       "      <td>2022-10</td>\n",
       "      <td>27.6</td>\n",
       "    </tr>\n",
       "    <tr>\n",
       "      <th>490</th>\n",
       "      <td>2022-11</td>\n",
       "      <td>27.4</td>\n",
       "    </tr>\n",
       "  </tbody>\n",
       "</table>\n",
       "</div>"
      ],
      "text/plain": [
       "       month  mean_temp\n",
       "486  2022-07       28.6\n",
       "487  2022-08       28.1\n",
       "488  2022-09       27.9\n",
       "489  2022-10       27.6\n",
       "490  2022-11       27.4"
      ]
     },
     "execution_count": 423,
     "metadata": {},
     "output_type": "execute_result"
    }
   ],
   "source": [
    "temp_df.tail() # till Nov 2022"
   ]
  },
  {
   "cell_type": "code",
   "execution_count": 424,
   "metadata": {
    "collapsed": true,
    "jupyter": {
     "outputs_hidden": true
    },
    "tags": []
   },
   "outputs": [
    {
     "data": {
      "text/plain": [
       "month        0.0\n",
       "mean_temp    0.0\n",
       "dtype: float64"
      ]
     },
     "execution_count": 424,
     "metadata": {},
     "output_type": "execute_result"
    }
   ],
   "source": [
    "temp_df.isnull().mean()"
   ]
  },
  {
   "cell_type": "code",
   "execution_count": 425,
   "metadata": {
    "collapsed": true,
    "jupyter": {
     "outputs_hidden": true
    },
    "tags": []
   },
   "outputs": [
    {
     "name": "stdout",
     "output_type": "stream",
     "text": [
      "<class 'pandas.core.frame.DataFrame'>\n",
      "RangeIndex: 490 entries, 0 to 489\n",
      "Data columns (total 2 columns):\n",
      " #   Column   Non-Null Count  Dtype  \n",
      "---  ------   --------------  -----  \n",
      " 0   month    490 non-null    object \n",
      " 1   mean_rh  490 non-null    float64\n",
      "dtypes: float64(1), object(1)\n",
      "memory usage: 7.8+ KB\n"
     ]
    }
   ],
   "source": [
    "humid_df.info() # 490 rows"
   ]
  },
  {
   "cell_type": "code",
   "execution_count": 426,
   "metadata": {
    "collapsed": true,
    "jupyter": {
     "outputs_hidden": true
    },
    "tags": []
   },
   "outputs": [
    {
     "data": {
      "text/html": [
       "<div>\n",
       "<style scoped>\n",
       "    .dataframe tbody tr th:only-of-type {\n",
       "        vertical-align: middle;\n",
       "    }\n",
       "\n",
       "    .dataframe tbody tr th {\n",
       "        vertical-align: top;\n",
       "    }\n",
       "\n",
       "    .dataframe thead th {\n",
       "        text-align: right;\n",
       "    }\n",
       "</style>\n",
       "<table border=\"1\" class=\"dataframe\">\n",
       "  <thead>\n",
       "    <tr style=\"text-align: right;\">\n",
       "      <th></th>\n",
       "      <th>month</th>\n",
       "      <th>mean_rh</th>\n",
       "    </tr>\n",
       "  </thead>\n",
       "  <tbody>\n",
       "    <tr>\n",
       "      <th>485</th>\n",
       "      <td>2022-06</td>\n",
       "      <td>79.1</td>\n",
       "    </tr>\n",
       "    <tr>\n",
       "      <th>486</th>\n",
       "      <td>2022-07</td>\n",
       "      <td>76.8</td>\n",
       "    </tr>\n",
       "    <tr>\n",
       "      <th>487</th>\n",
       "      <td>2022-08</td>\n",
       "      <td>77.4</td>\n",
       "    </tr>\n",
       "    <tr>\n",
       "      <th>488</th>\n",
       "      <td>2022-09</td>\n",
       "      <td>76.9</td>\n",
       "    </tr>\n",
       "    <tr>\n",
       "      <th>489</th>\n",
       "      <td>2022-10</td>\n",
       "      <td>78.7</td>\n",
       "    </tr>\n",
       "  </tbody>\n",
       "</table>\n",
       "</div>"
      ],
      "text/plain": [
       "       month  mean_rh\n",
       "485  2022-06     79.1\n",
       "486  2022-07     76.8\n",
       "487  2022-08     77.4\n",
       "488  2022-09     76.9\n",
       "489  2022-10     78.7"
      ]
     },
     "execution_count": 426,
     "metadata": {},
     "output_type": "execute_result"
    }
   ],
   "source": [
    "humid_df.tail() # till Oct 2022"
   ]
  },
  {
   "cell_type": "code",
   "execution_count": 427,
   "metadata": {
    "collapsed": true,
    "jupyter": {
     "outputs_hidden": true
    },
    "tags": []
   },
   "outputs": [
    {
     "data": {
      "text/plain": [
       "month      0.0\n",
       "mean_rh    0.0\n",
       "dtype: float64"
      ]
     },
     "execution_count": 427,
     "metadata": {},
     "output_type": "execute_result"
    }
   ],
   "source": [
    "humid_df.isnull().mean()"
   ]
  },
  {
   "cell_type": "markdown",
   "metadata": {},
   "source": [
    "#### Merge data to fix datetime\n",
    "1. Merge the datasets\n",
    "2. Fix datetime into year and month respectively\n",
    "1. Group into different seasons, adapted from [weather.gov.sg](http://www.weather.gov.sg/climate-climate-of-singapore/)\n",
    "    * Northeast Monsoon Season (December-Feb) - typically rain more, and becomes dryer towards the end\n",
    "    * Inter-monsoon Period (March-May)\n",
    "    * Southwest Monsoon Season (June-September) - typically dryer\n",
    "    * Inter-monsoon Period (October - November)\n",
    "2. Group into decades\n",
    "    * 1982 - 1991 (80s)\n",
    "    * 1992 - 2001 (90s)\n",
    "    * 2002 - 2021 (10s)\n",
    "    * 2022 - now (20s)"
   ]
  },
  {
   "cell_type": "code",
   "execution_count": 429,
   "metadata": {},
   "outputs": [],
   "source": [
    "# use mtr_df as the limiting factor, so the last row of entry for merged_df is Aug 2022\n",
    "merged_df = mtr_df.merge(nor_df,on=['month']).merge(dhr_df,on=['month']).merge(temp_df, on=['month']).merge(humid_df, on=['month'])"
   ]
  },
  {
   "cell_type": "code",
   "execution_count": 430,
   "metadata": {},
   "outputs": [],
   "source": [
    "# convert to datetime format\n",
    "merged_df['date']=pd.to_datetime(merged_df['month'])\n",
    "\n",
    "# split into year and month\n",
    "merged_df['year'] = merged_df['date'].dt.year\n",
    "merged_df['month'] = merged_df['date'].dt.month"
   ]
  },
  {
   "cell_type": "code",
   "execution_count": 432,
   "metadata": {},
   "outputs": [],
   "source": [
    "# group months into into monsoon seasons\n",
    "\n",
    "def monsoon_status(merged_df):\n",
    "    if merged_df['month'] == 12 or merged_df['month'] == 1 or merged_df['month'] == 2:\n",
    "        return 'Northeast Monsoon (Dec-Feb)'\n",
    "    elif merged_df['month'] == 6 or merged_df['month'] == 7 or merged_df['month'] == 8 or merged_df['month']== 9:\n",
    "        return 'Southwest Monsoon (Jun-Sept)'\n",
    "    elif merged_df['month'] == 10 or merged_df['month'] == 11:\n",
    "        return 'Inter-monsoon (Oct - Nov)'\n",
    "    else:\n",
    "        return 'Inter-monsoon (Mar-May)'\n",
    "\n",
    "merged_df['season'] = merged_df.apply(monsoon_status, axis = 1)"
   ]
  },
  {
   "cell_type": "code",
   "execution_count": 433,
   "metadata": {},
   "outputs": [],
   "source": [
    "# group years into decades\n",
    "\n",
    "def decade(merged_df):\n",
    "    if merged_df['year'] < 1990:\n",
    "        return '80s'\n",
    "    elif merged_df['year'] >= 1990 and merged_df['year'] < 2000:\n",
    "        return '90s'\n",
    "    elif merged_df['year'] >= 2000 and merged_df['year'] < 2010:\n",
    "        return '00s'\n",
    "    elif merged_df['year'] >= 2010 and merged_df['year'] < 2020:\n",
    "        return '10s'\n",
    "    else:\n",
    "        return '20s'\n",
    "\n",
    "merged_df['decade'] = merged_df.apply(decade, axis = 1)"
   ]
  },
  {
   "cell_type": "code",
   "execution_count": 434,
   "metadata": {},
   "outputs": [
    {
     "data": {
      "text/html": [
       "<div>\n",
       "<style scoped>\n",
       "    .dataframe tbody tr th:only-of-type {\n",
       "        vertical-align: middle;\n",
       "    }\n",
       "\n",
       "    .dataframe tbody tr th {\n",
       "        vertical-align: top;\n",
       "    }\n",
       "\n",
       "    .dataframe thead th {\n",
       "        text-align: right;\n",
       "    }\n",
       "</style>\n",
       "<table border=\"1\" class=\"dataframe\">\n",
       "  <thead>\n",
       "    <tr style=\"text-align: right;\">\n",
       "      <th></th>\n",
       "      <th>month</th>\n",
       "      <th>total_rainfall</th>\n",
       "      <th>no_of_rainy_days</th>\n",
       "      <th>maximum_rainfall_in_a_day</th>\n",
       "      <th>mean_temp</th>\n",
       "      <th>mean_rh</th>\n",
       "      <th>date</th>\n",
       "      <th>year</th>\n",
       "      <th>season</th>\n",
       "      <th>decade</th>\n",
       "    </tr>\n",
       "  </thead>\n",
       "  <tbody>\n",
       "    <tr>\n",
       "      <th>0</th>\n",
       "      <td>1</td>\n",
       "      <td>107.1</td>\n",
       "      <td>10</td>\n",
       "      <td>36.5</td>\n",
       "      <td>25.9</td>\n",
       "      <td>81.2</td>\n",
       "      <td>1982-01-01</td>\n",
       "      <td>1982</td>\n",
       "      <td>Northeast Monsoon (Dec-Feb)</td>\n",
       "      <td>80s</td>\n",
       "    </tr>\n",
       "    <tr>\n",
       "      <th>1</th>\n",
       "      <td>2</td>\n",
       "      <td>27.8</td>\n",
       "      <td>5</td>\n",
       "      <td>9.4</td>\n",
       "      <td>27.1</td>\n",
       "      <td>79.5</td>\n",
       "      <td>1982-02-01</td>\n",
       "      <td>1982</td>\n",
       "      <td>Northeast Monsoon (Dec-Feb)</td>\n",
       "      <td>80s</td>\n",
       "    </tr>\n",
       "    <tr>\n",
       "      <th>2</th>\n",
       "      <td>3</td>\n",
       "      <td>160.8</td>\n",
       "      <td>11</td>\n",
       "      <td>61.7</td>\n",
       "      <td>27.2</td>\n",
       "      <td>82.3</td>\n",
       "      <td>1982-03-01</td>\n",
       "      <td>1982</td>\n",
       "      <td>Inter-monsoon (Mar-May)</td>\n",
       "      <td>80s</td>\n",
       "    </tr>\n",
       "    <tr>\n",
       "      <th>3</th>\n",
       "      <td>4</td>\n",
       "      <td>157.0</td>\n",
       "      <td>14</td>\n",
       "      <td>45.1</td>\n",
       "      <td>27.0</td>\n",
       "      <td>85.9</td>\n",
       "      <td>1982-04-01</td>\n",
       "      <td>1982</td>\n",
       "      <td>Inter-monsoon (Mar-May)</td>\n",
       "      <td>80s</td>\n",
       "    </tr>\n",
       "    <tr>\n",
       "      <th>4</th>\n",
       "      <td>5</td>\n",
       "      <td>102.2</td>\n",
       "      <td>10</td>\n",
       "      <td>33.0</td>\n",
       "      <td>28.0</td>\n",
       "      <td>83.2</td>\n",
       "      <td>1982-05-01</td>\n",
       "      <td>1982</td>\n",
       "      <td>Inter-monsoon (Mar-May)</td>\n",
       "      <td>80s</td>\n",
       "    </tr>\n",
       "  </tbody>\n",
       "</table>\n",
       "</div>"
      ],
      "text/plain": [
       "   month  total_rainfall  no_of_rainy_days  maximum_rainfall_in_a_day  \\\n",
       "0      1           107.1                10                       36.5   \n",
       "1      2            27.8                 5                        9.4   \n",
       "2      3           160.8                11                       61.7   \n",
       "3      4           157.0                14                       45.1   \n",
       "4      5           102.2                10                       33.0   \n",
       "\n",
       "   mean_temp  mean_rh       date  year                       season decade  \n",
       "0       25.9     81.2 1982-01-01  1982  Northeast Monsoon (Dec-Feb)    80s  \n",
       "1       27.1     79.5 1982-02-01  1982  Northeast Monsoon (Dec-Feb)    80s  \n",
       "2       27.2     82.3 1982-03-01  1982      Inter-monsoon (Mar-May)    80s  \n",
       "3       27.0     85.9 1982-04-01  1982      Inter-monsoon (Mar-May)    80s  \n",
       "4       28.0     83.2 1982-05-01  1982      Inter-monsoon (Mar-May)    80s  "
      ]
     },
     "execution_count": 434,
     "metadata": {},
     "output_type": "execute_result"
    }
   ],
   "source": [
    "merged_df.head()"
   ]
  },
  {
   "cell_type": "markdown",
   "metadata": {
    "tags": []
   },
   "source": [
    "#### Rename and rearrange \n",
    "1. Rename long table names\n",
    "2. Rearrange columns for easy analysis"
   ]
  },
  {
   "cell_type": "code",
   "execution_count": 437,
   "metadata": {},
   "outputs": [],
   "source": [
    "# rename the columns\n",
    "new_columns_dict = {\n",
    "    'maximum_rainfall_in_a_day': 'daily_max_rainfall',\n",
    "    'no_of_rainy_days': 'rainy_days',\n",
    "}\n",
    "\n",
    "# assign new column names\n",
    "merged_df.rename(columns = new_columns_dict, inplace=True) "
   ]
  },
  {
   "cell_type": "code",
   "execution_count": 438,
   "metadata": {},
   "outputs": [],
   "source": [
    "merged_df_columns = ['date', 'year', 'month', 'decade', 'season', 'total_rainfall', 'rainy_days', 'daily_max_rainfall', \n",
    "                     'mean_temp', 'mean_rh',]\n",
    "\n",
    "merged_df = merged_df[merged_df_columns]"
   ]
  },
  {
   "cell_type": "markdown",
   "metadata": {
    "tags": []
   },
   "source": [
    "#### export the merged data into a .csv file"
   ]
  },
  {
   "cell_type": "code",
   "execution_count": 439,
   "metadata": {},
   "outputs": [],
   "source": [
    "merged_df.to_csv('../data/merged_data.csv')"
   ]
  },
  {
   "cell_type": "markdown",
   "metadata": {
    "jp-MarkdownHeadingCollapsed": true,
    "tags": []
   },
   "source": [
    "### Data Dictionary\n",
    "\n",
    "Now that we've fixed our data, and given it appropriate names, let's create a [data dictionary](http://library.ucmerced.edu/node/10249). \n",
    "\n",
    "A data dictionary provides a quick overview of features/variables/columns, alongside data types and descriptions. The more descriptive you can be, the more useful this document is.\n",
    "\n",
    "Example of a Fictional Data Dictionary Entry: \n",
    "\n",
    "|Feature|Type|Dataset|Description|\n",
    "|---|---|---|---|\n",
    "|**county_pop**|*integer*|2010 census|The population of the county (units in thousands, where 2.5 represents 2500 people).| \n",
    "|**per_poverty**|*float*|2010 census|The percent of the county over the age of 18 living below the 200% of official US poverty rate (units percent to two decimal places 98.10 means 98.1%)|\n",
    "\n",
    "[Here's a quick link to a short guide for formatting markdown in Jupyter notebooks](https://jupyter-notebook.readthedocs.io/en/stable/examples/Notebook/Working%20With%20Markdown%20Cells.html).\n",
    "\n",
    "Provided is the skeleton for formatting a markdown table, with columns headers that will help you create a data dictionary to quickly summarize your data, as well as some examples. **This would be a great thing to copy and paste into your custom README for this project.**\n",
    "\n",
    "*Note*: if you are unsure of what a feature is, check the source of the data! This can be found in the README."
   ]
  },
  {
   "cell_type": "markdown",
   "metadata": {},
   "source": [
    "**To-Do:** *Edit the table below to create your own data dictionary for the datasets you chose.*\n",
    "\n",
    "All datasets were obtained from [data.gov.sg](https://data.gov.sg). Values were measured and recorded at the Changi Climate Station\n",
    "1. [total amount of rainfall of the month](https://data.gov.sg/dataset/rainfall-monthly-total)\n",
    "2. [monthly maximum daily total rainfall](https://data.gov.sg/dataset/rainfall-monthly-maximum-daily-total)\n",
    "3. [number of rainy days](https://data.gov.sg/dataset/rainfall-monthly-number-of-rain-days)\n",
    "4. [monthly mean temp](https://data.gov.sg/dataset/surface-air-temperature-monthly-mean)\n",
    "5. [monthly relative humidity](https://data.gov.sg/dataset/relative-humidity-monthly-mean)\n",
    "\n",
    "|Feature|Type|Dataset|Description|\n",
    "|---|---|---|---|\n",
    "|date|datetime|all datasets|Jan 1982 - Aug 2022 (datasets #1 & #3), Jan 1982 - Oct 2022 (datasets #2 & #5), Jan 1982 - Nov 2022 (dataset #4)\n",
    "|year|integer|all datasets|1982 - 2022\n",
    "|month|integer|all datasets|Jan - Dec, represented by 01 - 12 respectively\n",
    "|decade|obj|merged_df|80s to 2020s\n",
    "|season|obj|merged_df|Northeast Monsoon (Dec-Feb), Southwest Monsoon (Jun-Sept), Inter-monsoon (Oct-Nov), Inter-monsoon (May-Mar)\n",
    "|total rainfall|float|rainfall-monthly-total|the total monthly rainfall, recorded in millimetre| \n",
    "|maximum daily rainfall|float|rainfall-monthly-highest-daily-total|the highest daily total rainfall for the month in millimetre| \n",
    "|number of rainy days|int|rainfall-monthly-number-of-rain-days|the number of rain days (day with rainfall amount of 0.2mm or more) in a month| \n",
    "|mean daily surface air temperature|float|relative-humidity-monthly-mean|in Degree Celsius|\n",
    "|monthly relative humidity|float|relative_humidity-monthly-mean|Percentages, expressed as a value over 100, i.e. \"100\" represents 100%|\n"
   ]
  },
  {
   "cell_type": "markdown",
   "metadata": {},
   "source": [
    "## Exploratory Data Analysis\n",
    "\n",
    "Complete the following steps to explore your data. You are welcome to do more EDA than the steps outlined here as you feel necessary:\n",
    "1. Summary Statistics.\n",
    "2. Use a **dictionary comprehension** to apply the standard deviation function you create in part 1 to each numeric column in the dataframe.  **No loops**.\n",
    "    - Assign the output to variable `sd` as a dictionary where: \n",
    "        - Each column name is now a key \n",
    "        - That standard deviation of the column is the value \n",
    "        - *Example Output :* `{'rainfall-monthly-total': xxx, 'no_of_rainy_days': xxx, ...}`\n",
    "3. Investigate trends in the data.\n",
    "    - Using sorting and/or masking (along with the `.head()` method to avoid printing our entire dataframe), consider questions relevant to your problem statement. Some examples are provided below (but feel free to change these questions for your specific problem):\n",
    "        - Which month have the highest and lowest total rainfall in 1990, 2000, 2010 and 2020?\n",
    "        - Which year have the highest and lowest total rainfall in the date range of analysis?\n",
    "        - Which month have the highest and lowest number of rainy days in 1990, 2000, 2010 and 2020?\n",
    "        - Which year have the highest and lowest number of rainy days in the date range of analysis?\n",
    "        - Are there any outliers months in the dataset?\n",
    "       \n",
    "    - **The above 5 questions are compulsory. Feel free to explore other trends based on the datasets that you have choosen for analysis. You should comment on your findings at each step in a markdown cell below your code block**. Make sure you include at least one example of sorting your dataframe by a column, and one example of using boolean filtering (i.e., masking) to select a subset of the dataframe."
   ]
  },
  {
   "cell_type": "code",
   "execution_count": null,
   "metadata": {},
   "outputs": [],
   "source": [
    "# Q1: A quick summary statistics of the dataset"
   ]
  },
  {
   "cell_type": "code",
   "execution_count": 219,
   "metadata": {
    "tags": []
   },
   "outputs": [
    {
     "data": {
      "text/html": [
       "<div>\n",
       "<style scoped>\n",
       "    .dataframe tbody tr th:only-of-type {\n",
       "        vertical-align: middle;\n",
       "    }\n",
       "\n",
       "    .dataframe tbody tr th {\n",
       "        vertical-align: top;\n",
       "    }\n",
       "\n",
       "    .dataframe thead th {\n",
       "        text-align: right;\n",
       "    }\n",
       "</style>\n",
       "<table border=\"1\" class=\"dataframe\">\n",
       "  <thead>\n",
       "    <tr style=\"text-align: right;\">\n",
       "      <th></th>\n",
       "      <th>total_rainfall</th>\n",
       "      <th>rainy_days</th>\n",
       "      <th>max_rainfall</th>\n",
       "    </tr>\n",
       "  </thead>\n",
       "  <tbody>\n",
       "    <tr>\n",
       "      <th>count</th>\n",
       "      <td>488.000000</td>\n",
       "      <td>488.000000</td>\n",
       "      <td>488.000000</td>\n",
       "    </tr>\n",
       "    <tr>\n",
       "      <th>mean</th>\n",
       "      <td>177.163730</td>\n",
       "      <td>14.061475</td>\n",
       "      <td>52.332172</td>\n",
       "    </tr>\n",
       "    <tr>\n",
       "      <th>std</th>\n",
       "      <td>113.916029</td>\n",
       "      <td>4.947394</td>\n",
       "      <td>35.746423</td>\n",
       "    </tr>\n",
       "    <tr>\n",
       "      <th>min</th>\n",
       "      <td>0.200000</td>\n",
       "      <td>1.000000</td>\n",
       "      <td>0.200000</td>\n",
       "    </tr>\n",
       "    <tr>\n",
       "      <th>25%</th>\n",
       "      <td>93.850000</td>\n",
       "      <td>11.000000</td>\n",
       "      <td>30.675000</td>\n",
       "    </tr>\n",
       "    <tr>\n",
       "      <th>50%</th>\n",
       "      <td>159.450000</td>\n",
       "      <td>14.000000</td>\n",
       "      <td>43.900000</td>\n",
       "    </tr>\n",
       "    <tr>\n",
       "      <th>75%</th>\n",
       "      <td>238.075000</td>\n",
       "      <td>18.000000</td>\n",
       "      <td>63.050000</td>\n",
       "    </tr>\n",
       "    <tr>\n",
       "      <th>max</th>\n",
       "      <td>765.900000</td>\n",
       "      <td>27.000000</td>\n",
       "      <td>216.200000</td>\n",
       "    </tr>\n",
       "  </tbody>\n",
       "</table>\n",
       "</div>"
      ],
      "text/plain": [
       "       total_rainfall  rainy_days  max_rainfall\n",
       "count      488.000000  488.000000    488.000000\n",
       "mean       177.163730   14.061475     52.332172\n",
       "std        113.916029    4.947394     35.746423\n",
       "min          0.200000    1.000000      0.200000\n",
       "25%         93.850000   11.000000     30.675000\n",
       "50%        159.450000   14.000000     43.900000\n",
       "75%        238.075000   18.000000     63.050000\n",
       "max        765.900000   27.000000    216.200000"
      ]
     },
     "execution_count": 219,
     "metadata": {},
     "output_type": "execute_result"
    }
   ],
   "source": [
    "merged_df.describe()"
   ]
  },
  {
   "cell_type": "code",
   "execution_count": 409,
   "metadata": {},
   "outputs": [
    {
     "name": "stdout",
     "output_type": "stream",
     "text": [
      "{}\n"
     ]
    }
   ],
   "source": [
    "# dictionary comprehension for the standard deviation function created in part 1\n",
    "# select column types of int and float only(merged_df[col].dtype=='int64')\n",
    "# check how to get the keys within cols, so it is not a string!!!!\n",
    "\n",
    "# Q2: Use a dictionary comprehension to apply the standard deviation function you create in part 1 to each numeric column in the dataframe\n",
    "sd_df = {col: calculate_sd(col) for col in merged_df.columns if (type(col)=='float64')}\n",
    "print (sd_df)"
   ]
  },
  {
   "cell_type": "code",
   "execution_count": 243,
   "metadata": {
    "collapsed": true,
    "jupyter": {
     "outputs_hidden": true
    },
    "tags": []
   },
   "outputs": [
    {
     "name": "stdout",
     "output_type": "stream",
     "text": [
      "<class 'str'>\n",
      "<class 'str'>\n",
      "<class 'str'>\n",
      "<class 'str'>\n",
      "<class 'str'>\n",
      "<class 'str'>\n"
     ]
    }
   ],
   "source": [
    "for col in merged_df.columns:\n",
    "    print(type(col))"
   ]
  },
  {
   "cell_type": "code",
   "execution_count": null,
   "metadata": {},
   "outputs": [],
   "source": [
    "# Q3(a): Which month have the highest and lowest total rainfall in 1990, 2000, 2010 and 2020?"
   ]
  },
  {
   "cell_type": "code",
   "execution_count": 252,
   "metadata": {
    "collapsed": true,
    "jupyter": {
     "outputs_hidden": true
    },
    "scrolled": true,
    "tags": []
   },
   "outputs": [
    {
     "data": {
      "text/plain": [
       "year\n",
       "1982    494.1\n",
       "1983    370.6\n",
       "1984    470.4\n",
       "1985    340.1\n",
       "1986    396.0\n",
       "1987    568.6\n",
       "1988    440.4\n",
       "1989    508.4\n",
       "1990    204.5\n",
       "1991    492.3\n",
       "1992    502.7\n",
       "1993    308.5\n",
       "1994    425.4\n",
       "1995    372.8\n",
       "1996    300.0\n",
       "1997    351.9\n",
       "1998    463.4\n",
       "1999    340.5\n",
       "2000    385.7\n",
       "2001    609.0\n",
       "2002    307.2\n",
       "2003    444.2\n",
       "2004    600.9\n",
       "2005    362.9\n",
       "2006    765.9\n",
       "2007    468.6\n",
       "2008    327.3\n",
       "2009    281.8\n",
       "2010    298.5\n",
       "2011    513.2\n",
       "2012    363.4\n",
       "2013    395.2\n",
       "2014    250.8\n",
       "2015    302.3\n",
       "2016    292.6\n",
       "2017    371.2\n",
       "2018    287.0\n",
       "2019    421.5\n",
       "2020    255.6\n",
       "2021    692.8\n",
       "2022    239.6\n",
       "Name: total_rainfall, dtype: float64"
      ]
     },
     "execution_count": 252,
     "metadata": {},
     "output_type": "execute_result"
    }
   ],
   "source": [
    "# find highest total rainfall in 1990, 2000, 2010, 2020\n",
    "merged_df.groupby('year')['total_rainfall'].max()\n",
    "'''\n",
    "Answers:\n",
    "1990 : 204.5mm\n",
    "2000 : 385.7mm\n",
    "2010 : 298.5mm\n",
    "2020 : 255.6mm\n",
    "'''"
   ]
  },
  {
   "cell_type": "code",
   "execution_count": 253,
   "metadata": {
    "collapsed": true,
    "jupyter": {
     "outputs_hidden": true
    },
    "scrolled": true,
    "tags": []
   },
   "outputs": [
    {
     "data": {
      "text/plain": [
       "year\n",
       "1982     27.8\n",
       "1983      5.6\n",
       "1984    102.7\n",
       "1985     37.0\n",
       "1986     26.7\n",
       "1987     22.6\n",
       "1988     62.9\n",
       "1989     52.4\n",
       "1990     24.1\n",
       "1991     37.3\n",
       "1992     62.4\n",
       "1993     61.7\n",
       "1994     23.7\n",
       "1995     29.5\n",
       "1996    107.5\n",
       "1997     15.4\n",
       "1998     32.5\n",
       "1999     67.4\n",
       "2000     81.1\n",
       "2001     86.6\n",
       "2002     10.8\n",
       "2003     50.3\n",
       "2004     31.9\n",
       "2005      8.4\n",
       "2006     83.1\n",
       "2007    105.5\n",
       "2008     87.2\n",
       "2009     21.8\n",
       "2010      6.3\n",
       "2011     23.0\n",
       "2012     53.0\n",
       "2013     85.8\n",
       "2014      0.2\n",
       "2015     18.8\n",
       "2016      6.2\n",
       "2017     79.6\n",
       "2018     14.8\n",
       "2019     11.8\n",
       "2020     65.0\n",
       "2021      1.0\n",
       "2022     99.8\n",
       "Name: total_rainfall, dtype: float64"
      ]
     },
     "execution_count": 253,
     "metadata": {},
     "output_type": "execute_result"
    }
   ],
   "source": [
    "# find lowest total rainfall in 1990, 2000, 2010, 2020\n",
    "merged_df.groupby('year')['total_rainfall'].min()\n",
    "'''\n",
    "Answers:\n",
    "1990 : 24.1mm\n",
    "2000 : 81.1mm\n",
    "2010 : 23.0mm\n",
    "2020 : 65.0mm\n",
    "'''"
   ]
  },
  {
   "cell_type": "code",
   "execution_count": 271,
   "metadata": {},
   "outputs": [
    {
     "data": {
      "text/html": [
       "<div>\n",
       "<style scoped>\n",
       "    .dataframe tbody tr th:only-of-type {\n",
       "        vertical-align: middle;\n",
       "    }\n",
       "\n",
       "    .dataframe tbody tr th {\n",
       "        vertical-align: top;\n",
       "    }\n",
       "\n",
       "    .dataframe thead th {\n",
       "        text-align: right;\n",
       "    }\n",
       "</style>\n",
       "<table border=\"1\" class=\"dataframe\">\n",
       "  <thead>\n",
       "    <tr style=\"text-align: right;\">\n",
       "      <th></th>\n",
       "      <th>year</th>\n",
       "      <th>month</th>\n",
       "      <th>date</th>\n",
       "      <th>total_rainfall</th>\n",
       "      <th>rainy_days</th>\n",
       "      <th>max_rainfall</th>\n",
       "    </tr>\n",
       "  </thead>\n",
       "  <tbody>\n",
       "    <tr>\n",
       "      <th>299</th>\n",
       "      <td>2006</td>\n",
       "      <td>12</td>\n",
       "      <td>2006-12-01</td>\n",
       "      <td>765.9</td>\n",
       "      <td>22</td>\n",
       "      <td>198.0</td>\n",
       "    </tr>\n",
       "  </tbody>\n",
       "</table>\n",
       "</div>"
      ],
      "text/plain": [
       "     year month       date  total_rainfall  rainy_days  max_rainfall\n",
       "299  2006    12 2006-12-01           765.9          22         198.0"
      ]
     },
     "execution_count": 271,
     "metadata": {},
     "output_type": "execute_result"
    }
   ],
   "source": [
    "# Q3(b): Which year have the highest total rainfall in the date range of analysis?\n",
    "merged_df.nlargest(1, columns = 'total_rainfall')\n",
    "\n",
    "# 2006 has the highest total rainfall, with a total of 765.9mm"
   ]
  },
  {
   "cell_type": "code",
   "execution_count": 272,
   "metadata": {},
   "outputs": [
    {
     "data": {
      "text/html": [
       "<div>\n",
       "<style scoped>\n",
       "    .dataframe tbody tr th:only-of-type {\n",
       "        vertical-align: middle;\n",
       "    }\n",
       "\n",
       "    .dataframe tbody tr th {\n",
       "        vertical-align: top;\n",
       "    }\n",
       "\n",
       "    .dataframe thead th {\n",
       "        text-align: right;\n",
       "    }\n",
       "</style>\n",
       "<table border=\"1\" class=\"dataframe\">\n",
       "  <thead>\n",
       "    <tr style=\"text-align: right;\">\n",
       "      <th></th>\n",
       "      <th>year</th>\n",
       "      <th>month</th>\n",
       "      <th>date</th>\n",
       "      <th>total_rainfall</th>\n",
       "      <th>rainy_days</th>\n",
       "      <th>max_rainfall</th>\n",
       "    </tr>\n",
       "  </thead>\n",
       "  <tbody>\n",
       "    <tr>\n",
       "      <th>385</th>\n",
       "      <td>2014</td>\n",
       "      <td>02</td>\n",
       "      <td>2014-02-01</td>\n",
       "      <td>0.2</td>\n",
       "      <td>1</td>\n",
       "      <td>0.2</td>\n",
       "    </tr>\n",
       "  </tbody>\n",
       "</table>\n",
       "</div>"
      ],
      "text/plain": [
       "     year month       date  total_rainfall  rainy_days  max_rainfall\n",
       "385  2014    02 2014-02-01             0.2           1           0.2"
      ]
     },
     "execution_count": 272,
     "metadata": {},
     "output_type": "execute_result"
    }
   ],
   "source": [
    "# Q3(b): Which year have the lowest total rainfall in the date range of analysis?\n",
    "merged_df.nsmallest(1, columns = 'total_rainfall')\n",
    "\n",
    "# 2014 has the lowest total rainfall, only a total of 0.2 mm"
   ]
  },
  {
   "cell_type": "markdown",
   "metadata": {},
   "source": [
    "**To-Do:** *Edit this cell with your findings on trends in the data (step 3 above).*"
   ]
  },
  {
   "cell_type": "code",
   "execution_count": 276,
   "metadata": {},
   "outputs": [],
   "source": [
    "# Q4: Are there any outliers months in the dataset?\n",
    "# this is an IQR question"
   ]
  },
  {
   "cell_type": "code",
   "execution_count": 283,
   "metadata": {},
   "outputs": [
    {
     "data": {
      "text/html": [
       "<div>\n",
       "<style scoped>\n",
       "    .dataframe tbody tr th:only-of-type {\n",
       "        vertical-align: middle;\n",
       "    }\n",
       "\n",
       "    .dataframe tbody tr th {\n",
       "        vertical-align: top;\n",
       "    }\n",
       "\n",
       "    .dataframe thead th {\n",
       "        text-align: right;\n",
       "    }\n",
       "</style>\n",
       "<table border=\"1\" class=\"dataframe\">\n",
       "  <thead>\n",
       "    <tr style=\"text-align: right;\">\n",
       "      <th></th>\n",
       "      <th>total_rainfall</th>\n",
       "      <th>rainy_days</th>\n",
       "      <th>max_rainfall</th>\n",
       "    </tr>\n",
       "  </thead>\n",
       "  <tbody>\n",
       "    <tr>\n",
       "      <th>count</th>\n",
       "      <td>488.000000</td>\n",
       "      <td>488.000000</td>\n",
       "      <td>488.000000</td>\n",
       "    </tr>\n",
       "    <tr>\n",
       "      <th>mean</th>\n",
       "      <td>177.163730</td>\n",
       "      <td>14.061475</td>\n",
       "      <td>52.332172</td>\n",
       "    </tr>\n",
       "    <tr>\n",
       "      <th>std</th>\n",
       "      <td>113.916029</td>\n",
       "      <td>4.947394</td>\n",
       "      <td>35.746423</td>\n",
       "    </tr>\n",
       "    <tr>\n",
       "      <th>min</th>\n",
       "      <td>0.200000</td>\n",
       "      <td>1.000000</td>\n",
       "      <td>0.200000</td>\n",
       "    </tr>\n",
       "    <tr>\n",
       "      <th>25%</th>\n",
       "      <td>93.850000</td>\n",
       "      <td>11.000000</td>\n",
       "      <td>30.675000</td>\n",
       "    </tr>\n",
       "    <tr>\n",
       "      <th>50%</th>\n",
       "      <td>159.450000</td>\n",
       "      <td>14.000000</td>\n",
       "      <td>43.900000</td>\n",
       "    </tr>\n",
       "    <tr>\n",
       "      <th>75%</th>\n",
       "      <td>238.075000</td>\n",
       "      <td>18.000000</td>\n",
       "      <td>63.050000</td>\n",
       "    </tr>\n",
       "    <tr>\n",
       "      <th>max</th>\n",
       "      <td>765.900000</td>\n",
       "      <td>27.000000</td>\n",
       "      <td>216.200000</td>\n",
       "    </tr>\n",
       "  </tbody>\n",
       "</table>\n",
       "</div>"
      ],
      "text/plain": [
       "       total_rainfall  rainy_days  max_rainfall\n",
       "count      488.000000  488.000000    488.000000\n",
       "mean       177.163730   14.061475     52.332172\n",
       "std        113.916029    4.947394     35.746423\n",
       "min          0.200000    1.000000      0.200000\n",
       "25%         93.850000   11.000000     30.675000\n",
       "50%        159.450000   14.000000     43.900000\n",
       "75%        238.075000   18.000000     63.050000\n",
       "max        765.900000   27.000000    216.200000"
      ]
     },
     "execution_count": 283,
     "metadata": {},
     "output_type": "execute_result"
    }
   ],
   "source": [
    "merged_df.describe()"
   ]
  },
  {
   "cell_type": "code",
   "execution_count": 290,
   "metadata": {},
   "outputs": [
    {
     "data": {
      "text/plain": [
       "<AxesSubplot: >"
      ]
     },
     "execution_count": 290,
     "metadata": {},
     "output_type": "execute_result"
    },
    {
     "data": {
      "image/png": "[encoded data removed]",
      "text/plain": [
       "<Figure size 640x480 with 1 Axes>"
      ]
     },
     "metadata": {},
     "output_type": "display_data"
    }
   ],
   "source": [
    "# preliminary exploration of outliers\n",
    "\n",
    "sns.boxplot(merged_df['total_rainfall'], orient='h') \n",
    "# yes, there are some outliers above the upper bound. "
   ]
  },
  {
   "cell_type": "code",
   "execution_count": 293,
   "metadata": {},
   "outputs": [
    {
     "name": "stdout",
     "output_type": "stream",
     "text": [
      "144.225\n"
     ]
    }
   ],
   "source": [
    "# calculate total_rainfall IQR\n",
    "q1_total_rainfall = 93.85\n",
    "q3_total_rainfall = 238.075\n",
    "\n",
    "IQR = q3_total_rainfall - q1_total_rainfall\n",
    "print(IQR)"
   ]
  },
  {
   "cell_type": "code",
   "execution_count": 310,
   "metadata": {},
   "outputs": [
    {
     "name": "stdout",
     "output_type": "stream",
     "text": [
      " Upper bound: 454.41249999999997\n"
     ]
    }
   ],
   "source": [
    "# find the upper bound value \n",
    "right_quartile = q3_total_rainfall + (1.5*IQR)\n",
    "print(f' Upper bound: {right_quartile}')"
   ]
  },
  {
   "cell_type": "code",
   "execution_count": 308,
   "metadata": {},
   "outputs": [
    {
     "data": {
      "text/html": [
       "<div>\n",
       "<style scoped>\n",
       "    .dataframe tbody tr th:only-of-type {\n",
       "        vertical-align: middle;\n",
       "    }\n",
       "\n",
       "    .dataframe tbody tr th {\n",
       "        vertical-align: top;\n",
       "    }\n",
       "\n",
       "    .dataframe thead th {\n",
       "        text-align: right;\n",
       "    }\n",
       "</style>\n",
       "<table border=\"1\" class=\"dataframe\">\n",
       "  <thead>\n",
       "    <tr style=\"text-align: right;\">\n",
       "      <th></th>\n",
       "      <th>year</th>\n",
       "      <th>month</th>\n",
       "      <th>date</th>\n",
       "      <th>total_rainfall</th>\n",
       "      <th>rainy_days</th>\n",
       "      <th>max_rainfall</th>\n",
       "    </tr>\n",
       "  </thead>\n",
       "  <tbody>\n",
       "    <tr>\n",
       "      <th>11</th>\n",
       "      <td>1982</td>\n",
       "      <td>12</td>\n",
       "      <td>1982-12-01</td>\n",
       "      <td>494.1</td>\n",
       "      <td>21</td>\n",
       "      <td>109.0</td>\n",
       "    </tr>\n",
       "    <tr>\n",
       "      <th>25</th>\n",
       "      <td>1984</td>\n",
       "      <td>02</td>\n",
       "      <td>1984-02-01</td>\n",
       "      <td>470.4</td>\n",
       "      <td>19</td>\n",
       "      <td>154.4</td>\n",
       "    </tr>\n",
       "    <tr>\n",
       "      <th>60</th>\n",
       "      <td>1987</td>\n",
       "      <td>01</td>\n",
       "      <td>1987-01-01</td>\n",
       "      <td>568.6</td>\n",
       "      <td>16</td>\n",
       "      <td>127.4</td>\n",
       "    </tr>\n",
       "    <tr>\n",
       "      <th>94</th>\n",
       "      <td>1989</td>\n",
       "      <td>11</td>\n",
       "      <td>1989-11-01</td>\n",
       "      <td>508.4</td>\n",
       "      <td>20</td>\n",
       "      <td>148.6</td>\n",
       "    </tr>\n",
       "    <tr>\n",
       "      <th>119</th>\n",
       "      <td>1991</td>\n",
       "      <td>12</td>\n",
       "      <td>1991-12-01</td>\n",
       "      <td>492.3</td>\n",
       "      <td>19</td>\n",
       "      <td>79.4</td>\n",
       "    </tr>\n",
       "    <tr>\n",
       "      <th>130</th>\n",
       "      <td>1992</td>\n",
       "      <td>11</td>\n",
       "      <td>1992-11-01</td>\n",
       "      <td>474.3</td>\n",
       "      <td>18</td>\n",
       "      <td>120.6</td>\n",
       "    </tr>\n",
       "    <tr>\n",
       "      <th>131</th>\n",
       "      <td>1992</td>\n",
       "      <td>12</td>\n",
       "      <td>1992-12-01</td>\n",
       "      <td>502.7</td>\n",
       "      <td>23</td>\n",
       "      <td>105.7</td>\n",
       "    </tr>\n",
       "    <tr>\n",
       "      <th>203</th>\n",
       "      <td>1998</td>\n",
       "      <td>12</td>\n",
       "      <td>1998-12-01</td>\n",
       "      <td>463.4</td>\n",
       "      <td>22</td>\n",
       "      <td>84.4</td>\n",
       "    </tr>\n",
       "    <tr>\n",
       "      <th>239</th>\n",
       "      <td>2001</td>\n",
       "      <td>12</td>\n",
       "      <td>2001-12-01</td>\n",
       "      <td>609.0</td>\n",
       "      <td>20</td>\n",
       "      <td>211.1</td>\n",
       "    </tr>\n",
       "    <tr>\n",
       "      <th>264</th>\n",
       "      <td>2004</td>\n",
       "      <td>01</td>\n",
       "      <td>2004-01-01</td>\n",
       "      <td>600.9</td>\n",
       "      <td>13</td>\n",
       "      <td>177.8</td>\n",
       "    </tr>\n",
       "    <tr>\n",
       "      <th>299</th>\n",
       "      <td>2006</td>\n",
       "      <td>12</td>\n",
       "      <td>2006-12-01</td>\n",
       "      <td>765.9</td>\n",
       "      <td>22</td>\n",
       "      <td>198.0</td>\n",
       "    </tr>\n",
       "    <tr>\n",
       "      <th>311</th>\n",
       "      <td>2007</td>\n",
       "      <td>12</td>\n",
       "      <td>2007-12-01</td>\n",
       "      <td>468.6</td>\n",
       "      <td>20</td>\n",
       "      <td>159.0</td>\n",
       "    </tr>\n",
       "    <tr>\n",
       "      <th>348</th>\n",
       "      <td>2011</td>\n",
       "      <td>01</td>\n",
       "      <td>2011-01-01</td>\n",
       "      <td>513.2</td>\n",
       "      <td>17</td>\n",
       "      <td>216.2</td>\n",
       "    </tr>\n",
       "    <tr>\n",
       "      <th>468</th>\n",
       "      <td>2021</td>\n",
       "      <td>01</td>\n",
       "      <td>2021-01-01</td>\n",
       "      <td>692.8</td>\n",
       "      <td>17</td>\n",
       "      <td>210.6</td>\n",
       "    </tr>\n",
       "  </tbody>\n",
       "</table>\n",
       "</div>"
      ],
      "text/plain": [
       "     year month       date  total_rainfall  rainy_days  max_rainfall\n",
       "11   1982    12 1982-12-01           494.1          21         109.0\n",
       "25   1984    02 1984-02-01           470.4          19         154.4\n",
       "60   1987    01 1987-01-01           568.6          16         127.4\n",
       "94   1989    11 1989-11-01           508.4          20         148.6\n",
       "119  1991    12 1991-12-01           492.3          19          79.4\n",
       "130  1992    11 1992-11-01           474.3          18         120.6\n",
       "131  1992    12 1992-12-01           502.7          23         105.7\n",
       "203  1998    12 1998-12-01           463.4          22          84.4\n",
       "239  2001    12 2001-12-01           609.0          20         211.1\n",
       "264  2004    01 2004-01-01           600.9          13         177.8\n",
       "299  2006    12 2006-12-01           765.9          22         198.0\n",
       "311  2007    12 2007-12-01           468.6          20         159.0\n",
       "348  2011    01 2011-01-01           513.2          17         216.2\n",
       "468  2021    01 2021-01-01           692.8          17         210.6"
      ]
     },
     "execution_count": 308,
     "metadata": {},
     "output_type": "execute_result"
    }
   ],
   "source": [
    "# find out the outlier months of total_rainfall\n",
    "merged_df.loc[merged_df['total_rainfall'] > 460]\n",
    "\n",
    "# looks like most of the outliers happened during the months of Dec and Jan"
   ]
  },
  {
   "cell_type": "code",
   "execution_count": 286,
   "metadata": {},
   "outputs": [
    {
     "data": {
      "text/plain": [
       "<AxesSubplot: >"
      ]
     },
     "execution_count": 286,
     "metadata": {},
     "output_type": "execute_result"
    },
    {
     "data": {
      "image/png": "[encoded data removed]",
      "text/plain": [
       "<Figure size 640x480 with 1 Axes>"
      ]
     },
     "metadata": {},
     "output_type": "display_data"
    }
   ],
   "source": [
    "# find out if max_rainfall has outliers\n",
    "sns.boxplot(merged_df['max_rainfall'], orient='h') "
   ]
  },
  {
   "cell_type": "code",
   "execution_count": 309,
   "metadata": {},
   "outputs": [
    {
     "name": "stdout",
     "output_type": "stream",
     "text": [
      "32.375\n"
     ]
    }
   ],
   "source": [
    "# looks like max_rainfall has some outliers too - lets get the upper bound of max_rainfall to get the months\n",
    "# calculate max_rainfall IQR\n",
    "q1_max_rainfall = 30.675\n",
    "q3_max_rainfall = 63.05\n",
    "\n",
    "IQR_max_rainfall = q3_max_rainfall - q1_max_rainfall\n",
    "print(IQR_max_rainfall)"
   ]
  },
  {
   "cell_type": "code",
   "execution_count": 311,
   "metadata": {},
   "outputs": [
    {
     "name": "stdout",
     "output_type": "stream",
     "text": [
      " Upper bound: 111.6125\n"
     ]
    }
   ],
   "source": [
    "# find the upper bound value \n",
    "right_quartile_max_rainfall = q3_max_rainfall + (1.5*IQR_max_rainfall)\n",
    "print(f' Upper bound: {right_quartile_max_rainfall}')"
   ]
  },
  {
   "cell_type": "code",
   "execution_count": 314,
   "metadata": {
    "collapsed": true,
    "jupyter": {
     "outputs_hidden": true
    },
    "tags": []
   },
   "outputs": [
    {
     "data": {
      "text/html": [
       "<div>\n",
       "<style scoped>\n",
       "    .dataframe tbody tr th:only-of-type {\n",
       "        vertical-align: middle;\n",
       "    }\n",
       "\n",
       "    .dataframe tbody tr th {\n",
       "        vertical-align: top;\n",
       "    }\n",
       "\n",
       "    .dataframe thead th {\n",
       "        text-align: right;\n",
       "    }\n",
       "</style>\n",
       "<table border=\"1\" class=\"dataframe\">\n",
       "  <thead>\n",
       "    <tr style=\"text-align: right;\">\n",
       "      <th></th>\n",
       "      <th>year</th>\n",
       "      <th>month</th>\n",
       "      <th>date</th>\n",
       "      <th>total_rainfall</th>\n",
       "      <th>rainy_days</th>\n",
       "      <th>max_rainfall</th>\n",
       "    </tr>\n",
       "  </thead>\n",
       "  <tbody>\n",
       "    <tr>\n",
       "      <th>19</th>\n",
       "      <td>1983</td>\n",
       "      <td>08</td>\n",
       "      <td>1983-08-01</td>\n",
       "      <td>262.2</td>\n",
       "      <td>10</td>\n",
       "      <td>181.8</td>\n",
       "    </tr>\n",
       "    <tr>\n",
       "      <th>23</th>\n",
       "      <td>1983</td>\n",
       "      <td>12</td>\n",
       "      <td>1983-12-01</td>\n",
       "      <td>370.6</td>\n",
       "      <td>16</td>\n",
       "      <td>164.4</td>\n",
       "    </tr>\n",
       "    <tr>\n",
       "      <th>25</th>\n",
       "      <td>1984</td>\n",
       "      <td>02</td>\n",
       "      <td>1984-02-01</td>\n",
       "      <td>470.4</td>\n",
       "      <td>19</td>\n",
       "      <td>154.4</td>\n",
       "    </tr>\n",
       "    <tr>\n",
       "      <th>26</th>\n",
       "      <td>1984</td>\n",
       "      <td>03</td>\n",
       "      <td>1984-03-01</td>\n",
       "      <td>361.3</td>\n",
       "      <td>19</td>\n",
       "      <td>119.4</td>\n",
       "    </tr>\n",
       "    <tr>\n",
       "      <th>29</th>\n",
       "      <td>1984</td>\n",
       "      <td>06</td>\n",
       "      <td>1984-06-01</td>\n",
       "      <td>255.0</td>\n",
       "      <td>14</td>\n",
       "      <td>121.1</td>\n",
       "    </tr>\n",
       "    <tr>\n",
       "      <th>59</th>\n",
       "      <td>1986</td>\n",
       "      <td>12</td>\n",
       "      <td>1986-12-01</td>\n",
       "      <td>367.2</td>\n",
       "      <td>16</td>\n",
       "      <td>131.7</td>\n",
       "    </tr>\n",
       "    <tr>\n",
       "      <th>60</th>\n",
       "      <td>1987</td>\n",
       "      <td>01</td>\n",
       "      <td>1987-01-01</td>\n",
       "      <td>568.6</td>\n",
       "      <td>16</td>\n",
       "      <td>127.4</td>\n",
       "    </tr>\n",
       "    <tr>\n",
       "      <th>80</th>\n",
       "      <td>1988</td>\n",
       "      <td>09</td>\n",
       "      <td>1988-09-01</td>\n",
       "      <td>440.4</td>\n",
       "      <td>14</td>\n",
       "      <td>187.3</td>\n",
       "    </tr>\n",
       "    <tr>\n",
       "      <th>94</th>\n",
       "      <td>1989</td>\n",
       "      <td>11</td>\n",
       "      <td>1989-11-01</td>\n",
       "      <td>508.4</td>\n",
       "      <td>20</td>\n",
       "      <td>148.6</td>\n",
       "    </tr>\n",
       "    <tr>\n",
       "      <th>100</th>\n",
       "      <td>1990</td>\n",
       "      <td>05</td>\n",
       "      <td>1990-05-01</td>\n",
       "      <td>180.1</td>\n",
       "      <td>11</td>\n",
       "      <td>153.7</td>\n",
       "    </tr>\n",
       "    <tr>\n",
       "      <th>115</th>\n",
       "      <td>1991</td>\n",
       "      <td>08</td>\n",
       "      <td>1991-08-01</td>\n",
       "      <td>226.2</td>\n",
       "      <td>8</td>\n",
       "      <td>129.9</td>\n",
       "    </tr>\n",
       "    <tr>\n",
       "      <th>130</th>\n",
       "      <td>1992</td>\n",
       "      <td>11</td>\n",
       "      <td>1992-11-01</td>\n",
       "      <td>474.3</td>\n",
       "      <td>18</td>\n",
       "      <td>120.6</td>\n",
       "    </tr>\n",
       "    <tr>\n",
       "      <th>154</th>\n",
       "      <td>1994</td>\n",
       "      <td>11</td>\n",
       "      <td>1994-11-01</td>\n",
       "      <td>322.2</td>\n",
       "      <td>21</td>\n",
       "      <td>178.3</td>\n",
       "    </tr>\n",
       "    <tr>\n",
       "      <th>155</th>\n",
       "      <td>1994</td>\n",
       "      <td>12</td>\n",
       "      <td>1994-12-01</td>\n",
       "      <td>425.4</td>\n",
       "      <td>18</td>\n",
       "      <td>133.8</td>\n",
       "    </tr>\n",
       "    <tr>\n",
       "      <th>157</th>\n",
       "      <td>1995</td>\n",
       "      <td>02</td>\n",
       "      <td>1995-02-01</td>\n",
       "      <td>334.0</td>\n",
       "      <td>16</td>\n",
       "      <td>159.3</td>\n",
       "    </tr>\n",
       "    <tr>\n",
       "      <th>166</th>\n",
       "      <td>1995</td>\n",
       "      <td>11</td>\n",
       "      <td>1995-11-01</td>\n",
       "      <td>372.8</td>\n",
       "      <td>20</td>\n",
       "      <td>198.6</td>\n",
       "    </tr>\n",
       "    <tr>\n",
       "      <th>216</th>\n",
       "      <td>2000</td>\n",
       "      <td>01</td>\n",
       "      <td>2000-01-01</td>\n",
       "      <td>275.2</td>\n",
       "      <td>14</td>\n",
       "      <td>127.6</td>\n",
       "    </tr>\n",
       "    <tr>\n",
       "      <th>228</th>\n",
       "      <td>2001</td>\n",
       "      <td>01</td>\n",
       "      <td>2001-01-01</td>\n",
       "      <td>425.8</td>\n",
       "      <td>21</td>\n",
       "      <td>125.4</td>\n",
       "    </tr>\n",
       "    <tr>\n",
       "      <th>239</th>\n",
       "      <td>2001</td>\n",
       "      <td>12</td>\n",
       "      <td>2001-12-01</td>\n",
       "      <td>609.0</td>\n",
       "      <td>20</td>\n",
       "      <td>211.1</td>\n",
       "    </tr>\n",
       "    <tr>\n",
       "      <th>252</th>\n",
       "      <td>2003</td>\n",
       "      <td>01</td>\n",
       "      <td>2003-01-01</td>\n",
       "      <td>444.2</td>\n",
       "      <td>20</td>\n",
       "      <td>194.4</td>\n",
       "    </tr>\n",
       "    <tr>\n",
       "      <th>264</th>\n",
       "      <td>2004</td>\n",
       "      <td>01</td>\n",
       "      <td>2004-01-01</td>\n",
       "      <td>600.9</td>\n",
       "      <td>13</td>\n",
       "      <td>177.8</td>\n",
       "    </tr>\n",
       "    <tr>\n",
       "      <th>266</th>\n",
       "      <td>2004</td>\n",
       "      <td>03</td>\n",
       "      <td>2004-03-01</td>\n",
       "      <td>269.4</td>\n",
       "      <td>16</td>\n",
       "      <td>122.8</td>\n",
       "    </tr>\n",
       "    <tr>\n",
       "      <th>286</th>\n",
       "      <td>2005</td>\n",
       "      <td>11</td>\n",
       "      <td>2005-11-01</td>\n",
       "      <td>362.9</td>\n",
       "      <td>23</td>\n",
       "      <td>133.8</td>\n",
       "    </tr>\n",
       "    <tr>\n",
       "      <th>288</th>\n",
       "      <td>2006</td>\n",
       "      <td>01</td>\n",
       "      <td>2006-01-01</td>\n",
       "      <td>454.4</td>\n",
       "      <td>20</td>\n",
       "      <td>131.7</td>\n",
       "    </tr>\n",
       "    <tr>\n",
       "      <th>299</th>\n",
       "      <td>2006</td>\n",
       "      <td>12</td>\n",
       "      <td>2006-12-01</td>\n",
       "      <td>765.9</td>\n",
       "      <td>22</td>\n",
       "      <td>198.0</td>\n",
       "    </tr>\n",
       "    <tr>\n",
       "      <th>300</th>\n",
       "      <td>2007</td>\n",
       "      <td>01</td>\n",
       "      <td>2007-01-01</td>\n",
       "      <td>450.1</td>\n",
       "      <td>20</td>\n",
       "      <td>143.8</td>\n",
       "    </tr>\n",
       "    <tr>\n",
       "      <th>311</th>\n",
       "      <td>2007</td>\n",
       "      <td>12</td>\n",
       "      <td>2007-12-01</td>\n",
       "      <td>468.6</td>\n",
       "      <td>20</td>\n",
       "      <td>159.0</td>\n",
       "    </tr>\n",
       "    <tr>\n",
       "      <th>312</th>\n",
       "      <td>2008</td>\n",
       "      <td>01</td>\n",
       "      <td>2008-01-01</td>\n",
       "      <td>262.6</td>\n",
       "      <td>19</td>\n",
       "      <td>123.1</td>\n",
       "    </tr>\n",
       "    <tr>\n",
       "      <th>319</th>\n",
       "      <td>2008</td>\n",
       "      <td>08</td>\n",
       "      <td>2008-08-01</td>\n",
       "      <td>327.3</td>\n",
       "      <td>18</td>\n",
       "      <td>133.9</td>\n",
       "    </tr>\n",
       "    <tr>\n",
       "      <th>342</th>\n",
       "      <td>2010</td>\n",
       "      <td>07</td>\n",
       "      <td>2010-07-01</td>\n",
       "      <td>298.5</td>\n",
       "      <td>18</td>\n",
       "      <td>121.1</td>\n",
       "    </tr>\n",
       "    <tr>\n",
       "      <th>348</th>\n",
       "      <td>2011</td>\n",
       "      <td>01</td>\n",
       "      <td>2011-01-01</td>\n",
       "      <td>513.2</td>\n",
       "      <td>17</td>\n",
       "      <td>216.2</td>\n",
       "    </tr>\n",
       "    <tr>\n",
       "      <th>381</th>\n",
       "      <td>2013</td>\n",
       "      <td>10</td>\n",
       "      <td>2013-10-01</td>\n",
       "      <td>285.4</td>\n",
       "      <td>19</td>\n",
       "      <td>139.8</td>\n",
       "    </tr>\n",
       "    <tr>\n",
       "      <th>383</th>\n",
       "      <td>2013</td>\n",
       "      <td>12</td>\n",
       "      <td>2013-12-01</td>\n",
       "      <td>348.2</td>\n",
       "      <td>21</td>\n",
       "      <td>119.8</td>\n",
       "    </tr>\n",
       "    <tr>\n",
       "      <th>468</th>\n",
       "      <td>2021</td>\n",
       "      <td>01</td>\n",
       "      <td>2021-01-01</td>\n",
       "      <td>692.8</td>\n",
       "      <td>17</td>\n",
       "      <td>210.6</td>\n",
       "    </tr>\n",
       "  </tbody>\n",
       "</table>\n",
       "</div>"
      ],
      "text/plain": [
       "     year month       date  total_rainfall  rainy_days  max_rainfall\n",
       "19   1983    08 1983-08-01           262.2          10         181.8\n",
       "23   1983    12 1983-12-01           370.6          16         164.4\n",
       "25   1984    02 1984-02-01           470.4          19         154.4\n",
       "26   1984    03 1984-03-01           361.3          19         119.4\n",
       "29   1984    06 1984-06-01           255.0          14         121.1\n",
       "59   1986    12 1986-12-01           367.2          16         131.7\n",
       "60   1987    01 1987-01-01           568.6          16         127.4\n",
       "80   1988    09 1988-09-01           440.4          14         187.3\n",
       "94   1989    11 1989-11-01           508.4          20         148.6\n",
       "100  1990    05 1990-05-01           180.1          11         153.7\n",
       "115  1991    08 1991-08-01           226.2           8         129.9\n",
       "130  1992    11 1992-11-01           474.3          18         120.6\n",
       "154  1994    11 1994-11-01           322.2          21         178.3\n",
       "155  1994    12 1994-12-01           425.4          18         133.8\n",
       "157  1995    02 1995-02-01           334.0          16         159.3\n",
       "166  1995    11 1995-11-01           372.8          20         198.6\n",
       "216  2000    01 2000-01-01           275.2          14         127.6\n",
       "228  2001    01 2001-01-01           425.8          21         125.4\n",
       "239  2001    12 2001-12-01           609.0          20         211.1\n",
       "252  2003    01 2003-01-01           444.2          20         194.4\n",
       "264  2004    01 2004-01-01           600.9          13         177.8\n",
       "266  2004    03 2004-03-01           269.4          16         122.8\n",
       "286  2005    11 2005-11-01           362.9          23         133.8\n",
       "288  2006    01 2006-01-01           454.4          20         131.7\n",
       "299  2006    12 2006-12-01           765.9          22         198.0\n",
       "300  2007    01 2007-01-01           450.1          20         143.8\n",
       "311  2007    12 2007-12-01           468.6          20         159.0\n",
       "312  2008    01 2008-01-01           262.6          19         123.1\n",
       "319  2008    08 2008-08-01           327.3          18         133.9\n",
       "342  2010    07 2010-07-01           298.5          18         121.1\n",
       "348  2011    01 2011-01-01           513.2          17         216.2\n",
       "381  2013    10 2013-10-01           285.4          19         139.8\n",
       "383  2013    12 2013-12-01           348.2          21         119.8\n",
       "468  2021    01 2021-01-01           692.8          17         210.6"
      ]
     },
     "execution_count": 314,
     "metadata": {},
     "output_type": "execute_result"
    }
   ],
   "source": [
    "# find out the outlier months of max_rainfall\n",
    "merged_df.loc[merged_df['max_rainfall'] > 112]\n",
    "\n",
    "# looks a little random here, we can find out more through other analysis"
   ]
  },
  {
   "cell_type": "code",
   "execution_count": 317,
   "metadata": {},
   "outputs": [
    {
     "data": {
      "text/plain": [
       "<AxesSubplot: >"
      ]
     },
     "execution_count": 317,
     "metadata": {},
     "output_type": "execute_result"
    },
    {
     "data": {
      "image/png": "[encoded data removed]",
      "text/plain": [
       "<Figure size 640x480 with 1 Axes>"
      ]
     },
     "metadata": {},
     "output_type": "display_data"
    }
   ],
   "source": [
    "# find out if rainy_days has outliers\n",
    "sns.boxplot(merged_df['rainy_days'], orient='h') \n",
    "\n",
    "# looks like there is no outliers for this set of values"
   ]
  },
  {
   "cell_type": "markdown",
   "metadata": {
    "tags": []
   },
   "source": [
    "## Visualize the Data\n",
    "\n",
    "There's not a magic bullet recommendation for the right number of plots to understand a given dataset, but visualizing your data is *always* a good idea. Not only does it allow you to quickly convey your findings (even if you have a non-technical audience), it will often reveal trends in your data that escaped you when you were looking only at numbers. It is important to not only create visualizations, but to **interpret your visualizations** as well.\n",
    "\n",
    "**Every plot should**:\n",
    "- Have a title\n",
    "- Have axis labels\n",
    "- Have appropriate tick labels\n",
    "- Text is legible in a plot\n",
    "- Plots demonstrate meaningful and valid relationships\n",
    "- Have an interpretation to aid understanding\n",
    "\n",
    "Here is an example of what your plots should look like following the above guidelines. Note that while the content of this example is unrelated, the principles of visualization hold:\n",
    "\n",
    "![](https://snag.gy/hCBR1U.jpg)\n",
    "*Interpretation: The above image shows that as we increase our spending on advertising, our sales numbers also tend to increase. There is a positive correlation between advertising spending and sales.*\n",
    "\n",
    "---\n",
    "\n",
    "Here are some prompts to get you started with visualizations. Feel free to add additional visualizations as you see fit:\n",
    "1. Use Seaborn's heatmap with pandas `.corr()` to visualize correlations between all numeric features.\n",
    "    - Heatmaps are generally not appropriate for presentations, and should often be excluded from reports as they can be visually overwhelming. **However**, they can be extremely useful in identify relationships of potential interest (as well as identifying potential collinearity before modeling).\n",
    "    - Please take time to format your output, adding a title. Look through some of the additional arguments and options. (Axis labels aren't really necessary, as long as the title is informative).\n",
    "2. Visualize distributions using histograms. If you have a lot, consider writing a custom function and use subplots.\n",
    "    - *OPTIONAL*: Summarize the underlying distributions of your features (in words & statistics)\n",
    "         - Be thorough in your verbal description of these distributions.\n",
    "         - Be sure to back up these summaries with statistics.\n",
    "         - We generally assume that data we sample from a population will be normally distributed. Do we observe this trend? Explain your answers for each distribution and how you think this will affect estimates made from these data.\n",
    "3. Plot and interpret boxplots. \n",
    "    - Boxplots demonstrate central tendency and spread in variables. In a certain sense, these are somewhat redundant with histograms, but you may be better able to identify clear outliers or differences in IQR, etc.\n",
    "    - Multiple values can be plotted to a single boxplot as long as they are of the same relative scale (meaning they have similar min/max values).\n",
    "    - Each boxplot should:\n",
    "        - Only include variables of a similar scale\n",
    "        - Have clear labels for each variable\n",
    "        - Have appropriate titles and labels\n",
    "4. Plot and interpret scatter plots to view relationships between features. Feel free to write a custom function, and subplot if you'd like. Functions save both time and space.\n",
    "    - Your plots should have:\n",
    "        - Two clearly labeled axes\n",
    "        - A proper title\n",
    "        - Colors and symbols that are clear and unmistakable\n",
    "5. Additional plots of your choosing.\n",
    "    - Are there any additional trends or relationships you haven't explored? Was there something interesting you saw that you'd like to dive further into? It's likely that there are a few more plots you might want to generate to support your narrative and recommendations that you are building toward. **As always, make sure you're interpreting your plots as you go**."
   ]
  },
  {
   "cell_type": "markdown",
   "metadata": {},
   "source": [
    "Some ideas for plots that can be generated:\n",
    "\n",
    "- Plot the histogram of the rainfall data with various bins and comment on the distribution of the data - is it centered, skewed?\n",
    "- Plot the box-and-whiskers plot. Comment on the different quartiles and identify any outliers in the dataset. \n",
    "- Is there a correlation between the number of rainy days and total rainfall in the month? What kind of correlation do your suspect? Does the graph show the same?\n"
   ]
  },
  {
   "cell_type": "code",
   "execution_count": null,
   "metadata": {},
   "outputs": [],
   "source": [
    "# More ideas on the plots that can be generated\n",
    "'''\n",
    "1. Are there any correlation between the values? (total nrainfall per month, and max rainfall in a day, number of rainy days)\n",
    "2. If yes, what are their correlation?\n",
    "3. What are the years of dry season? use lines to indicate dry seasons\n",
    "5. does it coincide with epidermic curve? if yes, why? if not, why not?\n",
    "'''"
   ]
  },
  {
   "cell_type": "code",
   "execution_count": 346,
   "metadata": {
    "tags": []
   },
   "outputs": [
    {
     "data": {
      "text/plain": [
       "<seaborn.axisgrid.FacetGrid at 0x16381c520>"
      ]
     },
     "execution_count": 346,
     "metadata": {},
     "output_type": "execute_result"
    },
    {
     "data": {
      "image/png": "[encoded data removed]",
      "text/plain": [
       "<Figure size 500x500 with 1 Axes>"
      ]
     },
     "metadata": {},
     "output_type": "display_data"
    }
   ],
   "source": [
    "# is there seasonability in total rainfall? find out rainfall by month\n",
    "sns.catplot(data=merged_df, x='month', y='total_rainfall', kind='bar')"
   ]
  },
  {
   "cell_type": "markdown",
   "metadata": {},
   "source": [
    "*Total rainfall by months over the years*: Looks like the later months are those with higher total rainfall. \n",
    "\n",
    "We can study the seasonality by grouping them into different seasons"
   ]
  },
  {
   "cell_type": "code",
   "execution_count": null,
   "metadata": {},
   "outputs": [],
   "source": [
    "# put the season's data here"
   ]
  },
  {
   "cell_type": "code",
   "execution_count": 355,
   "metadata": {},
   "outputs": [
    {
     "name": "stderr",
     "output_type": "stream",
     "text": [
      "/var/folders/t4/n89gfp4s10b4j476kq4xh2p00000gn/T/ipykernel_2432/2213643248.py:2: FutureWarning: The default value of numeric_only in DataFrame.corr is deprecated. In a future version, it will default to False. Select only valid columns or specify the value of numeric_only to silence this warning.\n",
      "  corr = merged_df.corr()\n"
     ]
    },
    {
     "data": {
      "text/plain": [
       "<AxesSubplot: >"
      ]
     },
     "execution_count": 355,
     "metadata": {},
     "output_type": "execute_result"
    },
    {
     "data": {
      "image/png": "[encoded data removed]",
      "text/plain": [
       "<Figure size 640x480 with 2 Axes>"
      ]
     },
     "metadata": {},
     "output_type": "display_data"
    }
   ],
   "source": [
    "# find out corr between highest daily rainfall and max rainfall\n",
    "corr = merged_df.corr()\n",
    "sns.heatmap(corr, annot=True, cmap=\"crest\")"
   ]
  },
  {
   "cell_type": "code",
   "execution_count": 332,
   "metadata": {
    "collapsed": true,
    "jupyter": {
     "outputs_hidden": true
    },
    "tags": []
   },
   "outputs": [
    {
     "data": {
      "image/png": "[encoded data removed]",
      "text/plain": [
       "<Figure size 640x480 with 1 Axes>"
      ]
     },
     "metadata": {},
     "output_type": "display_data"
    }
   ],
   "source": [
    "# histrogram of the total rainfall in mm\n",
    "# mean is 177.16 mm\n",
    "sns.histplot(merged_df['total_rainfall'], bins = 25, kde = True);"
   ]
  },
  {
   "cell_type": "code",
   "execution_count": 335,
   "metadata": {},
   "outputs": [
    {
     "data": {
      "text/plain": [
       "177.1637295081967"
      ]
     },
     "execution_count": 335,
     "metadata": {},
     "output_type": "execute_result"
    }
   ],
   "source": [
    "merged_df['total_rainfall'].mean()"
   ]
  },
  {
   "cell_type": "code",
   "execution_count": 334,
   "metadata": {
    "collapsed": true,
    "jupyter": {
     "outputs_hidden": true
    },
    "tags": []
   },
   "outputs": [
    {
     "data": {
      "image/png": "[encoded data removed]",
      "text/plain": [
       "<Figure size 640x480 with 1 Axes>"
      ]
     },
     "metadata": {},
     "output_type": "display_data"
    }
   ],
   "source": [
    "sns.histplot(merged_df['max_rainfall'], bins = 25, kde = True);\n",
    "# mean amount of max rainfall is around 52mm per month"
   ]
  },
  {
   "cell_type": "code",
   "execution_count": 337,
   "metadata": {},
   "outputs": [
    {
     "data": {
      "text/plain": [
       "52.33217213114754"
      ]
     },
     "execution_count": 337,
     "metadata": {},
     "output_type": "execute_result"
    }
   ],
   "source": [
    "merged_df['max_rainfall'].mean()"
   ]
  },
  {
   "cell_type": "code",
   "execution_count": 349,
   "metadata": {
    "collapsed": true,
    "jupyter": {
     "outputs_hidden": true
    },
    "tags": []
   },
   "outputs": [
    {
     "data": {
      "text/plain": [
       "<matplotlib.collections.LineCollection at 0x163cc75b0>"
      ]
     },
     "execution_count": 349,
     "metadata": {},
     "output_type": "execute_result"
    },
    {
     "data": {
      "image/png": "[encoded data removed]",
      "text/plain": [
       "<Figure size 1600x900 with 2 Axes>"
      ]
     },
     "metadata": {},
     "output_type": "display_data"
    }
   ],
   "source": [
    "# Plot of rainfall in a month, and max rainfall in a single day\n",
    "plt.figure(figsize = (16,9))\n",
    "\n",
    "ax1 = plt.subplot(2,1,1)\n",
    "ax1.set_title('Total rainfall in a month')\n",
    "ax1.hist(merged_df['total_rainfall'])\n",
    "ax1.vlines(x = np.mean(merged_df['total_rainfall']), ymin=0, ymax=200, colors='magenta')\n",
    "\n",
    "ax2 = plt.subplot(2,1,2)\n",
    "ax2.set_title('Max rainfall of a single day in a month')\n",
    "ax2.hist(merged_df['max_rainfall'])\n",
    "ax2.vlines(x = np.mean(merged_df['max_rainfall']), ymin=0, ymax=200, colors='magenta')"
   ]
  },
  {
   "cell_type": "code",
   "execution_count": 333,
   "metadata": {
    "collapsed": true,
    "jupyter": {
     "outputs_hidden": true
    },
    "tags": []
   },
   "outputs": [
    {
     "data": {
      "image/png": "[encoded data removed]",
      "text/plain": [
       "<Figure size 640x480 with 1 Axes>"
      ]
     },
     "metadata": {},
     "output_type": "display_data"
    }
   ],
   "source": [
    "sns.histplot(merged_df['rainy_days'], bins = 25, kde = True);"
   ]
  },
  {
   "cell_type": "code",
   "execution_count": 336,
   "metadata": {},
   "outputs": [
    {
     "data": {
      "text/plain": [
       "14.061475409836065"
      ]
     },
     "execution_count": 336,
     "metadata": {},
     "output_type": "execute_result"
    }
   ],
   "source": [
    "merged_df['rainy_days'].mean()\n",
    "# the mean number of rainy days is around 14 days in a month"
   ]
  },
  {
   "cell_type": "code",
   "execution_count": 377,
   "metadata": {},
   "outputs": [
    {
     "data": {
      "text/html": [
       "<div>\n",
       "<style scoped>\n",
       "    .dataframe tbody tr th:only-of-type {\n",
       "        vertical-align: middle;\n",
       "    }\n",
       "\n",
       "    .dataframe tbody tr th {\n",
       "        vertical-align: top;\n",
       "    }\n",
       "\n",
       "    .dataframe thead th {\n",
       "        text-align: right;\n",
       "    }\n",
       "</style>\n",
       "<table border=\"1\" class=\"dataframe\">\n",
       "  <thead>\n",
       "    <tr style=\"text-align: right;\">\n",
       "      <th></th>\n",
       "      <th>year</th>\n",
       "      <th>month</th>\n",
       "      <th>date</th>\n",
       "      <th>total_rainfall</th>\n",
       "      <th>rainy_days</th>\n",
       "      <th>max_rainfall</th>\n",
       "    </tr>\n",
       "  </thead>\n",
       "  <tbody>\n",
       "    <tr>\n",
       "      <th>483</th>\n",
       "      <td>2022</td>\n",
       "      <td>04</td>\n",
       "      <td>2022-04-01</td>\n",
       "      <td>239.6</td>\n",
       "      <td>18</td>\n",
       "      <td>58.8</td>\n",
       "    </tr>\n",
       "    <tr>\n",
       "      <th>484</th>\n",
       "      <td>2022</td>\n",
       "      <td>05</td>\n",
       "      <td>2022-05-01</td>\n",
       "      <td>102.0</td>\n",
       "      <td>12</td>\n",
       "      <td>44.6</td>\n",
       "    </tr>\n",
       "    <tr>\n",
       "      <th>485</th>\n",
       "      <td>2022</td>\n",
       "      <td>06</td>\n",
       "      <td>2022-06-01</td>\n",
       "      <td>211.8</td>\n",
       "      <td>17</td>\n",
       "      <td>59.4</td>\n",
       "    </tr>\n",
       "    <tr>\n",
       "      <th>486</th>\n",
       "      <td>2022</td>\n",
       "      <td>07</td>\n",
       "      <td>2022-07-01</td>\n",
       "      <td>145.2</td>\n",
       "      <td>16</td>\n",
       "      <td>27.8</td>\n",
       "    </tr>\n",
       "    <tr>\n",
       "      <th>487</th>\n",
       "      <td>2022</td>\n",
       "      <td>08</td>\n",
       "      <td>2022-08-01</td>\n",
       "      <td>141.4</td>\n",
       "      <td>15</td>\n",
       "      <td>32.4</td>\n",
       "    </tr>\n",
       "  </tbody>\n",
       "</table>\n",
       "</div>"
      ],
      "text/plain": [
       "     year month       date  total_rainfall  rainy_days  max_rainfall\n",
       "483  2022    04 2022-04-01           239.6          18          58.8\n",
       "484  2022    05 2022-05-01           102.0          12          44.6\n",
       "485  2022    06 2022-06-01           211.8          17          59.4\n",
       "486  2022    07 2022-07-01           145.2          16          27.8\n",
       "487  2022    08 2022-08-01           141.4          15          32.4"
      ]
     },
     "execution_count": 377,
     "metadata": {},
     "output_type": "execute_result"
    }
   ],
   "source": [
    "merged_df.tail()"
   ]
  },
  {
   "cell_type": "code",
   "execution_count": 384,
   "metadata": {},
   "outputs": [
    {
     "data": {
      "text/html": [
       "<div>\n",
       "<style scoped>\n",
       "    .dataframe tbody tr th:only-of-type {\n",
       "        vertical-align: middle;\n",
       "    }\n",
       "\n",
       "    .dataframe tbody tr th {\n",
       "        vertical-align: top;\n",
       "    }\n",
       "\n",
       "    .dataframe thead th {\n",
       "        text-align: right;\n",
       "    }\n",
       "</style>\n",
       "<table border=\"1\" class=\"dataframe\">\n",
       "  <thead>\n",
       "    <tr style=\"text-align: right;\">\n",
       "      <th></th>\n",
       "      <th>year</th>\n",
       "      <th>month</th>\n",
       "      <th>date</th>\n",
       "      <th>total_rainfall</th>\n",
       "      <th>rainy_days</th>\n",
       "      <th>max_rainfall</th>\n",
       "    </tr>\n",
       "  </thead>\n",
       "  <tbody>\n",
       "    <tr>\n",
       "      <th>384</th>\n",
       "      <td>2014</td>\n",
       "      <td>01</td>\n",
       "      <td>2014-01-01</td>\n",
       "      <td>75.4</td>\n",
       "      <td>5</td>\n",
       "      <td>31.2</td>\n",
       "    </tr>\n",
       "    <tr>\n",
       "      <th>385</th>\n",
       "      <td>2014</td>\n",
       "      <td>02</td>\n",
       "      <td>2014-02-01</td>\n",
       "      <td>0.2</td>\n",
       "      <td>1</td>\n",
       "      <td>0.2</td>\n",
       "    </tr>\n",
       "    <tr>\n",
       "      <th>386</th>\n",
       "      <td>2014</td>\n",
       "      <td>03</td>\n",
       "      <td>2014-03-01</td>\n",
       "      <td>66.0</td>\n",
       "      <td>6</td>\n",
       "      <td>52.6</td>\n",
       "    </tr>\n",
       "    <tr>\n",
       "      <th>387</th>\n",
       "      <td>2014</td>\n",
       "      <td>04</td>\n",
       "      <td>2014-04-01</td>\n",
       "      <td>110.0</td>\n",
       "      <td>17</td>\n",
       "      <td>28.8</td>\n",
       "    </tr>\n",
       "    <tr>\n",
       "      <th>388</th>\n",
       "      <td>2014</td>\n",
       "      <td>05</td>\n",
       "      <td>2014-05-01</td>\n",
       "      <td>125.8</td>\n",
       "      <td>18</td>\n",
       "      <td>22.2</td>\n",
       "    </tr>\n",
       "    <tr>\n",
       "      <th>389</th>\n",
       "      <td>2014</td>\n",
       "      <td>06</td>\n",
       "      <td>2014-06-01</td>\n",
       "      <td>71.4</td>\n",
       "      <td>11</td>\n",
       "      <td>18.8</td>\n",
       "    </tr>\n",
       "    <tr>\n",
       "      <th>390</th>\n",
       "      <td>2014</td>\n",
       "      <td>07</td>\n",
       "      <td>2014-07-01</td>\n",
       "      <td>148.6</td>\n",
       "      <td>15</td>\n",
       "      <td>29.0</td>\n",
       "    </tr>\n",
       "    <tr>\n",
       "      <th>391</th>\n",
       "      <td>2014</td>\n",
       "      <td>08</td>\n",
       "      <td>2014-08-01</td>\n",
       "      <td>241.0</td>\n",
       "      <td>20</td>\n",
       "      <td>44.2</td>\n",
       "    </tr>\n",
       "    <tr>\n",
       "      <th>392</th>\n",
       "      <td>2014</td>\n",
       "      <td>09</td>\n",
       "      <td>2014-09-01</td>\n",
       "      <td>83.6</td>\n",
       "      <td>9</td>\n",
       "      <td>34.6</td>\n",
       "    </tr>\n",
       "    <tr>\n",
       "      <th>393</th>\n",
       "      <td>2014</td>\n",
       "      <td>10</td>\n",
       "      <td>2014-10-01</td>\n",
       "      <td>120.0</td>\n",
       "      <td>10</td>\n",
       "      <td>32.8</td>\n",
       "    </tr>\n",
       "    <tr>\n",
       "      <th>394</th>\n",
       "      <td>2014</td>\n",
       "      <td>11</td>\n",
       "      <td>2014-11-01</td>\n",
       "      <td>250.8</td>\n",
       "      <td>23</td>\n",
       "      <td>64.4</td>\n",
       "    </tr>\n",
       "    <tr>\n",
       "      <th>395</th>\n",
       "      <td>2014</td>\n",
       "      <td>12</td>\n",
       "      <td>2014-12-01</td>\n",
       "      <td>245.6</td>\n",
       "      <td>17</td>\n",
       "      <td>48.2</td>\n",
       "    </tr>\n",
       "  </tbody>\n",
       "</table>\n",
       "</div>"
      ],
      "text/plain": [
       "     year month       date  total_rainfall  rainy_days  max_rainfall\n",
       "384  2014    01 2014-01-01            75.4           5          31.2\n",
       "385  2014    02 2014-02-01             0.2           1           0.2\n",
       "386  2014    03 2014-03-01            66.0           6          52.6\n",
       "387  2014    04 2014-04-01           110.0          17          28.8\n",
       "388  2014    05 2014-05-01           125.8          18          22.2\n",
       "389  2014    06 2014-06-01            71.4          11          18.8\n",
       "390  2014    07 2014-07-01           148.6          15          29.0\n",
       "391  2014    08 2014-08-01           241.0          20          44.2\n",
       "392  2014    09 2014-09-01            83.6           9          34.6\n",
       "393  2014    10 2014-10-01           120.0          10          32.8\n",
       "394  2014    11 2014-11-01           250.8          23          64.4\n",
       "395  2014    12 2014-12-01           245.6          17          48.2"
      ]
     },
     "execution_count": 384,
     "metadata": {},
     "output_type": "execute_result"
    }
   ],
   "source": [
    "merged_df[merged_df['year']=='2014']"
   ]
  },
  {
   "cell_type": "code",
   "execution_count": null,
   "metadata": {},
   "outputs": [],
   "source": []
  },
  {
   "cell_type": "code",
   "execution_count": null,
   "metadata": {},
   "outputs": [],
   "source": []
  },
  {
   "cell_type": "code",
   "execution_count": null,
   "metadata": {},
   "outputs": [],
   "source": []
  },
  {
   "cell_type": "code",
   "execution_count": null,
   "metadata": {},
   "outputs": [],
   "source": []
  },
  {
   "cell_type": "code",
   "execution_count": null,
   "metadata": {},
   "outputs": [],
   "source": []
  },
  {
   "cell_type": "code",
   "execution_count": null,
   "metadata": {},
   "outputs": [],
   "source": []
  },
  {
   "cell_type": "markdown",
   "metadata": {},
   "source": [
    "## Conclusions and Recommendations"
   ]
  },
  {
   "cell_type": "markdown",
   "metadata": {},
   "source": [
    "Based on your exploration of the data, what are you key takeaways and recommendations? Make sure to answer your question of interest or address your problem statement here."
   ]
  },
  {
   "cell_type": "markdown",
   "metadata": {},
   "source": [
    "**To-Do:** *Edit this cell with your conclusions and recommendations.*"
   ]
  },
  {
   "cell_type": "markdown",
   "metadata": {},
   "source": [
    "Don't forget to create your README!\n",
    "\n",
    "**To-Do:** *If you combine your problem statement, data dictionary, brief summary of your analysis, and conclusions/recommendations, you have an amazing README.md file that quickly aligns your audience to the contents of your project.* Don't forget to cite your data sources!"
   ]
  }
 ],
 "metadata": {
  "anaconda-cloud": {},
  "kernelspec": {
   "display_name": "dsi-sg",
   "language": "python",
   "name": "dsi-sg"
  },
  "language_info": {
   "codemirror_mode": {
    "name": "ipython",
    "version": 3
   },
   "file_extension": ".py",
   "mimetype": "text/x-python",
   "name": "python",
   "nbconvert_exporter": "python",
   "pygments_lexer": "ipython3",
   "version": "3.9.13"
  }
 },
 "nbformat": 4,
 "nbformat_minor": 4
}
